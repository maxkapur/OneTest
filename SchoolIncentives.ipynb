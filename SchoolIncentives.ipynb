{
 "cells": [
  {
   "cell_type": "markdown",
   "metadata": {},
   "source": [
    "# School objective functions\n",
    "\n",
    "Max Kapur | [maxkapur.com](https://www.maxkapur.com/)\n",
    "\n",
    "*N.B.* This is a working document, more of a set of personal notes than a finished product. Please see my other Github repositories or the paper included in this repo for somewhat more polished discussions of admissions markets.\n",
    "\n",
    "------\n",
    "\n",
    "Previous research has dodged the notion of school objective functions because it is hard to define a total ordering over the set of sets of students. However, it is worth considering what forms such objective functions could take, and attempting to inverse optimize for their parameters.\n",
    "\n",
    "The possible \"ingredients\" of a school objective function are the cutoff $p$, the demand $D$, and the integral of scores over the set of admitted students $L$. $D$ and $L$ are functions of $p$. As argued in the paper, $L$ is shaped much like $D$, but lacks its desirable property of convexity, so I will disregard $L$ here. And $D$ is a function of $p$, so ultimately our school objectives $u_c$ will be too.\n",
    "\n",
    "The objective function should be increasing in $p$ and $D$, and it would be nice to have a parameter $\\sigma$ that expresses the school's preference for \"selectivity\" over \"large class size.\"\n",
    "\n",
    "It is apparent from the shape of the demand curve that a linear form such as $u_c= D_c + \\sigma p_c$ is unsuitable. Then the optimum will *always* occur at $p=0$ or $p=1$ (or both, in an edge case). \n",
    "\n",
    "Instead, consider the *product* $D_c \\cdot p_c^{\\sigma}$, which can have its optimum anywhere on the open segment. Taking the log, it suffices to assume each school wants to maximize the following utility function:\n",
    "\n",
    "$$u_c(p_c) = \\log D_c + \\sigma \\log p_c$$\n",
    "\n",
    "In this notebook, I show that this form of the utility function allows us to capture the heterogeneous behavior of schools in selecting their cutoffs. Although nonconcave, it is piecewise concave in a finite number of pieces, so finding the maximum is quite easy. It is also differentiable, so we can dream up a variety of iterative strategies. "
   ]
  },
  {
   "cell_type": "code",
   "execution_count": null,
   "metadata": {},
   "outputs": [],
   "source": [
    "push!(LOAD_PATH, pwd())\n",
    "using OneTest\n",
    "\n",
    "using Plots, Plots.PlotMeasures\n",
    "# using LaTeXStrings\n",
    "using LinearAlgebra\n",
    "# import DeferredAcceptance: deferredacceptance"
   ]
  },
  {
   "cell_type": "markdown",
   "metadata": {},
   "source": [
    "## Pallet Town\n",
    "\n",
    "We will use the toy market of Pallet Town to check out the shape of some objective functions. "
   ]
  },
  {
   "cell_type": "code",
   "execution_count": null,
   "metadata": {},
   "outputs": [],
   "source": [
    "ptown = Market(log.([1, 3, 2, 6]), [0.1, 0.2, 0.3, 0.2]) |> sort\n",
    "p_star = equilibrium(ptown)"
   ]
  },
  {
   "cell_type": "code",
   "execution_count": null,
   "metadata": {},
   "outputs": [],
   "source": [
    "ptown.gamma"
   ]
  },
  {
   "cell_type": "markdown",
   "metadata": {},
   "source": [
    "Since we are using the same kind of `Market` struct, it has a capacity built in. However, this isn't relevant to the notion of equilibrium considered here; instead we care about the taste parameters $\\sigma$. Below, I have just picked some random numbers; in this case, the market-clearing equilibrium for school 2 *also* happens to optimize its utility function, but this doesn't hold for the other schools."
   ]
  },
  {
   "cell_type": "code",
   "execution_count": null,
   "metadata": {},
   "outputs": [],
   "source": [
    "sigma = [0.9, 1.0, 3.0, 0.5]"
   ]
  },
  {
   "cell_type": "code",
   "execution_count": null,
   "metadata": {},
   "outputs": [],
   "source": [
    "\"\"\"\n",
    "    utility(market, sigma, p)\n",
    "\n",
    "Gives the value of each school's objective function ``u_c(p_c) = \\\\log D_c + σ \\\\log p_c``.\n",
    "\"\"\"\n",
    "function utility(market::Market, sigma::Union{<:AbstractFloat, Vector{<:AbstractFloat}}, p::Vector{<:AbstractFloat})\n",
    "    return log.(demand(market, p)) .+ sigma .* log.(p)\n",
    "end\n",
    "\n",
    "function plotdemandcurve(market::Market, c::Int; p_fix=nothing, st=0.005, sigma=1)\n",
    "    if p_fix === nothing\n",
    "        p_fix = equilibrium(market)\n",
    "    end\n",
    "    \n",
    "    p_try = 0:st:1\n",
    "    \n",
    "    dem = zeros(length(p_try))\n",
    "    app = zeros(length(p_try))\n",
    "    \n",
    "    for (i, pc) in enumerate(p_try)\n",
    "        p_store = p_fix[c]\n",
    "        p_fix[c] = pc\n",
    "        dem[i] = demand(market, p_fix)[c]\n",
    "        app[i] = appeal(market, p_fix)[c]\n",
    "        p_fix[c] = p_store\n",
    "    end\n",
    "    \n",
    "    utility = log.(dem[2:end-1]) + sigma * log.(p_try[2:end-1])\n",
    "    \n",
    "    # Just some affine scaling to make plot legible\n",
    "    utility .-= minimum(utility)\n",
    "    utility ./= maximum(utility)\n",
    "    utility .*= maximum(dem)\n",
    "\n",
    "    utility = [0, utility..., 0]\n",
    "\n",
    "    pl = plot(xlim = (0, 1), xlabel=\"p\", ylim=(0, 1.1*maximum(dem)), size=(700, 500), legend=:right)\n",
    "\n",
    "\n",
    "    vline!([p_fix[c]], color=:black, ls=:dash, lw=.75, label=\"current cutoff\")\n",
    "    plot!(p_try, dem, color=:rebeccapurple, lw=1.5, label=\"demand\")\n",
    "    plot!(p_try, app, color=:olivedrab, lw=1.5, label=\"appeal\")\n",
    "    plot!(p_try, utility, color=:gold, lw=1.5, label=\"utility\")\n",
    "\n",
    "    sigma = round(sigma, digits=3)\n",
    "    annotate!([(0.9, 0.1, text(\"σ = $sigma\", 9, :right))])\n",
    "        \n",
    "    return pl\n",
    "end\n",
    "\n",
    "plotdemandcurve(ptown, 2, sigma=1)"
   ]
  },
  {
   "cell_type": "code",
   "execution_count": null,
   "metadata": {},
   "outputs": [],
   "source": [
    "function plotdemandcurve_anim(market::Market, c::Int; p_fix=nothing, st=0.005, title=\"\")\n",
    "    if p_fix === nothing\n",
    "        p_fix = equilibrium(market)\n",
    "    end\n",
    "    \n",
    "    p_try = 0:st:1\n",
    "    \n",
    "    dem = zeros(length(p_try))\n",
    "    app = zeros(length(p_try))\n",
    "    \n",
    "    for (i, pc) in enumerate(p_try)\n",
    "        p_store = p_fix[c]\n",
    "        p_fix[c] = pc\n",
    "        dem[i] = demand(market, p_fix)[c]\n",
    "        app[i] = appeal(market, p_fix)[c]\n",
    "        p_fix[c] = p_store\n",
    "    end\n",
    "    \n",
    "    ran = 2 .^(-5:0.2:7)\n",
    "    pl = @animate for sigma in vcat(0, ran, reverse(ran)[2:end])\n",
    "\n",
    "        utility = log.(dem[2:end-1]) + sigma * log.(p_try[2:end-1])\n",
    "\n",
    "        # Just some affine scaling to make plot legible\n",
    "        utility .-= minimum(utility)\n",
    "        utility ./= maximum(utility)\n",
    "        utility .*= maximum(dem)\n",
    "        \n",
    "        utility = [0, utility..., 0]\n",
    "\n",
    "        plot(xlim = (0, 1), xlabel=\"p\", ylim=(0, 1.1*maximum(dem)), size=(700, 500), legend=:right,\n",
    "             title=title, titlefontsize=12)\n",
    "\n",
    "\n",
    "        vline!([p_fix[c]], color=:black, ls=:dash, lw=.75, label=\"current cutoff\")\n",
    "        plot!(p_try, dem, color=:rebeccapurple, lw=1.5, label=\"demand\")\n",
    "        plot!(p_try, app, color=:olivedrab, lw=1.5, label=\"appeal\")\n",
    "        plot!(p_try, utility, color=:gold, lw=1.5, label=\"utility\")\n",
    "        \n",
    "        sigma = round(sigma, digits=2)\n",
    "        annotate!([(0.8, 0.1, text(\"σ = $sigma\", 9, :left))])\n",
    "    end\n",
    "\n",
    "    return pl\n",
    "end\n",
    "\n",
    "gif(plotdemandcurve_anim(ptown, 2, title=\"Utility at School 2, Pallet Town\"), \"./SchoolIncentives/plots/var-sigma-utility.gif\", fps=15)"
   ]
  },
  {
   "cell_type": "markdown",
   "metadata": {},
   "source": [
    "## Reverse optimization of school objective functions\n",
    "\n",
    "The animation above suggests that as expected, the location of the optimum increases from just above zero to just below one as $\\sigma$ varies from just above zero to nearly infinity. \n",
    "\n",
    "This means that given the equilibrium cutoff of a given school and the demand function, we can use a secant method to find the value of $\\sigma$ for which the school's chosen cutoff is optimal. This will be different than the values of $\\sigma$ given above, although we can see from the graph that $\\sigma_2 = 1$. \n",
    "\n",
    "This will not work in every situation. It is clear from the graph above that there is no value of $\\sigma$ for which $p= 0.4$ is the maximizer. As $\\sigma$ passes from $1$ to $2$, there is a discontinuity where the location of the optimum jumps from around $0.37$ to $0.43$. \n",
    "\n",
    "On the other hand, this becomes less of an issue in a market with many schools, as can be seen in the following graph."
   ]
  },
  {
   "cell_type": "code",
   "execution_count": null,
   "metadata": {},
   "outputs": [],
   "source": [
    "mauville = Market(20)\n",
    "\n",
    "gif(plotdemandcurve_anim(mauville, 2, title=\"Utility at School 2, Mauville City\", p_fix=rand(length(mauville))), fps=15)"
   ]
  },
  {
   "cell_type": "code",
   "execution_count": null,
   "metadata": {},
   "outputs": [],
   "source": [
    "# In progress, July 5, 2021. "
   ]
  },
  {
   "cell_type": "markdown",
   "metadata": {},
   "source": [
    "## Incentive gradients and local equilibrium search\n",
    "\n",
    "With $u_c(p_c) = \\log D_c + \\sigma \\log p_c$, we have $$u'_c(p_c) = \\frac{1}{D_c} D'_c + \\frac{\\sigma}{p_c} = \\frac{1}{A_{c.} p + \\frac{1}{\\Gamma}\\gamma_c} A_{cc} + \\frac{\\sigma}{p_c}$$\n",
    "\n",
    "where $A$ is the demand matrix given in the paper, and $p$ is sorted."
   ]
  },
  {
   "cell_type": "code",
   "execution_count": null,
   "metadata": {},
   "outputs": [],
   "source": [
    "\"\"\"\n",
    "   incentivegradient(market, sigma, cutoffs)\n",
    "\n",
    "When each school's objective function is ``u_c(p_c) = \\\\log D_c + σ \\\\log p_c``,\n",
    "gives the gradient of each school's objective with respect to its own cutoff.\n",
    "\"\"\"\n",
    "function incentivegradient(mkt::Market, sigma, p)\n",
    "    A, sort_order = demandmatrix(mkt, p)\n",
    "    \n",
    "    grad = zeros(length(mkt))\n",
    "    grad[sort_order] = diag(A) ./ demand(mkt, p)[sort_order] .+ sigma[sort_order] ./ p[sort_order]\n",
    "    \n",
    "    return grad\n",
    "end\n",
    "\n",
    "\n",
    "incentivegradient(ptown, sigma, p_star)"
   ]
  },
  {
   "cell_type": "markdown",
   "metadata": {},
   "source": [
    "If the market is well-behaved, we can find local equilibria by following the incentive gradient at each school. Because the objective functions are not convex, these will only be local. Also, the derivative is undefined when $p = 0$ or $p=1$, so it is useful to use clamping to avoid these extremes."
   ]
  },
  {
   "cell_type": "code",
   "execution_count": null,
   "metadata": {},
   "outputs": [],
   "source": [
    "function localequilibriumsearch(mkt, sigma; maxit::Int=50, p0=nothing, rate=.005, damping=.2)\n",
    "    if p0===nothing\n",
    "        p = rand(length(mkt))\n",
    "    else\n",
    "        p = p0\n",
    "    end\n",
    "    \n",
    "    res = Vector[]\n",
    "    clamp = 1e-4\n",
    "    \n",
    "    for it in 1:maxit \n",
    "        push!(res, p)\n",
    "        grad = incentivegradient(mkt, sigma, p)\n",
    "        p = min.(1 - clamp, max.(clamp, p + rate * grad / it^damping))\n",
    "    end\n",
    "    \n",
    "    return res\n",
    "end\n",
    "    \n",
    "iterates = localequilibriumsearch(ptown, sigma; maxit=100, p0=fill(.5, length(ptown)))\n",
    "@show iterates[end]"
   ]
  },
  {
   "cell_type": "code",
   "execution_count": null,
   "metadata": {},
   "outputs": [],
   "source": [
    "function plotiterates(market, sigma, iterates, st=0.005)\n",
    "    p_try = 0:st:1\n",
    "    \n",
    "    res = @animate for (j, p_fix) in enumerate(iterates)\n",
    "        pl = plot(layout=length(market), size=(800, 600))\n",
    "        \n",
    "        for c in 1:length(market) \n",
    "\n",
    "            dem = zeros(length(p_try))\n",
    "            app = zeros(length(p_try))\n",
    "\n",
    "            for (i, pc) in enumerate(p_try)\n",
    "                p_store = p_fix[c]\n",
    "                p_fix[c] = pc\n",
    "                dem[i] = demand(market, p_fix)[c]\n",
    "                app[i] = appeal(market, p_fix)[c]\n",
    "                p_fix[c] = p_store\n",
    "            end\n",
    "            \n",
    "            \n",
    "            utility = log.(dem[2:end-1]) + sigma[c] * log.(p_try[2:end-1])\n",
    "\n",
    "            # Just some affine scaling to make plot legible\n",
    "            utility .-= minimum(utility)\n",
    "            utility ./= maximum(utility)\n",
    "            utility .*= maximum(dem)\n",
    "\n",
    "            utility = [0, utility..., 0]\n",
    "\n",
    "            plot!(pl, xlim = (0, 1), xlabel=\"p\", ylim=(0, 1.1*maximum(dem)), legend=:none, subplot=c)\n",
    "\n",
    "            vline!(pl, [p_fix[c]], color=:black, ls=:dash, lw=.75, label=\"current cutoff\", subplot=c)\n",
    "            plot!(pl, p_try, dem, color=:rebeccapurple, lw=1.5, label=\"demand\", subplot=c)\n",
    "            plot!(pl, p_try, app, color=:olivedrab, lw=1.5, label=\"appeal\", subplot=c)\n",
    "            plot!(pl, p_try, utility, color=:gold, lw=1.5, label=\"utility\", subplot=c)\n",
    "\n",
    "            s = round(sigma[c], digits=3)\n",
    "            annotate!(pl, [(0.9, 0.1, text(\"σ = $s\", 9, :right))], subplot=c)\n",
    "            \n",
    "        end\n",
    "        \n",
    "        plot!(pl, legend=:topright, subplots=2)\n",
    "        annotate!(pl, [(0.7, 0.05, text(\"iteration $j\", 10, :left, :steelblue))], subplots=2)\n",
    "    end\n",
    "    \n",
    "    return res\n",
    "end\n",
    "\n",
    "gif(plotiterates(ptown, sigma, iterates), fps=10)"
   ]
  },
  {
   "cell_type": "markdown",
   "metadata": {},
   "source": [
    "Looking at school 3 (top right pane), we can see there is a globally better choice at $p \\approx 0.17$, whereas this method has settled on a local maximum. \n",
    "\n",
    "## Best-response dynamics and global equilibrium search\n",
    "\n",
    "Next, let's consider a best-response dynamics scheme where each school changes its cutoff to its global maximum on the assumption that other schools stay in the same place. \n",
    "\n",
    "Although the utility functions aren't concave, they are composed of concave segments, so it suffices to do line search within each segment and report the overall best.\n",
    "\n",
    "Helpfully, we also have gradient info, so we can use the secant method to solve the equation $u_c'(p_c) = 0$ for $p_c$ on the segment."
   ]
  },
  {
   "cell_type": "code",
   "execution_count": null,
   "metadata": {},
   "outputs": [],
   "source": [
    "const phi = (-1 + √5)/2\n",
    "const omp = (3 - √5)/2 # One minus phi\n",
    "\n",
    "\"\"\"\n",
    "    goldensection(f, lb, ub, nit)\n",
    "\n",
    "Computes the maximizer of `f` on the interval `(lb, ub)` by the method of golden\n",
    "sections. Uses `nit` iterations.\n",
    "\"\"\"\n",
    "function goldensection(f::Function, lb, ub, nit=25)\n",
    "    for i in 1:nit\n",
    "        a = lb + omp*(ub - lb)\n",
    "        b = lb + phi*(ub - lb)\n",
    "\n",
    "        if f(a) < f(b)\n",
    "            lb = a\n",
    "        else\n",
    "            ub = b\n",
    "        end\n",
    "    end\n",
    "    \n",
    "    return (lb + ub) / 2\n",
    "end"
   ]
  },
  {
   "cell_type": "code",
   "execution_count": null,
   "metadata": {},
   "outputs": [],
   "source": [
    "function bestresponse(market, sigma, p_curr=nothing, nit=10)\n",
    "    if p_curr===nothing\n",
    "        p_curr = rand(length(mkt))\n",
    "    end\n",
    "    \n",
    "    res = Vector[p_curr]\n",
    "    \n",
    "    for j in 1:nit\n",
    "        p_next = zeros(length(p_curr))\n",
    "        for c in 1:length(market)\n",
    "            p_intervals = copy(p_curr)\n",
    "            deleteat!(p_intervals, c)\n",
    "            \n",
    "            function u(x)\n",
    "                p = copy(p_curr)\n",
    "                p[c] = x\n",
    "                return utility(market, sigma, p)[c]\n",
    "            end\n",
    "\n",
    "            p_next[c] = argmax(u, goldensection(u, lb, ub) for (lb, ub) in zip((0, p_intervals...), (p_intervals..., 1)))\n",
    "        end\n",
    "        \n",
    "        p_curr = copy(p_next)\n",
    "        push!(res, p_curr)\n",
    "    end\n",
    "    \n",
    "    return res\n",
    "end\n",
    "\n",
    "iterates = bestresponse(ptown, sigma, fill(0.5, 4))\n",
    "@show iterates[end]\n",
    "gif(plotiterates(ptown, sigma, iterates), fps=3)"
   ]
  },
  {
   "cell_type": "markdown",
   "metadata": {},
   "source": [
    "## Valuation function approach\n",
    "\n",
    "Suppose each school has a valuation $v_c(x)$ of the interval from $[0,1]$, and that $v_c(x)$ is linear. Wlog, $v_c(x) = 1+ \\sigma x$ where $\\sigma$  is a parameter. The school's value is the integral of its valuation function over the set of admitted students:\n",
    "\n",
    "$$\\begin{align}V_c(p) &= \\int_{\\mu(p)} v_c(x)\\,d\\eta \\\\\n",
    "&= \\sum_{d=c}^{|C|} \n",
    "\\frac{{\\gamma_c}}{ \\sum_{i=1}^d {\\gamma_i}}\n",
    "\\int_{p_d}^{p_d+1} v_c(x)\\,dx \\\\\n",
    "&= \\sum_{d=c}^{|C|} \n",
    "\\frac{{\\gamma_c}}{ \\sum_{i=1}^d {\\gamma_i}}\n",
    "\\left[\\left(p_{d+1} - p_d\\right) + \\frac{\\sigma}{2}\\left(p_{d+1}^2 - p_d ^2\\right)\\right] \\\\\n",
    "&= D_c(p) + \\sigma L_c(p)\n",
    "\\end{align}\n",
    "$$\n",
    "\n",
    "Looks like the appeal function may come in handy after all."
   ]
  },
  {
   "cell_type": "code",
   "execution_count": 42,
   "metadata": {},
   "outputs": [
    {
     "ename": "LoadError",
     "evalue": "MethodError: no method matching appeal(::Market{Float64}, ::Vector{Float64}; sigma=0.0)\n\u001b[0mClosest candidates are:\n\u001b[0m  appeal(::Market, ::AbstractVector{var\"#s6\"} where var\"#s6\"<:AbstractFloat) at C:\\Users\\Max\\OneTest\\OneTest.jl:96\u001b[91m got unsupported keyword argument \"sigma\"\u001b[39m",
     "output_type": "error",
     "traceback": [
      "MethodError: no method matching appeal(::Market{Float64}, ::Vector{Float64}; sigma=0.0)\n\u001b[0mClosest candidates are:\n\u001b[0m  appeal(::Market, ::AbstractVector{var\"#s6\"} where var\"#s6\"<:AbstractFloat) at C:\\Users\\Max\\OneTest\\OneTest.jl:96\u001b[91m got unsupported keyword argument \"sigma\"\u001b[39m",
      "",
      "Stacktrace:",
      " [1] macro expansion",
      "   @ .\\In[42]:18 [inlined]",
      " [2] macro expansion",
      "   @ C:\\Users\\Max\\.julia\\packages\\Plots\\kyYZF\\src\\animation.jl:183 [inlined]",
      " [3] plotdemandcurve_anim_valuation(market::Market{Float64}, c::Int64; p_fix::Nothing, st::Float64, title::String)",
      "   @ Main .\\In[42]:11",
      " [4] top-level scope",
      "   @ In[42]:47",
      " [5] eval",
      "   @ .\\boot.jl:360 [inlined]",
      " [6] include_string(mapexpr::typeof(REPL.softscope), mod::Module, code::String, filename::String)",
      "   @ Base .\\loading.jl:1094"
     ]
    }
   ],
   "source": [
    "function plotdemandcurve_anim_valuation(market::Market, c::Int; p_fix=nothing, st=0.005, title=\"\")\n",
    "    if p_fix === nothing\n",
    "        p_fix = equilibrium(market)\n",
    "    end\n",
    "    \n",
    "    p_try = 0:st:1\n",
    "    \n",
    "    dem = zeros(length(p_try))\n",
    "    \n",
    "    ran = 2 .^(-5:0.2:7)\n",
    "    pl = @animate for sigma in vcat(0, ran, reverse(ran)[2:end])\n",
    "        \n",
    "        app = zeros(length(p_try))\n",
    "\n",
    "        for (i, pc) in enumerate(p_try)\n",
    "            p_store = p_fix[c]\n",
    "            p_fix[c] = pc\n",
    "            app[i] = appeal(market, p_fix, sigma=sigma)[c]\n",
    "            p_fix[c] = p_store\n",
    "        end\n",
    "\n",
    "        utility = log.(dem[2:end-1]) + app[2:end-1]      # Change here log.(p_try[2:end-1])\n",
    "\n",
    "        # Just some affine scaling to make plot legible\n",
    "        utility .-= minimum(utility)\n",
    "        utility ./= maximum(utility)\n",
    "        utility .*= maximum(dem)\n",
    "        \n",
    "        utility = [0, utility..., 0]\n",
    "\n",
    "        plot(xlim = (0, 1), xlabel=\"p\", ylim=(0, 1.1*maximum(dem)), size=(700, 500), legend=:right,\n",
    "             title=title, titlefontsize=12)\n",
    "\n",
    "\n",
    "        vline!([p_fix[c]], color=:black, ls=:dash, lw=.75, label=\"current cutoff\")\n",
    "        plot!(p_try, dem, color=:rebeccapurple, lw=1.5, label=\"demand\")\n",
    "        plot!(p_try, app, color=:olivedrab, lw=1.5, label=\"appeal\")\n",
    "        plot!(p_try, utility, color=:gold, lw=1.5, label=\"valuation\")\n",
    "        \n",
    "        sigma = round(sigma, digits=2)\n",
    "        annotate!([(0.8, 0.1, text(\"σ = $sigma\", 9, :left))])\n",
    "    end\n",
    "\n",
    "    return pl\n",
    "end\n",
    "\n",
    "gif(plotdemandcurve_anim_valuation(ptown, 2, title=\"Utility at School 2, Pallet Town\"), \"./SchoolIncentives/plots/var-sigma-valuation.gif\", fps=15)"
   ]
  },
  {
   "cell_type": "code",
   "execution_count": 345,
   "metadata": {},
   "outputs": [
    {
     "data": {
      "text/plain": [
       "-3.108739112291951"
      ]
     },
     "execution_count": 345,
     "metadata": {},
     "output_type": "execute_result"
    }
   ],
   "source": [
    "f(0.0007)"
   ]
  },
  {
   "cell_type": "code",
   "execution_count": 294,
   "metadata": {},
   "outputs": [
    {
     "data": {
      "text/plain": [
       "2.0000059608609866"
      ]
     },
     "execution_count": 294,
     "metadata": {},
     "output_type": "execute_result"
    }
   ],
   "source": [
    "goldensection(f, 2, 4)"
   ]
  },
  {
   "cell_type": "code",
   "execution_count": 314,
   "metadata": {},
   "outputs": [
    {
     "data": {
      "text/plain": [
       "4-element Vector{Tuple{Int64, Int64}}:\n",
       " (0, 0)\n",
       " (1, 3)\n",
       " (2, 4)\n",
       " (4, 5)"
      ]
     },
     "execution_count": 314,
     "metadata": {},
     "output_type": "execute_result"
    }
   ],
   "source": [
    "zip((0, [1, 2, 4]...), (0, [3, 4, 5]...)) |> collect"
   ]
  },
  {
   "cell_type": "code",
   "execution_count": null,
   "metadata": {},
   "outputs": [],
   "source": []
  },
  {
   "cell_type": "code",
   "execution_count": 289,
   "metadata": {},
   "outputs": [
    {
     "data": {
      "text/plain": [
       "1.0"
      ]
     },
     "execution_count": 289,
     "metadata": {},
     "output_type": "execute_result"
    }
   ],
   "source": [
    "phi + omp"
   ]
  },
  {
   "cell_type": "code",
   "execution_count": null,
   "metadata": {},
   "outputs": [],
   "source": []
  }
 ],
 "metadata": {
  "kernelspec": {
   "display_name": "Julia 1.6.1",
   "language": "julia",
   "name": "julia-1.6"
  },
  "language_info": {
   "file_extension": ".jl",
   "mimetype": "application/julia",
   "name": "julia",
   "version": "1.6.1"
  }
 },
 "nbformat": 4,
 "nbformat_minor": 5
}
