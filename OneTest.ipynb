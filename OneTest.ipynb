{
 "cells": [
  {
   "cell_type": "markdown",
   "metadata": {},
   "source": [
    "# Admissions markets with a single score and MNL choice\n",
    "\n",
    "Max Kapur | maxkapur.com\n",
    "\n",
    "*N.B.* This is a working document, more of a set of personal notes than a finished product. Please see my other Github repositories for somewhat more polished discussions of admissions markets.\n",
    "\n",
    "------\n",
    "\n",
    "Let’s consider a special kind of admissions market that has not received much attention in the school-choice literature but approximates the admissions procedure used in many systems around the world.\n",
    "\n",
    "In the *single-score* model, all schools share the same ranking over the students. Here are a few situations in which a single-score system may arise:\n",
    "- A centralized college admissions market similar to that used in China, where college admissions are determined largely by a single test score.\n",
    "- Students are scored using a consistent linear combination of various dimensions of student characteristics, e.g. 70% test scores, 20% GPA, 10% letter of recommendation.\n",
    "- Single tiebreaking, in which a central agency assigns (by lottery) an admissions priority ranking to each student and students are matched to their favorite schools in priority order.\n",
    "\n",
    "Regardless of the device used to generate the single scores, taking percentile scores over the distribution allows us to assume that the scores are uniformly distributed on the interval $[0,1]$. \n",
    "\n",
    "We also need to account for students' choice of school. In this model, students use the *multinomial logit choice* model. This means that each school has a given *quality* $\\delta_c$. Each student is admitted to a certain set of schools $C^\\#$, and from this set, she chooses to attend school $c$ with probability\n",
    "\n",
    "$$\\frac{\\exp \\delta_c}{\\sum_{d \\in C^\\#} \\exp \\delta_d}$$\n",
    "\n",
    "For convenience, let $\\gamma_c \\equiv \\exp \\delta_c > 0$ and $\\Gamma = \\sum_c \\gamma_c$. Since the equation is homogeneous in $\\gamma$, we may assume without loss of generality that $\\Gamma = 1$. I will refrain from this assumption in the explanatory text but make full use of it in the code.\n",
    "\n",
    "## Demand function\n",
    "The first quantity we need to define is the *demand function,* which indicates how many students will attend each school given the school's quality $\\gamma$ and some information about the school's selectivity. Specifically, each school sets a *cutoff* $p_c$ and admits all students whose score exceeds the cutoff. The demand function $D_c(\\gamma, p)$ indicates how many students come to school $c$, representated as a fraction of the total number of students in the market. Observe that $D_c$ is a function not just of $p_c$ but also of the cutoffs at all the other schools, since if another school becomes more selective, the demand at $c$ may increase.\n",
    "\n",
    "Let's figure out this function. First, sort the schools by cutoff, i.e. so that\n",
    "\n",
    "$$p_1 \\leq p_2 \\leq \\dots \\leq p_{|C|}$$\n",
    "\n",
    "Then there are only $|C| + 1$ possible consideration sets for each student: \n",
    "\n",
    "| Symbol          | Consideration&nbsp;set                          | Probability           |\n",
    "|-----------------|--------------------------------------------|-----------------------|\n",
    "| $C_{[0]}$       | $\\varnothing$                              | $p_1$                 |\n",
    "| $C_{[1]}$       | $\\left\\{ c_1 \\right\\}$                     | $p_2 - p_1$           |\n",
    "| $C_{[2]}$       | $\\left\\{ c_1, c_2 \\right\\}$                | $p_3 - p_2$           |\n",
    "| $\\vdots$        | $\\vdots$                                   | $\\vdots$              |\n",
    "| $C_{[|C| - 1]}$ | $\\left\\{ c_1, \\dots, c_{|C| - 1} \\right\\}$ | $p_{|C|} - p_{|C|-1}$ |\n",
    "| $C_{[|C|]}$     | $\\left\\{ c_1, \\dots, c_{|C|} \\right\\}$     | $1 - p_{|C|}$         |\n",
    "\n",
    "This greatly simplifies the demand function. Letting $p_{|C|+1} \\equiv 1$,\n",
    "\n",
    "$$\\begin{equation}D_c = \\sum_{d=c}^{|C|} \n",
    "\\underbrace{\\frac{{\\gamma_c}}{ \\sum_{i=1}^d {\\gamma_i}}}_{\\substack{\\text{prob. of choosing  }\\\\ c\\text{ from assortment}}} \n",
    "\\overbrace{\\left(p_{d+1} - p_{d}\\right)}^{\\substack{\\text{prob. of having}\\\\ \\text{assortment }C_{[d]}}} \\end{equation}$$\n",
    "\n",
    "If at least one school has $p_c = 0$, then every student can get in somewhere, and $\\sum_c D_c = 1$. Generally, there are $p_1$ students who get in nowhere, and $\\sum_c D_c = 1 - p_1$. \n",
    "\n",
    "The demand function is *piecewise linear* in $p$ (piecewise because the ordering of the $p_c$ values changes). Expanding the equation above,\n",
    "\n",
    "$$D_c = \\gamma_c \\left[ \\left(\\frac{-1}{\\sum_{i=1}^c \\gamma_i}\\right) p_c\n",
    "+ \\left(\\frac{1}{\\sum_{i=1}^{c} \\gamma_i} - \\frac{1}{\\sum_{i=1}^{c+1} \\gamma_i} \\right) p_{c+1}\n",
    "+ \\left(\\frac{1}{\\sum_{i=1}^{c+1} \\gamma_i} - \\frac{1}{\\sum_{i=1}^{c+2} \\gamma_i}\\right) p_{c+2}\n",
    "+ \\cdots\n",
    "+ \\left(\\frac{1}{\\sum_{i=1}^{|C|-1} \\gamma_i} - \\frac{1}{\\sum_{i=1}^{|C|} \\gamma_i}\\right) p_{|C|}\n",
    "+ \\frac{1}{\\sum_{i=1}^{|C|} \\gamma_i}\n",
    "\\right]$$\n",
    "\n",
    "and we can see that the demand vector is defined by the system\n",
    "\n",
    "$$ D = A p + \\frac{1}{\\Gamma}\\gamma$$\n",
    "\n",
    "where \n",
    "\n",
    "$$A \\equiv \\begin{bmatrix}\n",
    "\\gamma_1 \\left( \\frac{-1}{\\gamma_1} \\right) & \\gamma_1 \\left(\\frac{1}{\\gamma_1} - \\frac{1}{\\gamma_1 + \\gamma_2} \\right) & \\gamma_1 \\left(\\frac{1}{\\gamma_1 + \\gamma_2} - \\frac{1}{\\gamma_1 + \\gamma_2 + \\gamma_3} \\right) & \\cdots &  \\gamma_1 \\left(\\frac{1}{\\sum_{i=1}^{|C| - 1}\\gamma_i} - \\frac{1}{\\sum_{i=1}^{|C|}\\gamma_i}  \\right)  \\\\\n",
    "0 & \\gamma_2 \\left( \\frac{-1}{\\gamma_1 + \\gamma_2} \\right) & \\gamma_2 \\left(\\frac{1}{\\gamma_1 + \\gamma_2} - \\frac{1}{\\gamma_1 + \\gamma_2 + \\gamma_3} \\right) & \\cdots &  \\gamma_2 \\left(\\frac{1}{\\sum_{i=1}^{|C| - 1}\\gamma_i} - \\frac{1}{\\sum_{i=1}^{|C|}\\gamma_i} \\right)  \\\\\n",
    "0 & 0 & \\gamma_3 \\left( \\frac{-1}{\\gamma_1 + \\gamma_2 + \\gamma_3} \\right) & \\cdots &  \\gamma_3 \\left(\\frac{1}{\\sum_{i=1}^{|C| - 1}\\gamma_i} - 1 \\right)  \\\\\n",
    "\\vdots & \\vdots & \\vdots & \\ddots & \\vdots \\\\\n",
    "0 & 0 & 0 & 0 &  \\gamma_{|C|} \\left(\\frac{1}{\\sum_{i=1}^{|C| - 1}\\gamma_i} -\\frac{1}{\\Gamma}  \\right)  \\\\\n",
    "\\end{bmatrix}$$\n",
    "\n",
    "Since $\\gamma > 0$, $A\\in \\mathbb{R}^{|C| \\times |C|}$ is strictly triangular, hence invertible. \n",
    "\n",
    "## Appeal\n",
    "\n",
    "It is also interesting to consider the *appeal* of a school's entering class, or the integral of scores over the set of admitted students (Azevedo and Leshno 2016). This is not necessarily the school's objective function, because schools may value an abstract notion of selectivity or students' tuition dollars higher than this value. \n",
    "\n",
    "The average score of a student with consideration set $C_{[d]}$ is $\\frac{1}{2}\\left(p_{d+1} + p_d\\right)$, so the appeal at $c$ is\n",
    "\n",
    "$$L_c = \\frac{1}{2}\\sum_{d=c}^{|C|} \n",
    "\\frac{{\\gamma_c}}{ \\sum_{i=1}^d {\\gamma_i}} \n",
    "\\left(p_{d+1} - p_{d}\\right)\\left(p_{d+1} + p_{d}\\right) =\n",
    "\\frac{1}{2}\\sum_{d=c}^{|C|} \n",
    "\\frac{{\\gamma_c}}{ \\sum_{i=1}^d {\\gamma_i}} \n",
    "\\left(p_{d+1}^2 -  p_{d}^2\\right)$$\n",
    "\n",
    "By comparison with the expression for $D$, the quality vector is given by \n",
    "\n",
    "$$ L = \\frac{1}{2} A p.^2 + \\frac{1}{2\\Gamma} \\gamma$$\n",
    "\n",
    "where I have used the strange notation $p.^2 = (p_1^2, \\dots, p_{|C|}^2)$ for the entrywise square of $p$.\n",
    "\n",
    "## Computation\n",
    "\n",
    "Let's get a computational environment going. First I define a container for the market information (capacity is discussed later), then the demand and appeal functions. I also define a function that returns the matrix $A$ discussed above; note that $A$ depends on $p$ via permutation. Finally, I define a market that computes the equilibrium for a given market using a generic t&acirc;tonnement procedure."
   ]
  },
  {
   "cell_type": "code",
   "execution_count": 181,
   "metadata": {},
   "outputs": [
    {
     "data": {
      "text/plain": [
       "heuristiceq"
      ]
     },
     "execution_count": 181,
     "metadata": {},
     "output_type": "execute_result"
    }
   ],
   "source": [
    "using LinearAlgebra\n",
    "using Plots\n",
    "import Base:length\n",
    "\n",
    "\"\"\"\n",
    "Contains static information about a school-choice market.\n",
    "\"\"\"\n",
    "struct Market{T<:AbstractFloat}\n",
    "    qualities ::Array{T, 1}    # δ\n",
    "    capacities::Array{T, 1}    # q\n",
    "    gamma     ::Array{T, 1}    # γ\n",
    "end\n",
    "\n",
    "\n",
    "length(market::Market) = length(market.qualities)\n",
    "\n",
    "\n",
    "\"\"\"\n",
    "    Market(qualities, capacities)\n",
    "\n",
    "Instantiate a school-choice market. `gamma` is normalized to sum to one.\n",
    "\"\"\"\n",
    "function Market(qualities::Array{T, 1}, capacities::Array{T, 1}) where {T<:AbstractFloat}\n",
    "    length(qualities) == length(capacities) || return throw(DimensionMismatch)\n",
    "    gamma = exp.(qualities)\n",
    "    gamma /= sum(gamma)\n",
    "    return Market{T}(qualities, capacities, gamma)\n",
    "end\n",
    "    \n",
    "    \n",
    "\"\"\"\n",
    "    Market(m)\n",
    "\n",
    "Generate a random market with m schools.\n",
    "\"\"\"\n",
    "function Market(m::Int) \n",
    "    qualities = rand(m)\n",
    "    capacities = 2 * rand(m)/m\n",
    "    return Market(qualities, capacities)\n",
    "end\n",
    "\n",
    "\n",
    "\n",
    "\"\"\"\n",
    "    demand(market, cutoffs)\n",
    "\n",
    "Return demand for each school given a set of cutoffs and ignoring capacity, using\n",
    "multinomial logit choice model with one student profile and a single test score.\n",
    "\"\"\"\n",
    "function demand(market      ::Market,\n",
    "                cutoffs     ::AbstractArray{<:AbstractFloat, 1};\n",
    "                )::AbstractArray{<:AbstractFloat, 1}\n",
    "    \n",
    "    m = length(market)\n",
    "    demands = zeros(m)\n",
    "\n",
    "    sort_order = sortperm(cutoffs)\n",
    "    cutoffs[sort_order]\n",
    "\n",
    "    γ = exp.(market.qualities)\n",
    "    demands = zeros(m)\n",
    "\n",
    "    consideration_set_probabilities = diff([cutoffs[sort_order]; 1])\n",
    "\n",
    "    for c in 1:m, d in c:m     # For each score threshold\n",
    "        demands[sort_order[c]] += consideration_set_probabilities[d] *\n",
    "                                  γ[sort_order[c]] / sum(γ[sort_order[1:d]])\n",
    "    end\n",
    "\n",
    "    return demands\n",
    "end\n",
    "\n",
    "\n",
    "\"\"\"\n",
    "    appeal(market, cutoffs)\n",
    "\n",
    "Return appeal of entring class at each school given a set of cutoffs, using\n",
    "multinomial logit choice model with one student profile and a single test score.\n",
    "\"\"\"\n",
    "function appeal(market      ::Market,\n",
    "                cutoffs     ::AbstractArray{<:AbstractFloat, 1};\n",
    "                )::AbstractArray{<:AbstractFloat, 1}\n",
    "    \n",
    "    m = length(market)\n",
    "    demands = zeros(m)\n",
    "\n",
    "    sort_order = sortperm(cutoffs)\n",
    "    cutoffs[sort_order]\n",
    "\n",
    "    γ = exp.(market.qualities)\n",
    "    appeals = zeros(m)\n",
    "\n",
    "    diff_of_squares = diff([cutoffs[sort_order]; 1] .^ 2)\n",
    "\n",
    "    for c in 1:m, d in c:m     # For each score threshold\n",
    "        appeals[sort_order[c]] += diff_of_squares[d] *\n",
    "                                  γ[sort_order[c]] / sum(γ[sort_order[1:d]])\n",
    "    end\n",
    "\n",
    "    return appeals / 2\n",
    "end\n",
    "\n",
    "\n",
    "\"\"\"\n",
    "    demandmatrix(market, cutoffs)\n",
    "\n",
    "Returns the matrices `A` and the permutation `sort_order` such that\n",
    "\n",
    "````\n",
    "demand(market, p)[sort_order] == A * p[sort_order] + market.gamma[sort_order]\n",
    "````\n",
    "\n",
    "and\n",
    "\n",
    "````\n",
    "appeal(market, p)[sort_order] == (A * p[sort_order] .^2 + market.gamma[sort_order])/2\n",
    "````\n",
    "\"\"\"\n",
    "function demandmatrix(market, cutoffs)\n",
    "    m = length(market)\n",
    "    \n",
    "    sort_order = sortperm(cutoffs)\n",
    "    \n",
    "    A = UpperTriangular(zeros(m, m))\n",
    "    \n",
    "    for c in 1:m\n",
    "        A[c, c] = -market.gamma[sort_order[c]] / sum(market.gamma[sort_order[1:c]])\n",
    "    end\n",
    "    \n",
    "    for i in 1:m, j in i+1:m\n",
    "        A[i, j] = market.gamma[sort_order[i]] *\n",
    "                    ( 1/sum(market.gamma[sort_order[1:j-1]]) -\n",
    "                      1/sum(market.gamma[sort_order[1:j]]) )\n",
    "    end\n",
    "    \n",
    "    return A, sort_order\n",
    "end\n",
    "\n",
    "\n",
    "\"\"\"\n",
    "    quickeq(market)\n",
    "\n",
    "Very low-tech tatonnement procedure for finding equibilibrium.\n",
    "\"\"\"\n",
    "function quickeq(market::Market; maxit::Int=100, tol=1e-4)\n",
    "#     p = rand(length(market))\n",
    "    p = heuristiceq(market)\n",
    "    \n",
    "    for i in 1:maxit\n",
    "        z = demand(market, p) - market.capacities\n",
    "        if all(z .< tol)\n",
    "            @show i\n",
    "            break\n",
    "        end\n",
    "        p = max.(0, p + .5 * z / i^0)#.001)\n",
    "    end\n",
    "    \n",
    "    return p\n",
    "end\n",
    "\n",
    "\n",
    "\"\"\"\n",
    "    heuristiceq(market, demand)\n",
    "    \n",
    "Uses the gamma-minus-capacity heuristic to find an approximate equilibrium.\n",
    "\"\"\"\n",
    "function heuristiceq(market::Market)\n",
    "    # Use the heuristic as the cutoffs arg, since demand() looks only at its order\n",
    "    A, sort_order = demandmatrix(market, market.gamma - market.capacities)\n",
    "\n",
    "    p_heuristic = zeros(length(market))\n",
    "    p_heuristic[sort_order] = max.(0, A\\(market.capacities - market.gamma)[sort_order])\n",
    "    \n",
    "    return p_heuristic\n",
    "end"
   ]
  },
  {
   "cell_type": "markdown",
   "metadata": {},
   "source": [
    "## Checking the appeal and demand functions\n",
    "\n",
    "Check that this function works as described:"
   ]
  },
  {
   "cell_type": "code",
   "execution_count": 182,
   "metadata": {},
   "outputs": [
    {
     "data": {
      "text/plain": [
       "true"
      ]
     },
     "execution_count": 182,
     "metadata": {},
     "output_type": "execute_result"
    }
   ],
   "source": [
    "mkt = Market(5)\n",
    "p = rand(5)\n",
    "\n",
    "A, sort_order = demandmatrix(mkt, p)\n",
    "\n",
    "demand(mkt, p)[sort_order] ≈ A * p[sort_order] + mkt.gamma[sort_order]"
   ]
  },
  {
   "cell_type": "markdown",
   "metadata": {},
   "source": [
    "Alternatively, "
   ]
  },
  {
   "cell_type": "code",
   "execution_count": 183,
   "metadata": {},
   "outputs": [
    {
     "data": {
      "text/plain": [
       "true"
      ]
     },
     "execution_count": 183,
     "metadata": {},
     "output_type": "execute_result"
    }
   ],
   "source": [
    "inv_sort_order = invperm(sort_order)\n",
    "B = A[inv_sort_order, inv_sort_order]\n",
    "\n",
    "demand(mkt, p) ≈ B * p + mkt.gamma"
   ]
  },
  {
   "cell_type": "markdown",
   "metadata": {},
   "source": [
    "The following fact is handy, because inverting a triangular matrix is easier than inverting a square matrix:"
   ]
  },
  {
   "cell_type": "code",
   "execution_count": 184,
   "metadata": {},
   "outputs": [
    {
     "data": {
      "text/plain": [
       "true"
      ]
     },
     "execution_count": 184,
     "metadata": {},
     "output_type": "execute_result"
    }
   ],
   "source": [
    "inv(A)[inv_sort_order, inv_sort_order] ≈ inv(B)"
   ]
  },
  {
   "cell_type": "markdown",
   "metadata": {},
   "source": [
    "Same check for the appeal function:"
   ]
  },
  {
   "cell_type": "code",
   "execution_count": 185,
   "metadata": {},
   "outputs": [
    {
     "data": {
      "text/plain": [
       "true"
      ]
     },
     "execution_count": 185,
     "metadata": {},
     "output_type": "execute_result"
    }
   ],
   "source": [
    "appeal(mkt, p)[sort_order] ≈ (A * p[sort_order] .^2 + mkt.gamma[sort_order])/2 &&\n",
    "appeal(mkt, p) ≈ (A[inv_sort_order, inv_sort_order] * p .^2 + mkt.gamma)/2"
   ]
  },
  {
   "cell_type": "markdown",
   "metadata": {},
   "source": [
    "## Comparative statics\n",
    "\n",
    "An area of interest in economics is *comparative statics,* or numbers that signify the tendencies or incentives available to the competitive actors in a market. \n",
    "\n",
    "Given $D$, $p$, and $\\gamma$, we can use the relations $D = Ap + \\gamma$ and $L = \\frac{1}{2} A p.^2 + \\frac{1}{2}\\gamma$ to make a number of interesting observations about the market.\n",
    "\n",
    "\n",
    "### Price effects\n",
    "The change in demand in response to a change in cutoffs is the Jacobian of the demand function:\n",
    "$$\\mathbf{J}_p D = A $$\n",
    "The diagonal is negative, meaning that each school's demand is decreasing in its cutoff (downward-sloping demand curves). The entries above the diagonal are positive, while those below the diagonal are zero. This means that each school $c$'s demand is increasing in the cutoffs of the *more-selective* schools, but the cutoffs of *less-selective schools* have no local effect on the demand at $c$.\n",
    "\n",
    "Intuitively, this means that if all schools are equally preferable, a highly selective school has more market power than the others: If it increases its cutoff, it will cause many students to move onto another school. On the other hand, a school $c'$ that is less preferable than $c$ cannot affect $D_c$'s demand by changing its own cutoff, because any student currently admitted to $c$ was already admitted to $c'$, and chose $c$ instead. \n",
    "\n",
    "Now consider the change in *appeal* in response to a change in cutoffs:\n",
    "\n",
    "$$\\mathbf{J}_p L = A\\,\\mathrm{diag}(p)$$\n",
    "\n",
    "For $p > 0$, the cutoff effect on appeal has the same direction as the cutoff effect on demand.\\\n",
    "\n",
    "### Quality effects\n",
    "\n",
    "Differentiate wrt $\\gamma$. \n",
    "\n",
    "### Demand effects\n",
    "\n",
    "Maybe move this down to the unwritten section \"comparative statics at equilibrium\"\n",
    "\n",
    "### Edge case\n",
    "\n",
    "when $p_c = p_{c'} = 0$"
   ]
  },
  {
   "cell_type": "code",
   "execution_count": 186,
   "metadata": {},
   "outputs": [
    {
     "name": "stdout",
     "output_type": "stream",
     "text": [
      "i = 1\n"
     ]
    },
    {
     "data": {
      "text/plain": [
       "3-element Vector{Float64}:\n",
       " 0.6264241117657114\n",
       " 0.3999999999999999\n",
       " 0.7632120558828558"
      ]
     },
     "execution_count": 186,
     "metadata": {},
     "output_type": "execute_result"
    }
   ],
   "source": [
    "taipei = Market([2., 1., 2.], [0.2, 0.3, 0.1])\n",
    "p_star = quickeq(taipei)"
   ]
  },
  {
   "cell_type": "code",
   "execution_count": 187,
   "metadata": {},
   "outputs": [
    {
     "data": {
      "text/plain": [
       "3×3 Matrix{Float64}:\n",
       " -0.731059   0.0   0.30874\n",
       "  0.731059  -1.0   0.113579\n",
       "  0.0        0.0  -0.422319"
      ]
     },
     "execution_count": 187,
     "metadata": {},
     "output_type": "execute_result"
    }
   ],
   "source": [
    "A, sort_order = demandmatrix(taipei, p_star)\n",
    "inv_sort_order = invperm(sort_order)\n",
    "B = A[inv_sort_order, inv_sort_order]"
   ]
  },
  {
   "cell_type": "code",
   "execution_count": 188,
   "metadata": {},
   "outputs": [
    {
     "data": {
      "text/plain": [
       "3×3 Matrix{Float64}:\n",
       " -0.457953   0.0   0.235634\n",
       "  0.457953  -0.4   0.0866849\n",
       "  0.0        0.0  -0.322319"
      ]
     },
     "execution_count": 188,
     "metadata": {},
     "output_type": "execute_result"
    }
   ],
   "source": [
    "B * diagm(p_star)"
   ]
  },
  {
   "cell_type": "code",
   "execution_count": 189,
   "metadata": {},
   "outputs": [
    {
     "data": {
      "text/plain": [
       "3×3 Matrix{Float64}:\n",
       " -1.36788  -0.0  -1.0\n",
       " -1.0      -1.0  -1.0\n",
       "  0.0       0.0  -2.36788"
      ]
     },
     "execution_count": 189,
     "metadata": {},
     "output_type": "execute_result"
    }
   ],
   "source": [
    "inv(B)"
   ]
  },
  {
   "cell_type": "markdown",
   "metadata": {},
   "source": [
    "## Admissions markets with capacity constraints\n",
    "\n",
    "The market in consideration has four parameters:\n",
    " 1. The vector of school capacities $q$\n",
    " 2. The vector of school qualities $\\gamma$ (or $\\delta$)\n",
    " 3. The demand vector $D$\n",
    " 4. The capacity of each school $q$\n",
    " \n",
    "The first three parameters are related by the demand function $D(\\gamma, p)$.\n",
    "\n",
    "Depending on the design of the market itself, the demand function may or may not satisfy the equilibrium conditions\n",
    "\n",
    "$$\\begin{align} D_c &\\leq q_c, \\quad \\forall c \\\\\n",
    "D_c &= q_c, \\quad \\forall c: p_c > 0\\end{align}$$\n",
    "\n",
    "The first condition, called the *capacity condition,* says that no school's demand exceeds its capacity. The second, called the *stability condition,* says that if a school is rejecting students, it must be at full capacity; equivalently, if a school has remaining capacity, it will try to minimize the amount of empty seats by lowering its cutoff all the way to zero.\n",
    "\n",
    "It can be shown that if the parameters satisfy the relation above, then the resultant allocation of students is *stable,* meaning for every student who is *not* matched to her favorite school, each of the schools she prefers to her match has already filled its capacity with better students.  \n",
    " \n",
    "Here are a few scenarios in which we can expect an admissions market to satisfy the equilibrium condition above.\n",
    "- A *centralized school-choice process* such as the deferred acceptance algorithm, in which students submit their preference lists to a central agency that computes a stable match.\n",
    "- A *semicentralized* admissions procedure like that used in Korea, in which the government determines a quota (i.e. capacity) of students who may be admitted to each school, and schools steadily admit students with lower and lower scores over the course of several admissions rounds until they fill their quota. (In the idealized case, this is actually a decentralized deferred acceptance algorithm; in practice, there is variation in scoring practices and limits on how many schools each student can apply to that prevent the equilibrium from being achieved exactly.)\n",
    "- A *decentralized* admissions procedure like that used by private universities in the US. In this case, schools designate their own capacity, which is not necessarily a physical limitation on the number of students it can receive but rather a way of maintaining the school's selective reputation. In this case, schools must observe their demand from year over year and adjust their admissions cutoffs accordingly. If the adjustment process fits certain regularity conditions, then this process converges to the equilibrium defined above. (In fact, a version of this process is how the function `quickeq()` computes equilibria.)\n",
    "\n",
    "These observations are useful because if we can assume the market is at equilibrium, we can reduce the number of parameters:\n",
    "- If $q$ and $\\gamma$ are given, then there is only one equilibrium cutoff vector $p$, which we can find using `quickeq()`.\n",
    "- If $\\gamma$ and $p > 0$ are given, and we are told that the market is at equilibrium, then we can assume that $q = D(\\gamma, p)$, which we can find using the `demand()` function.\n",
    "- If $D$ and $p$ are given, and we are told that the market is at equilibrium, then we can solve for $\\gamma$, as described [in a separate notebook](https://github.com/maxkapur/StudentPrefsRevOpt/blob/main/2_ReverseOptimization.ipynb). If $p>0$, we can additionally assume that $q = D$. "
   ]
  },
  {
   "cell_type": "markdown",
   "metadata": {},
   "source": [
    "### Computing the equilibrium\n",
    "In the market under consideration, the equilibrium conditions are\n",
    "\n",
    "$$\\begin{align} D = A p + \\frac{1}{\\Gamma}\\gamma &\\leq q \\\\\n",
    "D_c = A_{c.} p + \\frac{1}{\\Gamma} \\gamma_c &= q_c, \\quad \\forall c: p_c > 0\\end{align}$$\n",
    "\n",
    "Suppose that the order of the cutoffs at equilibrium is known beforehand; then $A$ is fixed, and it suffices to find the vector $p$ that meets the conditions above. \n",
    "\n",
    "The following theorem says that it suffices to solve the linear system given by the first condition for $p$ under the assumption that each school fills its capacity, then take the positive part.\n",
    "\n",
    "**Theorem.** When the optimal cutoffs are known to satisfy $p_1 \\leq \\cdots \\leq p_{|C|}$, the vector\n",
    "\n",
    "$$\\hat p \\equiv \\left[A^{-1} (q - \\frac{1}{\\Gamma} \\gamma) \\right]^+$$\n",
    "\n",
    "satisfies the equilibrium condition.\n",
    "\n",
    "**Proof.** First, it is not difficult to verify that the inverse of $A$ is\n",
    "\n",
    "$$A^{-1} = \\begin{bmatrix}\n",
    "\\frac{-1}{\\gamma_1}\\left( \\gamma_1 \\right) & -1 & -1 &\\cdots & -1 \\\\\n",
    " & \\frac{-1}{\\gamma_2}\\left( \\gamma_1 + \\gamma_2 \\right) & -1 &\\cdots & -1 \\\\\n",
    " & & \\frac{-1}{\\gamma_2}\\left( \\gamma_1 + \\gamma_2 + \\gamma_3 \\right) &\\cdots & -1 \\\\\n",
    " &  &  & \\ddots & \\vdots \\\\\n",
    " & & & &  \\frac{-1}{\\gamma_{|C|}} \\Gamma \\\\\n",
    "\\end{bmatrix}$$\n",
    "\n",
    "The demand at $\\hat p$ is \n",
    "\n",
    "$$\\begin{align}\n",
    "D &= A \\hat p + \\frac{1}{\\Gamma}\\gamma \\\\\n",
    "\\iff \\quad \\hat p &= A^{-1} (D - \\frac{1}{\\Gamma} \\gamma)\n",
    "\\end{align}$$\n",
    "\n",
    "Let\n",
    "\n",
    "$$\\bar p = A^{-1} (q - \\frac{1}{\\Gamma} \\gamma) $$\n",
    "\n",
    "Since $\\hat p = \\bar p^+ \\geq \\bar p$, the above expressions imply\n",
    "\n",
    "$$ A^{-1} D \\geq A^{-1} q \\quad \\implies \\quad D \\leq q$$\n",
    "\n",
    "because the entries of $A^{-1}$ are all nonpositive and $q$ is strictly positive. This establishes the capacity criterion. \n",
    "\n",
    "Now, we need to show that the demand equals the capacity when $p_c > 0$. Since the cutoffs are sorted, let $b$ denote the first nonzero cutoff. That is, $p_1 = \\dots = p_{b-1} = 0$, and $0 < p_b \\leq p_{b+1} \\leq \\dots \\leq p_{|C|}$.\n",
    "\n",
    "Then the demand at $\\hat p$ is\n",
    "\n",
    "$$\\begin{align}\n",
    "D &= A \\hat p + \\frac{1}{\\Gamma}\\gamma \\\\\n",
    "&= \\sum_{i=1}^{|C|} A_{.i} \\hat p_i + \\frac{1}{\\Gamma}\\gamma  \\\\\n",
    "&= \\sum_{i=1}^{|C|} A_{.i} \\left[A^{-1} \\left(q - \\frac{1}{\\Gamma}\\gamma\\right) \\right]_i^+ + \\frac{1}{\\Gamma}\\gamma  \\\\\n",
    "&= \\sum_{j=b}^{|C|} A_{.j} \\left[A^{-1} \\left(q - \\frac{1}{\\Gamma}\\gamma\\right) \\right]_j + \\frac{1}{\\Gamma}\\gamma  \\\\\n",
    "&= \\left[\\sum_{j=b}^{|C|} A_{.j} A_{j.}^{-1} \\right] \\left(q - \\frac{1}{\\Gamma}\\gamma\\right) + \\frac{1}{\\Gamma}\\gamma  \\\\\n",
    "&= \\begin{bmatrix}\n",
    "0_{b \\times b} & T_{b \\times (|C| - b)} \\\\\n",
    "0_{(|C| - b) \\times b} & I_{|C| - b} \\\\\n",
    "\\end{bmatrix} \\left(q - \\frac{1}{\\Gamma}\\gamma\\right) + \\frac{1}{\\Gamma}\\gamma  \\\\\n",
    "\\end{align}$$\n",
    "\n",
    "where\n",
    "\n",
    "$$T = \\begin{bmatrix}\n",
    "\\frac{-\\gamma_1}{\\sum_{i=1}^{b-1} \\gamma_i} & \\cdots & \\frac{-\\gamma_1}{\\sum_{i=1}^{b-1} \\gamma_i} \\\\\n",
    "\\vdots & \\cdots & \\vdots \\\\\n",
    "\\frac{-\\gamma_{b-1}}{\\sum_{i=1}^{b-1} \\gamma_i} & \\cdots & \\frac{-\\gamma_{b-1}}{\\sum_{i=1}^{b-1} \\gamma_i}\n",
    "\\end{bmatrix}$$\n",
    "\n",
    "For the schools with $p_c > 0$, the demand is\n",
    "\n",
    "$$ \\begin{align}\n",
    "D_c &=\n",
    "\\begin{bmatrix}\n",
    "0& I\n",
    "\\end{bmatrix}_{c.} \\left(q - \\frac{1}{\\Gamma}\\gamma\\right) + \\frac{1}{\\Gamma}\\gamma \\\\\n",
    "&= q_c\n",
    "\\end{align}\n",
    "$$\n",
    "\n",
    "Hence, the stability criterion holds, and $\\hat p$ is an equilibrium."
   ]
  },
  {
   "cell_type": "markdown",
   "metadata": {},
   "source": [
    "For reference, for the schools with $p_c = 0$, the demand is \n",
    "\n",
    "$$ \\begin{align}\n",
    "D_c &=\n",
    "\\begin{bmatrix}\n",
    "0& T\n",
    "\\end{bmatrix}_{c.} \\left(q - \\frac{1}{\\Gamma}\\gamma\\right) + \\frac{1}{\\Gamma}\\gamma  \\\\\n",
    "&= \\frac{-\\gamma_c}{\\sum_{i=1}^{b-1} \\gamma_i} \\sum_{j=b}^{|C|} \\left(q_j - \\frac{1}{\\Gamma}\\gamma_j\\right)  + \\frac{1}{\\Gamma}\\gamma_c \\leq q_c\n",
    "\\end{align}\n",
    "$$\n",
    "\n",
    "From this expression, we can derive the minimum value of $\\gamma_c$ that will cause $c$ to meet its capacity. \n",
    "\n",
    "Note that when the sum of capacities is less than one, then $D = q$, and $0 < p = A^{-1} (q - \\gamma)$. "
   ]
  },
  {
   "cell_type": "markdown",
   "metadata": {},
   "source": [
    "## Heuristic equilibrium\n",
    "\n",
    "Above we assumed that we knew the final order of cutoffs; in actuality this is not given, but there is a nice heuristic which we can use to start the t&acirc;t procedure. "
   ]
  },
  {
   "cell_type": "code",
   "execution_count": 348,
   "metadata": {},
   "outputs": [
    {
     "name": "stdout",
     "output_type": "stream",
     "text": [
      "i = 1\n"
     ]
    },
    {
     "data": {
      "text/plain": [
       "6-element Vector{Float64}:\n",
       " 0.02407187780974875\n",
       " 0.0\n",
       " 0.0\n",
       " 0.9399419575645801\n",
       " 0.0\n",
       " 0.0"
      ]
     },
     "execution_count": 348,
     "metadata": {},
     "output_type": "execute_result"
    }
   ],
   "source": [
    "mkt = Market(6)\n",
    "p_star = quickeq(mkt)\n",
    "# p_heuristic = heuristiceq(mkt)\n",
    "# A, sort_order = demandmatrix(mkt, p_star)\n",
    "# inv_sort_order = invperm(sort_order)\n",
    "# B = @view A[inv_sort_order, inv_sort_order]"
   ]
  },
  {
   "cell_type": "code",
   "execution_count": 349,
   "metadata": {},
   "outputs": [
    {
     "data": {
      "image/svg+xml": [
       "<?xml version=\"1.0\" encoding=\"utf-8\"?>\n",
       "<svg xmlns=\"http://www.w3.org/2000/svg\" xmlns:xlink=\"http://www.w3.org/1999/xlink\" width=\"600\" height=\"400\" viewBox=\"0 0 2400 1600\">\n",
       "<defs>\n",
       "  <clipPath id=\"clip370\">\n",
       "    <rect x=\"0\" y=\"0\" width=\"2400\" height=\"1600\"/>\n",
       "  </clipPath>\n",
       "</defs>\n",
       "<path clip-path=\"url(#clip370)\" d=\"\n",
       "M0 1600 L2400 1600 L2400 0 L0 0  Z\n",
       "  \" fill=\"#ffffff\" fill-rule=\"evenodd\" fill-opacity=\"1\"/>\n",
       "<defs>\n",
       "  <clipPath id=\"clip371\">\n",
       "    <rect x=\"480\" y=\"0\" width=\"1681\" height=\"1600\"/>\n",
       "  </clipPath>\n",
       "</defs>\n",
       "<path clip-path=\"url(#clip370)\" d=\"\n",
       "M224.098 1486.45 L2352.76 1486.45 L2352.76 47.2441 L224.098 47.2441  Z\n",
       "  \" fill=\"#ffffff\" fill-rule=\"evenodd\" fill-opacity=\"1\"/>\n",
       "<defs>\n",
       "  <clipPath id=\"clip372\">\n",
       "    <rect x=\"224\" y=\"47\" width=\"2130\" height=\"1440\"/>\n",
       "  </clipPath>\n",
       "</defs>\n",
       "<polyline clip-path=\"url(#clip372)\" style=\"stroke:#000000; stroke-width:2; stroke-opacity:0.1; fill:none\" points=\"\n",
       "  284.343,1486.45 284.343,47.2441 \n",
       "  \"/>\n",
       "<polyline clip-path=\"url(#clip372)\" style=\"stroke:#000000; stroke-width:2; stroke-opacity:0.1; fill:none\" points=\"\n",
       "  711.639,1486.45 711.639,47.2441 \n",
       "  \"/>\n",
       "<polyline clip-path=\"url(#clip372)\" style=\"stroke:#000000; stroke-width:2; stroke-opacity:0.1; fill:none\" points=\"\n",
       "  1138.94,1486.45 1138.94,47.2441 \n",
       "  \"/>\n",
       "<polyline clip-path=\"url(#clip372)\" style=\"stroke:#000000; stroke-width:2; stroke-opacity:0.1; fill:none\" points=\"\n",
       "  1566.23,1486.45 1566.23,47.2441 \n",
       "  \"/>\n",
       "<polyline clip-path=\"url(#clip372)\" style=\"stroke:#000000; stroke-width:2; stroke-opacity:0.1; fill:none\" points=\"\n",
       "  1993.53,1486.45 1993.53,47.2441 \n",
       "  \"/>\n",
       "<polyline clip-path=\"url(#clip370)\" style=\"stroke:#000000; stroke-width:4; stroke-opacity:1; fill:none\" points=\"\n",
       "  224.098,1486.45 2352.76,1486.45 \n",
       "  \"/>\n",
       "<polyline clip-path=\"url(#clip370)\" style=\"stroke:#000000; stroke-width:4; stroke-opacity:1; fill:none\" points=\"\n",
       "  284.343,1486.45 284.343,1469.18 \n",
       "  \"/>\n",
       "<polyline clip-path=\"url(#clip370)\" style=\"stroke:#000000; stroke-width:4; stroke-opacity:1; fill:none\" points=\"\n",
       "  711.639,1486.45 711.639,1469.18 \n",
       "  \"/>\n",
       "<polyline clip-path=\"url(#clip370)\" style=\"stroke:#000000; stroke-width:4; stroke-opacity:1; fill:none\" points=\"\n",
       "  1138.94,1486.45 1138.94,1469.18 \n",
       "  \"/>\n",
       "<polyline clip-path=\"url(#clip370)\" style=\"stroke:#000000; stroke-width:4; stroke-opacity:1; fill:none\" points=\"\n",
       "  1566.23,1486.45 1566.23,1469.18 \n",
       "  \"/>\n",
       "<polyline clip-path=\"url(#clip370)\" style=\"stroke:#000000; stroke-width:4; stroke-opacity:1; fill:none\" points=\"\n",
       "  1993.53,1486.45 1993.53,1469.18 \n",
       "  \"/>\n",
       "<path clip-path=\"url(#clip370)\" d=\"M 0 0 M261.727 1515.64 Q258.116 1515.64 256.288 1519.2 Q254.482 1522.75 254.482 1529.87 Q254.482 1536.98 256.288 1540.55 Q258.116 1544.09 261.727 1544.09 Q265.362 1544.09 267.167 1540.55 Q268.996 1536.98 268.996 1529.87 Q268.996 1522.75 267.167 1519.2 Q265.362 1515.64 261.727 1515.64 M261.727 1511.93 Q267.537 1511.93 270.593 1516.54 Q273.672 1521.12 273.672 1529.87 Q273.672 1538.6 270.593 1543.21 Q267.537 1547.79 261.727 1547.79 Q255.917 1547.79 252.838 1543.21 Q249.783 1538.6 249.783 1529.87 Q249.783 1521.12 252.838 1516.54 Q255.917 1511.93 261.727 1511.93 Z\" fill=\"#000000\" fill-rule=\"evenodd\" fill-opacity=\"1\" /><path clip-path=\"url(#clip370)\" d=\"M 0 0 M281.889 1541.24 L286.773 1541.24 L286.773 1547.12 L281.889 1547.12 L281.889 1541.24 Z\" fill=\"#000000\" fill-rule=\"evenodd\" fill-opacity=\"1\" /><path clip-path=\"url(#clip370)\" d=\"M 0 0 M306.959 1515.64 Q303.347 1515.64 301.519 1519.2 Q299.713 1522.75 299.713 1529.87 Q299.713 1536.98 301.519 1540.55 Q303.347 1544.09 306.959 1544.09 Q310.593 1544.09 312.398 1540.55 Q314.227 1536.98 314.227 1529.87 Q314.227 1522.75 312.398 1519.2 Q310.593 1515.64 306.959 1515.64 M306.959 1511.93 Q312.769 1511.93 315.824 1516.54 Q318.903 1521.12 318.903 1529.87 Q318.903 1538.6 315.824 1543.21 Q312.769 1547.79 306.959 1547.79 Q301.148 1547.79 298.07 1543.21 Q295.014 1538.6 295.014 1529.87 Q295.014 1521.12 298.07 1516.54 Q301.148 1511.93 306.959 1511.93 Z\" fill=\"#000000\" fill-rule=\"evenodd\" fill-opacity=\"1\" /><path clip-path=\"url(#clip370)\" d=\"M 0 0 M689.822 1515.64 Q686.211 1515.64 684.382 1519.2 Q682.577 1522.75 682.577 1529.87 Q682.577 1536.98 684.382 1540.55 Q686.211 1544.09 689.822 1544.09 Q693.456 1544.09 695.262 1540.55 Q697.091 1536.98 697.091 1529.87 Q697.091 1522.75 695.262 1519.2 Q693.456 1515.64 689.822 1515.64 M689.822 1511.93 Q695.632 1511.93 698.688 1516.54 Q701.766 1521.12 701.766 1529.87 Q701.766 1538.6 698.688 1543.21 Q695.632 1547.79 689.822 1547.79 Q684.012 1547.79 680.933 1543.21 Q677.878 1538.6 677.878 1529.87 Q677.878 1521.12 680.933 1516.54 Q684.012 1511.93 689.822 1511.93 Z\" fill=\"#000000\" fill-rule=\"evenodd\" fill-opacity=\"1\" /><path clip-path=\"url(#clip370)\" d=\"M 0 0 M709.984 1541.24 L714.868 1541.24 L714.868 1547.12 L709.984 1547.12 L709.984 1541.24 Z\" fill=\"#000000\" fill-rule=\"evenodd\" fill-opacity=\"1\" /><path clip-path=\"url(#clip370)\" d=\"M 0 0 M729.081 1543.18 L745.4 1543.18 L745.4 1547.12 L723.456 1547.12 L723.456 1543.18 Q726.118 1540.43 730.701 1535.8 Q735.308 1531.15 736.488 1529.81 Q738.734 1527.28 739.613 1525.55 Q740.516 1523.79 740.516 1522.1 Q740.516 1519.34 738.572 1517.61 Q736.651 1515.87 733.549 1515.87 Q731.35 1515.87 728.896 1516.63 Q726.465 1517.4 723.688 1518.95 L723.688 1514.23 Q726.512 1513.09 728.965 1512.51 Q731.419 1511.93 733.456 1511.93 Q738.826 1511.93 742.021 1514.62 Q745.215 1517.31 745.215 1521.8 Q745.215 1523.93 744.405 1525.85 Q743.618 1527.74 741.512 1530.34 Q740.933 1531.01 737.831 1534.23 Q734.729 1537.42 729.081 1543.18 Z\" fill=\"#000000\" fill-rule=\"evenodd\" fill-opacity=\"1\" /><path clip-path=\"url(#clip370)\" d=\"M 0 0 M1116.08 1515.64 Q1112.47 1515.64 1110.64 1519.2 Q1108.83 1522.75 1108.83 1529.87 Q1108.83 1536.98 1110.64 1540.55 Q1112.47 1544.09 1116.08 1544.09 Q1119.71 1544.09 1121.52 1540.55 Q1123.35 1536.98 1123.35 1529.87 Q1123.35 1522.75 1121.52 1519.2 Q1119.71 1515.64 1116.08 1515.64 M1116.08 1511.93 Q1121.89 1511.93 1124.94 1516.54 Q1128.02 1521.12 1128.02 1529.87 Q1128.02 1538.6 1124.94 1543.21 Q1121.89 1547.79 1116.08 1547.79 Q1110.27 1547.79 1107.19 1543.21 Q1104.13 1538.6 1104.13 1529.87 Q1104.13 1521.12 1107.19 1516.54 Q1110.27 1511.93 1116.08 1511.93 Z\" fill=\"#000000\" fill-rule=\"evenodd\" fill-opacity=\"1\" /><path clip-path=\"url(#clip370)\" d=\"M 0 0 M1136.24 1541.24 L1141.12 1541.24 L1141.12 1547.12 L1136.24 1547.12 L1136.24 1541.24 Z\" fill=\"#000000\" fill-rule=\"evenodd\" fill-opacity=\"1\" /><path clip-path=\"url(#clip370)\" d=\"M 0 0 M1164.16 1516.63 L1152.35 1535.08 L1164.16 1535.08 L1164.16 1516.63 M1162.93 1512.56 L1168.81 1512.56 L1168.81 1535.08 L1173.74 1535.08 L1173.74 1538.97 L1168.81 1538.97 L1168.81 1547.12 L1164.16 1547.12 L1164.16 1538.97 L1148.55 1538.97 L1148.55 1534.46 L1162.93 1512.56 Z\" fill=\"#000000\" fill-rule=\"evenodd\" fill-opacity=\"1\" /><path clip-path=\"url(#clip370)\" d=\"M 0 0 M1543.53 1515.64 Q1539.92 1515.64 1538.09 1519.2 Q1536.29 1522.75 1536.29 1529.87 Q1536.29 1536.98 1538.09 1540.55 Q1539.92 1544.09 1543.53 1544.09 Q1547.17 1544.09 1548.97 1540.55 Q1550.8 1536.98 1550.8 1529.87 Q1550.8 1522.75 1548.97 1519.2 Q1547.17 1515.64 1543.53 1515.64 M1543.53 1511.93 Q1549.34 1511.93 1552.4 1516.54 Q1555.48 1521.12 1555.48 1529.87 Q1555.48 1538.6 1552.4 1543.21 Q1549.34 1547.79 1543.53 1547.79 Q1537.72 1547.79 1534.65 1543.21 Q1531.59 1538.6 1531.59 1529.87 Q1531.59 1521.12 1534.65 1516.54 Q1537.72 1511.93 1543.53 1511.93 Z\" fill=\"#000000\" fill-rule=\"evenodd\" fill-opacity=\"1\" /><path clip-path=\"url(#clip370)\" d=\"M 0 0 M1563.7 1541.24 L1568.58 1541.24 L1568.58 1547.12 L1563.7 1547.12 L1563.7 1541.24 Z\" fill=\"#000000\" fill-rule=\"evenodd\" fill-opacity=\"1\" /><path clip-path=\"url(#clip370)\" d=\"M 0 0 M1589.34 1527.98 Q1586.2 1527.98 1584.34 1530.13 Q1582.52 1532.28 1582.52 1536.03 Q1582.52 1539.76 1584.34 1541.93 Q1586.2 1544.09 1589.34 1544.09 Q1592.49 1544.09 1594.32 1541.93 Q1596.17 1539.76 1596.17 1536.03 Q1596.17 1532.28 1594.32 1530.13 Q1592.49 1527.98 1589.34 1527.98 M1598.63 1513.32 L1598.63 1517.58 Q1596.87 1516.75 1595.06 1516.31 Q1593.28 1515.87 1591.52 1515.87 Q1586.89 1515.87 1584.44 1519 Q1582.01 1522.12 1581.66 1528.44 Q1583.03 1526.43 1585.09 1525.36 Q1587.15 1524.27 1589.62 1524.27 Q1594.83 1524.27 1597.84 1527.44 Q1600.87 1530.59 1600.87 1536.03 Q1600.87 1541.36 1597.72 1544.57 Q1594.58 1547.79 1589.34 1547.79 Q1583.35 1547.79 1580.18 1543.21 Q1577.01 1538.6 1577.01 1529.87 Q1577.01 1521.68 1580.9 1516.82 Q1584.78 1511.93 1591.34 1511.93 Q1593.09 1511.93 1594.88 1512.28 Q1596.68 1512.63 1598.63 1513.32 Z\" fill=\"#000000\" fill-rule=\"evenodd\" fill-opacity=\"1\" /><path clip-path=\"url(#clip370)\" d=\"M 0 0 M1970.96 1515.64 Q1967.35 1515.64 1965.52 1519.2 Q1963.71 1522.75 1963.71 1529.87 Q1963.71 1536.98 1965.52 1540.55 Q1967.35 1544.09 1970.96 1544.09 Q1974.59 1544.09 1976.4 1540.55 Q1978.23 1536.98 1978.23 1529.87 Q1978.23 1522.75 1976.4 1519.2 Q1974.59 1515.64 1970.96 1515.64 M1970.96 1511.93 Q1976.77 1511.93 1979.82 1516.54 Q1982.9 1521.12 1982.9 1529.87 Q1982.9 1538.6 1979.82 1543.21 Q1976.77 1547.79 1970.96 1547.79 Q1965.15 1547.79 1962.07 1543.21 Q1959.01 1538.6 1959.01 1529.87 Q1959.01 1521.12 1962.07 1516.54 Q1965.15 1511.93 1970.96 1511.93 Z\" fill=\"#000000\" fill-rule=\"evenodd\" fill-opacity=\"1\" /><path clip-path=\"url(#clip370)\" d=\"M 0 0 M1991.12 1541.24 L1996 1541.24 L1996 1547.12 L1991.12 1547.12 L1991.12 1541.24 Z\" fill=\"#000000\" fill-rule=\"evenodd\" fill-opacity=\"1\" /><path clip-path=\"url(#clip370)\" d=\"M 0 0 M2016.19 1530.71 Q2012.86 1530.71 2010.93 1532.49 Q2009.04 1534.27 2009.04 1537.4 Q2009.04 1540.52 2010.93 1542.31 Q2012.86 1544.09 2016.19 1544.09 Q2019.52 1544.09 2021.44 1542.31 Q2023.37 1540.5 2023.37 1537.4 Q2023.37 1534.27 2021.44 1532.49 Q2019.55 1530.71 2016.19 1530.71 M2011.51 1528.72 Q2008.5 1527.98 2006.81 1525.92 Q2005.15 1523.86 2005.15 1520.89 Q2005.15 1516.75 2008.09 1514.34 Q2011.05 1511.93 2016.19 1511.93 Q2021.35 1511.93 2024.29 1514.34 Q2027.23 1516.75 2027.23 1520.89 Q2027.23 1523.86 2025.54 1525.92 Q2023.87 1527.98 2020.89 1528.72 Q2024.27 1529.5 2026.14 1531.8 Q2028.04 1534.09 2028.04 1537.4 Q2028.04 1542.42 2024.96 1545.11 Q2021.91 1547.79 2016.19 1547.79 Q2010.47 1547.79 2007.39 1545.11 Q2004.34 1542.42 2004.34 1537.4 Q2004.34 1534.09 2006.24 1531.8 Q2008.13 1529.5 2011.51 1528.72 M2009.8 1521.33 Q2009.8 1524.02 2011.47 1525.52 Q2013.16 1527.03 2016.19 1527.03 Q2019.2 1527.03 2020.89 1525.52 Q2022.6 1524.02 2022.6 1521.33 Q2022.6 1518.65 2020.89 1517.14 Q2019.2 1515.64 2016.19 1515.64 Q2013.16 1515.64 2011.47 1517.14 Q2009.8 1518.65 2009.8 1521.33 Z\" fill=\"#000000\" fill-rule=\"evenodd\" fill-opacity=\"1\" /><polyline clip-path=\"url(#clip372)\" style=\"stroke:#000000; stroke-width:2; stroke-opacity:0.1; fill:none\" points=\"\n",
       "  224.098,1376.25 2352.76,1376.25 \n",
       "  \"/>\n",
       "<polyline clip-path=\"url(#clip372)\" style=\"stroke:#000000; stroke-width:2; stroke-opacity:0.1; fill:none\" points=\"\n",
       "  224.098,1152.26 2352.76,1152.26 \n",
       "  \"/>\n",
       "<polyline clip-path=\"url(#clip372)\" style=\"stroke:#000000; stroke-width:2; stroke-opacity:0.1; fill:none\" points=\"\n",
       "  224.098,928.274 2352.76,928.274 \n",
       "  \"/>\n",
       "<polyline clip-path=\"url(#clip372)\" style=\"stroke:#000000; stroke-width:2; stroke-opacity:0.1; fill:none\" points=\"\n",
       "  224.098,704.288 2352.76,704.288 \n",
       "  \"/>\n",
       "<polyline clip-path=\"url(#clip372)\" style=\"stroke:#000000; stroke-width:2; stroke-opacity:0.1; fill:none\" points=\"\n",
       "  224.098,480.302 2352.76,480.302 \n",
       "  \"/>\n",
       "<polyline clip-path=\"url(#clip372)\" style=\"stroke:#000000; stroke-width:2; stroke-opacity:0.1; fill:none\" points=\"\n",
       "  224.098,256.316 2352.76,256.316 \n",
       "  \"/>\n",
       "<polyline clip-path=\"url(#clip370)\" style=\"stroke:#000000; stroke-width:4; stroke-opacity:1; fill:none\" points=\"\n",
       "  224.098,1486.45 224.098,47.2441 \n",
       "  \"/>\n",
       "<polyline clip-path=\"url(#clip370)\" style=\"stroke:#000000; stroke-width:4; stroke-opacity:1; fill:none\" points=\"\n",
       "  224.098,1376.25 249.642,1376.25 \n",
       "  \"/>\n",
       "<polyline clip-path=\"url(#clip370)\" style=\"stroke:#000000; stroke-width:4; stroke-opacity:1; fill:none\" points=\"\n",
       "  224.098,1152.26 249.642,1152.26 \n",
       "  \"/>\n",
       "<polyline clip-path=\"url(#clip370)\" style=\"stroke:#000000; stroke-width:4; stroke-opacity:1; fill:none\" points=\"\n",
       "  224.098,928.274 249.642,928.274 \n",
       "  \"/>\n",
       "<polyline clip-path=\"url(#clip370)\" style=\"stroke:#000000; stroke-width:4; stroke-opacity:1; fill:none\" points=\"\n",
       "  224.098,704.288 249.642,704.288 \n",
       "  \"/>\n",
       "<polyline clip-path=\"url(#clip370)\" style=\"stroke:#000000; stroke-width:4; stroke-opacity:1; fill:none\" points=\"\n",
       "  224.098,480.302 249.642,480.302 \n",
       "  \"/>\n",
       "<polyline clip-path=\"url(#clip370)\" style=\"stroke:#000000; stroke-width:4; stroke-opacity:1; fill:none\" points=\"\n",
       "  224.098,256.316 249.642,256.316 \n",
       "  \"/>\n",
       "<path clip-path=\"url(#clip370)\" d=\"M 0 0 M50.9921 1376.7 L80.6679 1376.7 L80.6679 1380.63 L50.9921 1380.63 L50.9921 1376.7 Z\" fill=\"#000000\" fill-rule=\"evenodd\" fill-opacity=\"1\" /><path clip-path=\"url(#clip370)\" d=\"M 0 0 M100.76 1362.05 Q97.1493 1362.05 95.3206 1365.61 Q93.515 1369.15 93.515 1376.28 Q93.515 1383.39 95.3206 1386.95 Q97.1493 1390.49 100.76 1390.49 Q104.395 1390.49 106.2 1386.95 Q108.029 1383.39 108.029 1376.28 Q108.029 1369.15 106.2 1365.61 Q104.395 1362.05 100.76 1362.05 M100.76 1358.34 Q106.571 1358.34 109.626 1362.95 Q112.705 1367.53 112.705 1376.28 Q112.705 1385.01 109.626 1389.61 Q106.571 1394.2 100.76 1394.2 Q94.9502 1394.2 91.8715 1389.61 Q88.816 1385.01 88.816 1376.28 Q88.816 1367.53 91.8715 1362.95 Q94.9502 1358.34 100.76 1358.34 Z\" fill=\"#000000\" fill-rule=\"evenodd\" fill-opacity=\"1\" /><path clip-path=\"url(#clip370)\" d=\"M 0 0 M120.922 1387.65 L125.807 1387.65 L125.807 1393.53 L120.922 1393.53 L120.922 1387.65 Z\" fill=\"#000000\" fill-rule=\"evenodd\" fill-opacity=\"1\" /><path clip-path=\"url(#clip370)\" d=\"M 0 0 M136.802 1389.59 L144.441 1389.59 L144.441 1363.23 L136.131 1364.89 L136.131 1360.63 L144.394 1358.97 L149.07 1358.97 L149.07 1389.59 L156.709 1389.59 L156.709 1393.53 L136.802 1393.53 L136.802 1389.59 Z\" fill=\"#000000\" fill-rule=\"evenodd\" fill-opacity=\"1\" /><path clip-path=\"url(#clip370)\" d=\"M 0 0 M176.153 1362.05 Q172.542 1362.05 170.714 1365.61 Q168.908 1369.15 168.908 1376.28 Q168.908 1383.39 170.714 1386.95 Q172.542 1390.49 176.153 1390.49 Q179.788 1390.49 181.593 1386.95 Q183.422 1383.39 183.422 1376.28 Q183.422 1369.15 181.593 1365.61 Q179.788 1362.05 176.153 1362.05 M176.153 1358.34 Q181.964 1358.34 185.019 1362.95 Q188.098 1367.53 188.098 1376.28 Q188.098 1385.01 185.019 1389.61 Q181.964 1394.2 176.153 1394.2 Q170.343 1394.2 167.265 1389.61 Q164.209 1385.01 164.209 1376.28 Q164.209 1367.53 167.265 1362.95 Q170.343 1358.34 176.153 1358.34 Z\" fill=\"#000000\" fill-rule=\"evenodd\" fill-opacity=\"1\" /><path clip-path=\"url(#clip370)\" d=\"M 0 0 M51.9875 1152.71 L81.6633 1152.71 L81.6633 1156.65 L51.9875 1156.65 L51.9875 1152.71 Z\" fill=\"#000000\" fill-rule=\"evenodd\" fill-opacity=\"1\" /><path clip-path=\"url(#clip370)\" d=\"M 0 0 M101.756 1138.06 Q98.1447 1138.06 96.316 1141.62 Q94.5104 1145.17 94.5104 1152.3 Q94.5104 1159.4 96.316 1162.97 Q98.1447 1166.51 101.756 1166.51 Q105.39 1166.51 107.196 1162.97 Q109.024 1159.4 109.024 1152.3 Q109.024 1145.17 107.196 1141.62 Q105.39 1138.06 101.756 1138.06 M101.756 1134.36 Q107.566 1134.36 110.621 1138.96 Q113.7 1143.55 113.7 1152.3 Q113.7 1161.02 110.621 1165.63 Q107.566 1170.21 101.756 1170.21 Q95.9456 1170.21 92.8669 1165.63 Q89.8114 1161.02 89.8114 1152.3 Q89.8114 1143.55 92.8669 1138.96 Q95.9456 1134.36 101.756 1134.36 Z\" fill=\"#000000\" fill-rule=\"evenodd\" fill-opacity=\"1\" /><path clip-path=\"url(#clip370)\" d=\"M 0 0 M121.918 1163.66 L126.802 1163.66 L126.802 1169.54 L121.918 1169.54 L121.918 1163.66 Z\" fill=\"#000000\" fill-rule=\"evenodd\" fill-opacity=\"1\" /><path clip-path=\"url(#clip370)\" d=\"M 0 0 M146.987 1138.06 Q143.376 1138.06 141.547 1141.62 Q139.742 1145.17 139.742 1152.3 Q139.742 1159.4 141.547 1162.97 Q143.376 1166.51 146.987 1166.51 Q150.621 1166.51 152.427 1162.97 Q154.255 1159.4 154.255 1152.3 Q154.255 1145.17 152.427 1141.62 Q150.621 1138.06 146.987 1138.06 M146.987 1134.36 Q152.797 1134.36 155.853 1138.96 Q158.931 1143.55 158.931 1152.3 Q158.931 1161.02 155.853 1165.63 Q152.797 1170.21 146.987 1170.21 Q141.177 1170.21 138.098 1165.63 Q135.043 1161.02 135.043 1152.3 Q135.043 1143.55 138.098 1138.96 Q141.177 1134.36 146.987 1134.36 Z\" fill=\"#000000\" fill-rule=\"evenodd\" fill-opacity=\"1\" /><path clip-path=\"url(#clip370)\" d=\"M 0 0 M167.195 1134.98 L185.552 1134.98 L185.552 1138.92 L171.478 1138.92 L171.478 1147.39 Q172.496 1147.04 173.515 1146.88 Q174.533 1146.69 175.552 1146.69 Q181.339 1146.69 184.718 1149.86 Q188.098 1153.04 188.098 1158.45 Q188.098 1164.03 184.626 1167.13 Q181.153 1170.21 174.834 1170.21 Q172.658 1170.21 170.39 1169.84 Q168.144 1169.47 165.737 1168.73 L165.737 1164.03 Q167.82 1165.17 170.042 1165.72 Q172.265 1166.28 174.741 1166.28 Q178.746 1166.28 181.084 1164.17 Q183.422 1162.06 183.422 1158.45 Q183.422 1154.84 181.084 1152.73 Q178.746 1150.63 174.741 1150.63 Q172.866 1150.63 170.991 1151.05 Q169.14 1151.46 167.195 1152.34 L167.195 1134.98 Z\" fill=\"#000000\" fill-rule=\"evenodd\" fill-opacity=\"1\" /><path clip-path=\"url(#clip370)\" d=\"M 0 0 M100.76 914.073 Q97.1493 914.073 95.3206 917.638 Q93.515 921.179 93.515 928.309 Q93.515 935.416 95.3206 938.98 Q97.1493 942.522 100.76 942.522 Q104.395 942.522 106.2 938.98 Q108.029 935.416 108.029 928.309 Q108.029 921.179 106.2 917.638 Q104.395 914.073 100.76 914.073 M100.76 910.369 Q106.571 910.369 109.626 914.976 Q112.705 919.559 112.705 928.309 Q112.705 937.036 109.626 941.642 Q106.571 946.226 100.76 946.226 Q94.9502 946.226 91.8715 941.642 Q88.816 937.036 88.816 928.309 Q88.816 919.559 91.8715 914.976 Q94.9502 910.369 100.76 910.369 Z\" fill=\"#000000\" fill-rule=\"evenodd\" fill-opacity=\"1\" /><path clip-path=\"url(#clip370)\" d=\"M 0 0 M120.922 939.675 L125.807 939.675 L125.807 945.554 L120.922 945.554 L120.922 939.675 Z\" fill=\"#000000\" fill-rule=\"evenodd\" fill-opacity=\"1\" /><path clip-path=\"url(#clip370)\" d=\"M 0 0 M145.992 914.073 Q142.381 914.073 140.552 917.638 Q138.746 921.179 138.746 928.309 Q138.746 935.416 140.552 938.98 Q142.381 942.522 145.992 942.522 Q149.626 942.522 151.431 938.98 Q153.26 935.416 153.26 928.309 Q153.26 921.179 151.431 917.638 Q149.626 914.073 145.992 914.073 M145.992 910.369 Q151.802 910.369 154.857 914.976 Q157.936 919.559 157.936 928.309 Q157.936 937.036 154.857 941.642 Q151.802 946.226 145.992 946.226 Q140.181 946.226 137.103 941.642 Q134.047 937.036 134.047 928.309 Q134.047 919.559 137.103 914.976 Q140.181 910.369 145.992 910.369 Z\" fill=\"#000000\" fill-rule=\"evenodd\" fill-opacity=\"1\" /><path clip-path=\"url(#clip370)\" d=\"M 0 0 M176.153 914.073 Q172.542 914.073 170.714 917.638 Q168.908 921.179 168.908 928.309 Q168.908 935.416 170.714 938.98 Q172.542 942.522 176.153 942.522 Q179.788 942.522 181.593 938.98 Q183.422 935.416 183.422 928.309 Q183.422 921.179 181.593 917.638 Q179.788 914.073 176.153 914.073 M176.153 910.369 Q181.964 910.369 185.019 914.976 Q188.098 919.559 188.098 928.309 Q188.098 937.036 185.019 941.642 Q181.964 946.226 176.153 946.226 Q170.343 946.226 167.265 941.642 Q164.209 937.036 164.209 928.309 Q164.209 919.559 167.265 914.976 Q170.343 910.369 176.153 910.369 Z\" fill=\"#000000\" fill-rule=\"evenodd\" fill-opacity=\"1\" /><path clip-path=\"url(#clip370)\" d=\"M 0 0 M101.756 690.087 Q98.1447 690.087 96.316 693.652 Q94.5104 697.193 94.5104 704.323 Q94.5104 711.429 96.316 714.994 Q98.1447 718.536 101.756 718.536 Q105.39 718.536 107.196 714.994 Q109.024 711.429 109.024 704.323 Q109.024 697.193 107.196 693.652 Q105.39 690.087 101.756 690.087 M101.756 686.383 Q107.566 686.383 110.621 690.99 Q113.7 695.573 113.7 704.323 Q113.7 713.05 110.621 717.656 Q107.566 722.24 101.756 722.24 Q95.9456 722.24 92.8669 717.656 Q89.8114 713.05 89.8114 704.323 Q89.8114 695.573 92.8669 690.99 Q95.9456 686.383 101.756 686.383 Z\" fill=\"#000000\" fill-rule=\"evenodd\" fill-opacity=\"1\" /><path clip-path=\"url(#clip370)\" d=\"M 0 0 M121.918 715.689 L126.802 715.689 L126.802 721.568 L121.918 721.568 L121.918 715.689 Z\" fill=\"#000000\" fill-rule=\"evenodd\" fill-opacity=\"1\" /><path clip-path=\"url(#clip370)\" d=\"M 0 0 M146.987 690.087 Q143.376 690.087 141.547 693.652 Q139.742 697.193 139.742 704.323 Q139.742 711.429 141.547 714.994 Q143.376 718.536 146.987 718.536 Q150.621 718.536 152.427 714.994 Q154.255 711.429 154.255 704.323 Q154.255 697.193 152.427 693.652 Q150.621 690.087 146.987 690.087 M146.987 686.383 Q152.797 686.383 155.853 690.99 Q158.931 695.573 158.931 704.323 Q158.931 713.05 155.853 717.656 Q152.797 722.24 146.987 722.24 Q141.177 722.24 138.098 717.656 Q135.043 713.05 135.043 704.323 Q135.043 695.573 138.098 690.99 Q141.177 686.383 146.987 686.383 Z\" fill=\"#000000\" fill-rule=\"evenodd\" fill-opacity=\"1\" /><path clip-path=\"url(#clip370)\" d=\"M 0 0 M167.195 687.008 L185.552 687.008 L185.552 690.943 L171.478 690.943 L171.478 699.416 Q172.496 699.068 173.515 698.906 Q174.533 698.721 175.552 698.721 Q181.339 698.721 184.718 701.893 Q188.098 705.064 188.098 710.48 Q188.098 716.059 184.626 719.161 Q181.153 722.24 174.834 722.24 Q172.658 722.24 170.39 721.869 Q168.144 721.499 165.737 720.758 L165.737 716.059 Q167.82 717.193 170.042 717.749 Q172.265 718.304 174.741 718.304 Q178.746 718.304 181.084 716.198 Q183.422 714.092 183.422 710.48 Q183.422 706.869 181.084 704.763 Q178.746 702.656 174.741 702.656 Q172.866 702.656 170.991 703.073 Q169.14 703.49 167.195 704.369 L167.195 687.008 Z\" fill=\"#000000\" fill-rule=\"evenodd\" fill-opacity=\"1\" /><path clip-path=\"url(#clip370)\" d=\"M 0 0 M100.76 466.101 Q97.1493 466.101 95.3206 469.666 Q93.515 473.207 93.515 480.337 Q93.515 487.443 95.3206 491.008 Q97.1493 494.55 100.76 494.55 Q104.395 494.55 106.2 491.008 Q108.029 487.443 108.029 480.337 Q108.029 473.207 106.2 469.666 Q104.395 466.101 100.76 466.101 M100.76 462.397 Q106.571 462.397 109.626 467.004 Q112.705 471.587 112.705 480.337 Q112.705 489.064 109.626 493.67 Q106.571 498.254 100.76 498.254 Q94.9502 498.254 91.8715 493.67 Q88.816 489.064 88.816 480.337 Q88.816 471.587 91.8715 467.004 Q94.9502 462.397 100.76 462.397 Z\" fill=\"#000000\" fill-rule=\"evenodd\" fill-opacity=\"1\" /><path clip-path=\"url(#clip370)\" d=\"M 0 0 M120.922 491.703 L125.807 491.703 L125.807 497.582 L120.922 497.582 L120.922 491.703 Z\" fill=\"#000000\" fill-rule=\"evenodd\" fill-opacity=\"1\" /><path clip-path=\"url(#clip370)\" d=\"M 0 0 M136.802 493.647 L144.441 493.647 L144.441 467.282 L136.131 468.948 L136.131 464.689 L144.394 463.022 L149.07 463.022 L149.07 493.647 L156.709 493.647 L156.709 497.582 L136.802 497.582 L136.802 493.647 Z\" fill=\"#000000\" fill-rule=\"evenodd\" fill-opacity=\"1\" /><path clip-path=\"url(#clip370)\" d=\"M 0 0 M176.153 466.101 Q172.542 466.101 170.714 469.666 Q168.908 473.207 168.908 480.337 Q168.908 487.443 170.714 491.008 Q172.542 494.55 176.153 494.55 Q179.788 494.55 181.593 491.008 Q183.422 487.443 183.422 480.337 Q183.422 473.207 181.593 469.666 Q179.788 466.101 176.153 466.101 M176.153 462.397 Q181.964 462.397 185.019 467.004 Q188.098 471.587 188.098 480.337 Q188.098 489.064 185.019 493.67 Q181.964 498.254 176.153 498.254 Q170.343 498.254 167.265 493.67 Q164.209 489.064 164.209 480.337 Q164.209 471.587 167.265 467.004 Q170.343 462.397 176.153 462.397 Z\" fill=\"#000000\" fill-rule=\"evenodd\" fill-opacity=\"1\" /><path clip-path=\"url(#clip370)\" d=\"M 0 0 M101.756 242.115 Q98.1447 242.115 96.316 245.68 Q94.5104 249.221 94.5104 256.351 Q94.5104 263.457 96.316 267.022 Q98.1447 270.564 101.756 270.564 Q105.39 270.564 107.196 267.022 Q109.024 263.457 109.024 256.351 Q109.024 249.221 107.196 245.68 Q105.39 242.115 101.756 242.115 M101.756 238.411 Q107.566 238.411 110.621 243.018 Q113.7 247.601 113.7 256.351 Q113.7 265.078 110.621 269.684 Q107.566 274.268 101.756 274.268 Q95.9456 274.268 92.8669 269.684 Q89.8114 265.078 89.8114 256.351 Q89.8114 247.601 92.8669 243.018 Q95.9456 238.411 101.756 238.411 Z\" fill=\"#000000\" fill-rule=\"evenodd\" fill-opacity=\"1\" /><path clip-path=\"url(#clip370)\" d=\"M 0 0 M121.918 267.717 L126.802 267.717 L126.802 273.596 L121.918 273.596 L121.918 267.717 Z\" fill=\"#000000\" fill-rule=\"evenodd\" fill-opacity=\"1\" /><path clip-path=\"url(#clip370)\" d=\"M 0 0 M137.797 269.661 L145.436 269.661 L145.436 243.295 L137.126 244.962 L137.126 240.703 L145.39 239.036 L150.066 239.036 L150.066 269.661 L157.705 269.661 L157.705 273.596 L137.797 273.596 L137.797 269.661 Z\" fill=\"#000000\" fill-rule=\"evenodd\" fill-opacity=\"1\" /><path clip-path=\"url(#clip370)\" d=\"M 0 0 M167.195 239.036 L185.552 239.036 L185.552 242.971 L171.478 242.971 L171.478 251.444 Q172.496 251.096 173.515 250.934 Q174.533 250.749 175.552 250.749 Q181.339 250.749 184.718 253.92 Q188.098 257.092 188.098 262.508 Q188.098 268.087 184.626 271.189 Q181.153 274.268 174.834 274.268 Q172.658 274.268 170.39 273.897 Q168.144 273.527 165.737 272.786 L165.737 268.087 Q167.82 269.221 170.042 269.777 Q172.265 270.332 174.741 270.332 Q178.746 270.332 181.084 268.226 Q183.422 266.119 183.422 262.508 Q183.422 258.897 181.084 256.791 Q178.746 254.684 174.741 254.684 Q172.866 254.684 170.991 255.101 Q169.14 255.518 167.195 256.397 L167.195 239.036 Z\" fill=\"#000000\" fill-rule=\"evenodd\" fill-opacity=\"1\" /><circle clip-path=\"url(#clip372)\" cx=\"335.772\" cy=\"1048.65\" r=\"14\" fill=\"#009af9\" fill-rule=\"evenodd\" fill-opacity=\"1\" stroke=\"#000000\" stroke-opacity=\"1\" stroke-width=\"3.2\"/>\n",
       "<circle clip-path=\"url(#clip372)\" cx=\"284.343\" cy=\"1169.1\" r=\"14\" fill=\"#009af9\" fill-rule=\"evenodd\" fill-opacity=\"1\" stroke=\"#000000\" stroke-opacity=\"1\" stroke-width=\"3.2\"/>\n",
       "<circle clip-path=\"url(#clip372)\" cx=\"284.343\" cy=\"1181.01\" r=\"14\" fill=\"#009af9\" fill-rule=\"evenodd\" fill-opacity=\"1\" stroke=\"#000000\" stroke-opacity=\"1\" stroke-width=\"3.2\"/>\n",
       "<circle clip-path=\"url(#clip372)\" cx=\"2292.51\" cy=\"87.9763\" r=\"14\" fill=\"#009af9\" fill-rule=\"evenodd\" fill-opacity=\"1\" stroke=\"#000000\" stroke-opacity=\"1\" stroke-width=\"3.2\"/>\n",
       "<circle clip-path=\"url(#clip372)\" cx=\"284.343\" cy=\"1445.72\" r=\"14\" fill=\"#009af9\" fill-rule=\"evenodd\" fill-opacity=\"1\" stroke=\"#000000\" stroke-opacity=\"1\" stroke-width=\"3.2\"/>\n",
       "<circle clip-path=\"url(#clip372)\" cx=\"284.343\" cy=\"1266.68\" r=\"14\" fill=\"#009af9\" fill-rule=\"evenodd\" fill-opacity=\"1\" stroke=\"#000000\" stroke-opacity=\"1\" stroke-width=\"3.2\"/>\n",
       "<path clip-path=\"url(#clip370)\" d=\"\n",
       "M1992.85 216.178 L2281.8 216.178 L2281.8 95.2176 L1992.85 95.2176  Z\n",
       "  \" fill=\"#ffffff\" fill-rule=\"evenodd\" fill-opacity=\"1\"/>\n",
       "<polyline clip-path=\"url(#clip370)\" style=\"stroke:#000000; stroke-width:4; stroke-opacity:1; fill:none\" points=\"\n",
       "  1992.85,216.178 2281.8,216.178 2281.8,95.2176 1992.85,95.2176 1992.85,216.178 \n",
       "  \"/>\n",
       "<circle clip-path=\"url(#clip370)\" cx=\"2087.46\" cy=\"155.698\" r=\"23\" fill=\"#009af9\" fill-rule=\"evenodd\" fill-opacity=\"1\" stroke=\"#000000\" stroke-opacity=\"1\" stroke-width=\"5.12\"/>\n",
       "<path clip-path=\"url(#clip370)\" d=\"M 0 0 M2195.91 175.385 Q2194.1 180.015 2192.39 181.427 Q2190.68 182.839 2187.81 182.839 L2184.4 182.839 L2184.4 179.274 L2186.9 179.274 Q2188.66 179.274 2189.64 178.44 Q2190.61 177.607 2191.79 174.505 L2192.55 172.561 L2182.07 147.052 L2186.58 147.052 L2194.68 167.329 L2202.78 147.052 L2207.3 147.052 L2195.91 175.385 Z\" fill=\"#000000\" fill-rule=\"evenodd\" fill-opacity=\"1\" /><path clip-path=\"url(#clip370)\" d=\"M 0 0 M2214.59 169.042 L2222.23 169.042 L2222.23 142.677 L2213.92 144.343 L2213.92 140.084 L2222.18 138.418 L2226.86 138.418 L2226.86 169.042 L2234.5 169.042 L2234.5 172.978 L2214.59 172.978 L2214.59 169.042 Z\" fill=\"#000000\" fill-rule=\"evenodd\" fill-opacity=\"1\" /></svg>\n"
      ]
     },
     "execution_count": 349,
     "metadata": {},
     "output_type": "execute_result"
    }
   ],
   "source": [
    "# Notice the strong correlation\n",
    "scatter(p_star, mkt.gamma - mkt.capacities)"
   ]
  },
  {
   "cell_type": "code",
   "execution_count": 350,
   "metadata": {},
   "outputs": [
    {
     "data": {
      "text/plain": [
       "true"
      ]
     },
     "execution_count": 350,
     "metadata": {},
     "output_type": "execute_result"
    }
   ],
   "source": [
    "A, sort_order = demandmatrix(mkt, p_star)\n",
    "demand(mkt, p_star)[sort_order] ≈ A * p_star[sort_order] + mkt.gamma[sort_order]"
   ]
  },
  {
   "cell_type": "code",
   "execution_count": 351,
   "metadata": {},
   "outputs": [
    {
     "data": {
      "text/plain": [
       "6×6 Matrix{Float64}:\n",
       " -0.164348    0.0   0.0        0.0327979   0.0         0.0\n",
       "  0.0429422  -1.0   0.562892   0.043574    0.0968454   0.0789744\n",
       "  0.0552994   0.0  -0.562892   0.056113    0.124714    0.1017\n",
       "  0.0         0.0   0.0       -0.199564    0.0         0.0\n",
       "  0.0279614   0.0   0.0        0.0283728  -0.221559    0.0514235\n",
       "  0.0381448   0.0   0.0        0.038706    0.0        -0.232098"
      ]
     },
     "execution_count": 351,
     "metadata": {},
     "output_type": "execute_result"
    }
   ],
   "source": [
    "inv_sort_order = invperm(sort_order)\n",
    "B = A[inv_sort_order, inv_sort_order]"
   ]
  },
  {
   "cell_type": "code",
   "execution_count": 352,
   "metadata": {},
   "outputs": [
    {
     "data": {
      "text/plain": [
       "6-element BitVector:\n",
       " 1\n",
       " 0\n",
       " 0\n",
       " 1\n",
       " 0\n",
       " 0"
      ]
     },
     "execution_count": 352,
     "metadata": {},
     "output_type": "execute_result"
    }
   ],
   "source": [
    "idx = p_star .> 0"
   ]
  },
  {
   "cell_type": "code",
   "execution_count": 353,
   "metadata": {},
   "outputs": [
    {
     "data": {
      "text/plain": [
       "6-element Vector{Float64}:\n",
       " 0.15842191056062965\n",
       " 0.21676289577981173\n",
       " 0.279139394838357\n",
       " 0.011985400648549865\n",
       " 0.1411434002164737\n",
       " 0.19254699795617808"
      ]
     },
     "execution_count": 353,
     "metadata": {},
     "output_type": "execute_result"
    }
   ],
   "source": [
    "demand(mkt, p_star)"
   ]
  },
  {
   "cell_type": "code",
   "execution_count": 354,
   "metadata": {},
   "outputs": [
    {
     "data": {
      "text/plain": [
       "6-element Vector{Float64}:\n",
       " 0.15842191056062963\n",
       " 0.21676289577981164\n",
       " 0.2791393948383569\n",
       " 0.011985400648549804\n",
       " 0.14114340021647367\n",
       " 0.19254699795617802"
      ]
     },
     "execution_count": 354,
     "metadata": {},
     "output_type": "execute_result"
    }
   ],
   "source": [
    "B[:, idx] * inv(B)[idx, :] * (mkt.capacities - mkt.gamma) + mkt.gamma"
   ]
  },
  {
   "cell_type": "code",
   "execution_count": 355,
   "metadata": {},
   "outputs": [
    {
     "data": {
      "text/plain": [
       "6×6 Matrix{Float64}:\n",
       " 0.0  0.0  0.0  0.0  -0.2613  -0.2613\n",
       " 0.0  0.0  0.0  0.0  -0.3365  -0.3365\n",
       " 0.0  0.0  0.0  0.0  -0.1701  -0.1701\n",
       " 0.0  0.0  0.0  0.0  -0.2321  -0.2321\n",
       " 0.0  0.0  0.0  0.0   1.0      0.0\n",
       " 0.0  0.0  0.0  0.0   0.0      1.0"
      ]
     },
     "execution_count": 355,
     "metadata": {},
     "output_type": "execute_result"
    }
   ],
   "source": [
    "# Block matrix described below\n",
    "# [ 0 T ;\n",
    "#   0 I ] =\n",
    "round.((B[:, idx] * inv(B)[idx, :])[sort_order, sort_order], digits=4)"
   ]
  },
  {
   "cell_type": "markdown",
   "metadata": {},
   "source": [
    "## References\n",
    "\n",
    "- Abdulkadiroğlu, Atila, Yeon-Koo Che, and Yosuke Yasuda. 2015. &ldquo;Expanding &lsquo;Choice&rsquo; in School Choice.&rdquo; *American Economic Journal: Microeconomics* 7, no. 1 (Feb.): 1&ndash;42."
   ]
  },
  {
   "cell_type": "code",
   "execution_count": null,
   "metadata": {},
   "outputs": [],
   "source": []
  }
 ],
 "metadata": {
  "kernelspec": {
   "display_name": "Julia 1.6.1",
   "language": "julia",
   "name": "julia-1.6"
  },
  "language_info": {
   "file_extension": ".jl",
   "mimetype": "application/julia",
   "name": "julia",
   "version": "1.6.1"
  }
 },
 "nbformat": 4,
 "nbformat_minor": 5
}
