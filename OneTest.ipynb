{
 "cells": [
  {
   "cell_type": "markdown",
   "metadata": {},
   "source": [
    "# Admissions markets with a single score and MNL choice\n",
    "Let’s consider a special kind of admissions market that has not received much attention in the school-choice literature but approximates the admissions procedure used in many systems around the world.\n",
    "\n",
    "In the *single-score* model, all schools share the same ranking over the students. Here are a few situations in which a single-score system may arise:\n",
    "- A centralized college admissions market similar to that used in China, where college admissions are determined largely by a single test score.\n",
    "- Students are scored using a consistent linear combination of various dimensions of student characteristics, e.g. 70% test scores, 20% GPA, 10% letter of recommendation.\n",
    "- Single tiebreaking, in which a central agency assigns (by lottery) an admissions priority ranking to each student and students are matched to their favorite schools in priority order.\n",
    "\n",
    "Regardless of the device used to generate the single scores, taking percentile scores over the distribution allows us to assume that the scores are uniformly distributed on the interval $[0,1]$. \n",
    "\n",
    "We also need to account for students' choice of school. In this model, students use the *multinomial logit choice* model. This means that each school has a given *quality* $\\delta_c$. Each student is admitted to a certain set of schools $C^\\#$, and from this set, she chooses to attend school $c$ with probability\n",
    "\n",
    "$$\\frac{\\exp \\delta_c}{\\sum_{d \\in C^\\#} \\exp \\delta_d}$$\n",
    "\n",
    "For convenience, let $\\gamma_c \\equiv \\exp \\delta_c > 0$. Since the equation is homogeneous in $\\gamma$, we may assume without loss of generality that $\\sum_c \\gamma_c = 1$. I will refrain from this assumption in the explanatory text but make full use of it in the code.\n",
    "\n",
    "## Demand function\n",
    "The first quantity we need to define is the *demand function,* which indicates how many students will attend each school given the school's quality $\\gamma$ and some information about the school's selectivity. Specifically, each school sets a *cutoff* $p_c$ and admits all students whose score exceeds the cutoff. The demand function $D_c(\\gamma, p)$ indicates how many students come to school $c$, representated as a fraction of the total number of students in the market. Observe that $D_c$ is a function not just of $p_c$ but also of the cutoffs at all the other schools, since if another school becomes more selective, the demand at $c$ may increase.\n",
    "\n",
    "Let's figure out this function. First, sort the schools by cutoff, i.e. so that\n",
    "\n",
    "$$p_1 \\leq p_2 \\leq \\dots \\leq p_{|C|}$$\n",
    "\n",
    "Then there are only $|C| + 1$ possible consideration sets for each student: \n",
    "\n",
    "| Symbol          | Consideration&nbsp;set                          | Probability           |\n",
    "|-----------------|--------------------------------------------|-----------------------|\n",
    "| $C_{[0]}$       | $\\varnothing$                              | $p_1$                 |\n",
    "| $C_{[1]}$       | $\\left\\{ c_1 \\right\\}$                     | $p_2 - p_1$           |\n",
    "| $C_{[2]}$       | $\\left\\{ c_1, c_2 \\right\\}$                | $p_3 - p_2$           |\n",
    "| $\\vdots$        | $\\vdots$                                   | $\\vdots$              |\n",
    "| $C_{[|C| - 1]}$ | $\\left\\{ c_1, \\dots, c_{|C| - 1} \\right\\}$ | $p_{|C|} - p_{|C|-1}$ |\n",
    "| $C_{[|C|]}$     | $\\left\\{ c_1, \\dots, c_{|C|} \\right\\}$     | $1 - p_{|C|}$         |\n",
    "\n",
    "This greatly simplifies the demand function. Letting $p_{|C|+1} \\equiv 1$,\n",
    "\n",
    "$$\\begin{equation}D_c = \\sum_{d=c}^{|C|} \n",
    "\\underbrace{\\frac{{\\gamma_c}}{ \\sum_{i=1}^d {\\gamma_i}}}_{\\substack{\\text{prob. of choosing  }\\\\ c\\text{ from assortment}}} \n",
    "\\overbrace{\\left(p_{d+1} - p_{d}\\right)}^{\\substack{\\text{prob. of having}\\\\ \\text{assortment }C_{[d]}}} \\end{equation}$$\n",
    "\n",
    "If at least one school has $p_c = 0$, then every student can get in somewhere, and $\\sum_c D_c = 1$. Generally, there are $p_1$ students who get in nowhere, and $\\sum_c D_c = 1 - p_1$. \n",
    "\n",
    "The demand function is *piecewise linear* in $p$ (piecewise because the ordering of the $p_c$ values changes). Expanding the equation above,\n",
    "\n",
    "$$D_c = \\gamma_c \\left[ \\left(\\frac{-1}{\\sum_{i=1}^c \\gamma_i}\\right) p_c\n",
    "+ \\left(\\frac{1}{\\sum_{i=1}^{c} \\gamma_i} - \\frac{1}{\\sum_{i=1}^{c+1} \\gamma_i} \\right) p_{c+1}\n",
    "+ \\left(\\frac{1}{\\sum_{i=1}^{c+1} \\gamma_i} - \\frac{1}{\\sum_{i=1}^{c+2} \\gamma_i}\\right) p_{c+2}\n",
    "+ \\cdots\n",
    "+ \\left(\\frac{1}{\\sum_{i=1}^{|C|-1} \\gamma_i} - \\frac{1}{\\sum_{i=1}^{|C|} \\gamma_i}\\right) p_{|C|}\n",
    "+ \\frac{1}{\\sum_{i=1}^{|C|} \\gamma_i}\n",
    "\\right]$$\n",
    "\n",
    "and we can see that the demand vector is defined by the system\n",
    "\n",
    "$$ D = A p + \\frac{1}{\\sum_{i=1}^{|C|} \\gamma_i}\\gamma$$\n",
    "\n",
    "where \n",
    "\n",
    "$$A \\equiv \\begin{bmatrix}\n",
    "\\gamma_1 \\left( \\frac{-1}{\\gamma_1} \\right) & \\gamma_1 \\left(\\frac{1}{\\gamma_1} - \\frac{1}{\\gamma_1 + \\gamma_2} \\right) & \\gamma_1 \\left(\\frac{1}{\\gamma_1 + \\gamma_2} - \\frac{1}{\\gamma_1 + \\gamma_2 + \\gamma_3} \\right) & \\cdots &  \\gamma_1 \\left(\\frac{1}{\\sum_{i=1}^{|C| - 1}\\gamma_i} - \\frac{1}{\\sum_{i=1}^{|C|}\\gamma_i}  \\right)  \\\\\n",
    "0 & \\gamma_2 \\left( \\frac{-1}{\\gamma_1 + \\gamma_2} \\right) & \\gamma_2 \\left(\\frac{1}{\\gamma_1 + \\gamma_2} - \\frac{1}{\\gamma_1 + \\gamma_2 + \\gamma_3} \\right) & \\cdots &  \\gamma_2 \\left(\\frac{1}{\\sum_{i=1}^{|C| - 1}\\gamma_i} - \\frac{1}{\\sum_{i=1}^{|C|}\\gamma_i} \\right)  \\\\\n",
    "0 & 0 & \\gamma_3 \\left( \\frac{-1}{\\gamma_1 + \\gamma_2 + \\gamma_3} \\right) & \\cdots &  \\gamma_3 \\left(\\frac{1}{\\sum_{i=1}^{|C| - 1}\\gamma_i} - 1 \\right)  \\\\\n",
    "\\vdots & \\vdots & \\vdots & \\ddots & \\vdots \\\\\n",
    "0 & 0 & 0 & 0 &  \\gamma_{|C|} \\left(\\frac{1}{\\sum_{i=1}^{|C| - 1}\\gamma_i} -\\frac{1}{\\sum_{i=1}^{|C|}\\gamma_i}  \\right)  \\\\\n",
    "\\end{bmatrix}$$\n",
    "\n",
    "Since $\\gamma > 0$, $A\\in \\mathbb{R}^{|C| \\times |C|}$ is strictly triangular, hence invertible. \n",
    "\n",
    "## Appeal\n",
    "\n",
    "It is also interesting to consider the *appeal* of a school's entering class, or the integral of scores over the set of admitted students (Azevedo and Leshno 2016). This is not necessarily the school's objective function, because schools may value an abstract notion of selectivity or students' tuition dollars higher than this value. \n",
    "\n",
    "The average score of a student with consideration set $C_{[d]}$ is $\\frac{1}{2}\\left(p_{d+1} + p_d\\right)$, so the appeal at $c$ is\n",
    "\n",
    "$$L_c = \\frac{1}{2}\\sum_{d=c}^{|C|} \n",
    "\\frac{{\\gamma_c}}{ \\sum_{i=1}^d {\\gamma_i}} \n",
    "\\left(p_{d+1} - p_{d}\\right)\\left(p_{d+1} + p_{d}\\right) =\n",
    "\\frac{1}{2}\\sum_{d=c}^{|C|} \n",
    "\\frac{{\\gamma_c}}{ \\sum_{i=1}^d {\\gamma_i}} \n",
    "\\left(p_{d+1}^2 -  p_{d}^2\\right)$$\n",
    "\n",
    "By comparison with the expression for $D$, the quality vector is given by \n",
    "\n",
    "$$ L = \\frac{1}{2} A p.^2 + \\frac{1}{2} \\gamma$$\n",
    "\n",
    "where I have used the strange notation $p.^2 = (p_1^2, \\dots, p_{|C|}^2)$ for the entrywise square of $p$.\n",
    "\n",
    "## Computation\n",
    "\n",
    "Let's get a computational environment going. First I define a container for the market information (capacity is discussed later), then the demand and appeal functions. I also define a function that returns the matrix $A$ discussed above; note that $A$ depends on $p$ via permutation. Finally, I define a market that computes the equilibrium for a given market using a generic t&acirc;tonnement procedure."
   ]
  },
  {
   "cell_type": "code",
   "execution_count": 255,
   "metadata": {},
   "outputs": [
    {
     "data": {
      "text/plain": [
       "quickeq"
      ]
     },
     "execution_count": 255,
     "metadata": {},
     "output_type": "execute_result"
    }
   ],
   "source": [
    "using LinearAlgebra\n",
    "\n",
    "\"\"\"\n",
    "Contains static information about a school-choice market.\n",
    "\"\"\"\n",
    "struct Market{T<:AbstractFloat}\n",
    "    qualities ::Array{T, 1}    # δ\n",
    "    capacities::Array{T, 1}    # q\n",
    "    gamma     ::Array{T, 1}    # γ\n",
    "end\n",
    "\n",
    "\"\"\"\n",
    "    Market(qualities, capacities)\n",
    "\n",
    "Instantiate a school-choice market. `gamma` is normalized to sum to one.\n",
    "\"\"\"\n",
    "function Market(qualities::Array{T, 1}, capacities::Array{T, 1}) where {T<:AbstractFloat}\n",
    "    length(qualities) == length(capacities) || return throw(DimensionMismatch)\n",
    "    gamma = exp.(qualities)\n",
    "    gamma /= sum(gamma)\n",
    "    return Market{T}(qualities, capacities, gamma)\n",
    "end\n",
    "    \n",
    "    \n",
    "\"\"\"\n",
    "    Market(m)\n",
    "\n",
    "Generate a random market with m schools.\n",
    "\"\"\"\n",
    "function Market(m::Int) \n",
    "    qualities = rand(m)\n",
    "    capacities = 2 * rand(m)/m\n",
    "    return Market(qualities, capacities)\n",
    "end\n",
    "\n",
    "\n",
    "\"\"\"\n",
    "    demand(market, cutoffs)\n",
    "\n",
    "Return demand for each school given a set of cutoffs and ignoring capacity, using\n",
    "multinomial logit choice model with one student profile and a single test score.\n",
    "\"\"\"\n",
    "function demand(market      ::Market,\n",
    "                cutoffs     ::AbstractArray{<:AbstractFloat, 1};\n",
    "                )::AbstractArray{<:AbstractFloat, 1}\n",
    "    \n",
    "    m = length(market.qualities)\n",
    "    demands = zeros(m)\n",
    "\n",
    "    sort_order = sortperm(cutoffs)\n",
    "    cutoffs[sort_order]\n",
    "\n",
    "    γ = exp.(market.qualities)\n",
    "    demands = zeros(m)\n",
    "\n",
    "    consideration_set_probabilities = diff([cutoffs[sort_order]; 1])\n",
    "\n",
    "    for c in 1:m, d in c:m     # For each score threshold\n",
    "        demands[sort_order[c]] += consideration_set_probabilities[d] *\n",
    "                                  γ[sort_order[c]] / sum(γ[sort_order[1:d]])\n",
    "    end\n",
    "\n",
    "    return demands\n",
    "end\n",
    "\n",
    "\n",
    "\"\"\"\n",
    "    appeal(market, cutoffs)\n",
    "\n",
    "Return appeal of entring class at each school given a set of cutoffs, using\n",
    "multinomial logit choice model with one student profile and a single test score.\n",
    "\"\"\"\n",
    "function appeal(market      ::Market,\n",
    "                cutoffs     ::AbstractArray{<:AbstractFloat, 1};\n",
    "                )::AbstractArray{<:AbstractFloat, 1}\n",
    "    \n",
    "    m = length(market.qualities)\n",
    "    demands = zeros(m)\n",
    "\n",
    "    sort_order = sortperm(cutoffs)\n",
    "    cutoffs[sort_order]\n",
    "\n",
    "    γ = exp.(market.qualities)\n",
    "    appeals = zeros(m)\n",
    "\n",
    "    diff_of_squares = diff([cutoffs[sort_order]; 1] .^ 2)\n",
    "\n",
    "    for c in 1:m, d in c:m     # For each score threshold\n",
    "        appeals[sort_order[c]] += diff_of_squares[d] *\n",
    "                                  γ[sort_order[c]] / sum(γ[sort_order[1:d]])\n",
    "    end\n",
    "\n",
    "    return appeals / 2\n",
    "end\n",
    "\n",
    "\n",
    "\"\"\"\n",
    "    demandmatrix(market, cutoffs)\n",
    "\n",
    "Returns the matrices `A` and the permutation `sort_order` such that\n",
    "\n",
    "````\n",
    "demand(market, p)[sort_order] == A * p[sort_order] + market.gamma[sort_order]\n",
    "````\n",
    "\n",
    "and\n",
    "\n",
    "````\n",
    "appeal(market, p)[sort_order] == (A * p[sort_order] .^2 + market.gamma[sort_order])/2\n",
    "````\n",
    "\"\"\"\n",
    "function demandmatrix(market, cutoffs)\n",
    "    m = length(market.qualities)\n",
    "    \n",
    "    sort_order = sortperm(cutoffs)\n",
    "    \n",
    "    A = UpperTriangular(zeros(m, m))\n",
    "    \n",
    "    for c in 1:m\n",
    "        A[c, c] = -market.gamma[sort_order[c]] / sum(market.gamma[sort_order[1:c]])\n",
    "    end\n",
    "    \n",
    "    for i in 1:m, j in i+1:m\n",
    "        A[i, j] = market.gamma[sort_order[i]] *\n",
    "                    ( 1/sum(market.gamma[sort_order[1:j-1]]) -\n",
    "                      1/sum(market.gamma[sort_order[1:j]]) )\n",
    "    end\n",
    "    \n",
    "    return A, sort_order\n",
    "end\n",
    "\n",
    "\n",
    "\"\"\"\n",
    "    quickeq(market, demand)\n",
    "\n",
    "Very low-tech tatonnement procedure for finding equibilibrium.\n",
    "\"\"\"\n",
    "function quickeq(market::Market, demand::Function; maxit::Int=100)\n",
    "    p = rand(length(market.qualities))\n",
    "    \n",
    "    for i in 1:maxit\n",
    "        p = max.(0, p + .5 * (demand(market, p) - market.capacities) / i^0.001)\n",
    "#         @show p\n",
    "    end\n",
    "    \n",
    "    return p\n",
    "end"
   ]
  },
  {
   "cell_type": "markdown",
   "metadata": {},
   "source": [
    "## Checking the appeal and demand functions\n",
    "\n",
    "Check that this function works as described:"
   ]
  },
  {
   "cell_type": "code",
   "execution_count": 268,
   "metadata": {},
   "outputs": [
    {
     "data": {
      "text/plain": [
       "true"
      ]
     },
     "execution_count": 268,
     "metadata": {},
     "output_type": "execute_result"
    }
   ],
   "source": [
    "mkt = Market(5)\n",
    "p = rand(5)\n",
    "\n",
    "A, sort_order = demandmatrix(mkt, p)\n",
    "\n",
    "demand(mkt, p)[sort_order] ≈ A * p[sort_order] + mkt.gamma[sort_order]"
   ]
  },
  {
   "cell_type": "markdown",
   "metadata": {},
   "source": [
    "Alternatively, "
   ]
  },
  {
   "cell_type": "code",
   "execution_count": 269,
   "metadata": {},
   "outputs": [
    {
     "data": {
      "text/plain": [
       "true"
      ]
     },
     "execution_count": 269,
     "metadata": {},
     "output_type": "execute_result"
    }
   ],
   "source": [
    "inv_sort_order = invperm(sort_order)\n",
    "B = A[inv_sort_order, inv_sort_order]\n",
    "\n",
    "demand(mkt, p) ≈ B * p + mkt.gamma"
   ]
  },
  {
   "cell_type": "markdown",
   "metadata": {},
   "source": [
    "The following fact is handy, because inverting a triangular matrix is easier than inverting a square matrix:"
   ]
  },
  {
   "cell_type": "code",
   "execution_count": 258,
   "metadata": {},
   "outputs": [
    {
     "data": {
      "text/plain": [
       "true"
      ]
     },
     "execution_count": 258,
     "metadata": {},
     "output_type": "execute_result"
    }
   ],
   "source": [
    "inv(A)[inv_sort_order, inv_sort_order] ≈ inv(B)"
   ]
  },
  {
   "cell_type": "markdown",
   "metadata": {},
   "source": [
    "Same check for the appeal function:"
   ]
  },
  {
   "cell_type": "code",
   "execution_count": 270,
   "metadata": {},
   "outputs": [
    {
     "data": {
      "text/plain": [
       "true"
      ]
     },
     "execution_count": 270,
     "metadata": {},
     "output_type": "execute_result"
    }
   ],
   "source": [
    "appeal(mkt, p)[sort_order] ≈ (A * p[sort_order] .^2 + mkt.gamma[sort_order])/2 &&\n",
    "appeal(mkt, p) ≈ (A[inv_sort_order, inv_sort_order] * p .^2 + mkt.gamma)/2"
   ]
  },
  {
   "cell_type": "code",
   "execution_count": 271,
   "metadata": {},
   "outputs": [
    {
     "data": {
      "text/plain": [
       "3-element Vector{Float64}:\n",
       " 0.6264241117626806\n",
       " 0.3999999999955685\n",
       " 0.7632120558798249"
      ]
     },
     "execution_count": 271,
     "metadata": {},
     "output_type": "execute_result"
    }
   ],
   "source": [
    "taipei = Market([2., 1., 2.], [0.2, 0.3, 0.1])\n",
    "p_star = quickeq(taipei, demand)"
   ]
  },
  {
   "cell_type": "code",
   "execution_count": 273,
   "metadata": {},
   "outputs": [
    {
     "data": {
      "text/plain": [
       "3×3 Matrix{Float64}:\n",
       " -0.731059   0.0   0.30874\n",
       "  0.731059  -1.0   0.113579\n",
       "  0.0        0.0  -0.422319"
      ]
     },
     "execution_count": 273,
     "metadata": {},
     "output_type": "execute_result"
    }
   ],
   "source": [
    "A, sort_order = demandmatrix(taipei, p_star)\n",
    "inv_sort_order = invperm(sort_order)\n",
    "B = A[inv_sort_order, inv_sort_order]"
   ]
  },
  {
   "cell_type": "code",
   "execution_count": 277,
   "metadata": {},
   "outputs": [
    {
     "data": {
      "text/plain": [
       "3×3 Matrix{Float64}:\n",
       " -0.457953   0.0   0.235634\n",
       "  0.457953  -0.4   0.0866849\n",
       "  0.0        0.0  -0.322319"
      ]
     },
     "execution_count": 277,
     "metadata": {},
     "output_type": "execute_result"
    }
   ],
   "source": [
    "B * diagm(p_star)"
   ]
  },
  {
   "cell_type": "code",
   "execution_count": 279,
   "metadata": {},
   "outputs": [
    {
     "data": {
      "text/plain": [
       "3×3 Matrix{Float64}:\n",
       " -1.36788  -0.0  -1.0\n",
       " -1.0      -1.0  -1.0\n",
       "  0.0       0.0  -2.36788"
      ]
     },
     "execution_count": 279,
     "metadata": {},
     "output_type": "execute_result"
    }
   ],
   "source": [
    "inv(B)"
   ]
  },
  {
   "cell_type": "code",
   "execution_count": 348,
   "metadata": {},
   "outputs": [
    {
     "data": {
      "text/plain": [
       "6×6 Matrix{Float64}:\n",
       " -1.0   0.0268619   0.131002   0.65426   0.0612728   0.0286863\n",
       "  0.0  -0.215275    0.0        0.0       0.0         0.0\n",
       "  0.0   0.0473973  -0.378902   0.0       0.108115    0.0506164\n",
       "  0.0   0.0508319   0.2479    -0.65426   0.115949    0.0542843\n",
       "  0.0   0.0499439   0.0        0.0      -0.285337    0.053336\n",
       "  0.0   0.0402398   0.0        0.0       0.0        -0.186923"
      ]
     },
     "execution_count": 348,
     "metadata": {},
     "output_type": "execute_result"
    }
   ],
   "source": [
    "mkt = Market(6)\n",
    "p_star = quickeq(mkt, demand)\n",
    "A, sort_order = demandmatrix(mkt, p_star)\n",
    "inv_sort_order = invperm(sort_order)\n",
    "B = A[inv_sort_order, inv_sort_order]"
   ]
  },
  {
   "cell_type": "code",
   "execution_count": 349,
   "metadata": {},
   "outputs": [
    {
     "data": {
      "text/plain": [
       "1.1005894138924703"
      ]
     },
     "execution_count": 349,
     "metadata": {},
     "output_type": "execute_result"
    }
   ],
   "source": [
    "sum(mkt.capacities)"
   ]
  },
  {
   "cell_type": "code",
   "execution_count": 350,
   "metadata": {},
   "outputs": [
    {
     "data": {
      "text/plain": [
       "6×6 Matrix{Float64}:\n",
       " -1.0  -1.0      -1.0     -1.0      -1.0      -1.0\n",
       "  0.0  -4.64523  -0.0     -0.0      -0.0      -0.0\n",
       "  0.0  -1.0      -2.6392  -0.0      -1.0      -1.0\n",
       "  0.0  -1.0      -1.0     -1.52845  -1.0      -1.0\n",
       "  0.0  -1.0       0.0      0.0      -3.50463  -1.0\n",
       "  0.0  -1.0       0.0      0.0       0.0      -5.3498"
      ]
     },
     "execution_count": 350,
     "metadata": {},
     "output_type": "execute_result"
    }
   ],
   "source": [
    "inv(B)"
   ]
  },
  {
   "cell_type": "code",
   "execution_count": 351,
   "metadata": {},
   "outputs": [
    {
     "data": {
      "text/plain": [
       "6-element Vector{Float64}:\n",
       " 0.0\n",
       " 0.7757585077985446\n",
       " 0.04131307427433985\n",
       " 0.023620650919357146\n",
       " 0.14126544033978675\n",
       " 0.3664662213750571"
      ]
     },
     "execution_count": 351,
     "metadata": {},
     "output_type": "execute_result"
    }
   ],
   "source": [
    "p_star"
   ]
  },
  {
   "cell_type": "code",
   "execution_count": 352,
   "metadata": {},
   "outputs": [
    {
     "data": {
      "text/plain": [
       "6-element Vector{Float64}:\n",
       "  0.10059137008893737\n",
       " -1.0433964235806448e-6\n",
       " -3.562377077215295e-7\n",
       " -3.4855833846991757e-7\n",
       " -3.4569628923342144e-7\n",
       "  1.3769229199878108e-7"
      ]
     },
     "execution_count": 352,
     "metadata": {},
     "output_type": "execute_result"
    }
   ],
   "source": [
    "mkt.capacities - demand(mkt, p_star)"
   ]
  },
  {
   "cell_type": "code",
   "execution_count": 353,
   "metadata": {},
   "outputs": [
    {
     "data": {
      "text/plain": [
       "6-element Vector{Float64}:\n",
       " -0.10058941389247018\n",
       "  0.775763354610248\n",
       "  0.04131526585881682\n",
       "  0.023622791309795686\n",
       "  0.14126755758150203\n",
       "  0.3664665281453254"
      ]
     },
     "execution_count": 353,
     "metadata": {},
     "output_type": "execute_result"
    }
   ],
   "source": [
    "B\\(mkt.capacities - mkt.gamma)"
   ]
  },
  {
   "cell_type": "markdown",
   "metadata": {},
   "source": [
    "## Comparative statics\n",
    "\n",
    "An area of interest in economics is *comparative statics,* or numbers that signify the tendencies or incentives available to the competitive actors in a market. \n",
    "\n",
    "Given $D$, $p$, and $\\gamma$, we can use the relations $D = Ap + \\gamma$ and $L = \\frac{1}{2} A p.^2 + \\frac{1}{2}\\gamma$ to make a number of interesting observations about the market.\n",
    "\n",
    "\n",
    "### Price effects\n",
    "The change in demand in response to a change in cutoffs is the Jacobian of the demand function:\n",
    "$$\\mathbf{J}_p D = A = \\begin{bmatrix}\n",
    "\\gamma_1 \\left( \\frac{-1}{\\gamma_1} \\right) & \\gamma_1 \\left(\\frac{1}{\\gamma_1} - \\frac{1}{\\gamma_1 + \\gamma_2} \\right) & \\gamma_1 \\left(\\frac{1}{\\gamma_1 + \\gamma_2} - \\frac{1}{\\gamma_1 + \\gamma_2 + \\gamma_3} \\right) & \\cdots &  \\gamma_1 \\left(\\frac{1}{\\sum_{i=1}^{|C| - 1}\\gamma_i} - \\frac{1}{\\sum_{i=1}^{|C|}\\gamma_i}  \\right)  \\\\\n",
    "0 & \\gamma_2 \\left( \\frac{-1}{\\gamma_1 + \\gamma_2} \\right) & \\gamma_2 \\left(\\frac{1}{\\gamma_1 + \\gamma_2} - \\frac{1}{\\gamma_1 + \\gamma_2 + \\gamma_3} \\right) & \\cdots &  \\gamma_2 \\left(\\frac{1}{\\sum_{i=1}^{|C| - 1}\\gamma_i} - \\frac{1}{\\sum_{i=1}^{|C|}\\gamma_i} \\right)  \\\\\n",
    "0 & 0 & \\gamma_3 \\left( \\frac{-1}{\\gamma_1 + \\gamma_2 + \\gamma_3} \\right) & \\cdots &  \\gamma_3 \\left(\\frac{1}{\\sum_{i=1}^{|C| - 1}\\gamma_i} - 1 \\right)  \\\\\n",
    "\\vdots & \\vdots & \\vdots & \\ddots & \\vdots \\\\\n",
    "0 & 0 & 0 & 0 &  \\gamma_{|C|} \\left(\\frac{1}{\\sum_{i=1}^{|C| - 1}\\gamma_i} -\\frac{1}{\\sum_{i=1}^{|C|}\\gamma_i}  \\right)  \\\\\n",
    "\\end{bmatrix}$$\n",
    "The diagonal is negative, meaning that each school's demand is decreasing in its cutoff (downward-sloping demand curves). The entries above the diagonal are positive, while those below the diagonal are zero. This means that each school $c$'s demand is increasing in the cutoffs of the *more-selective* schools, but the cutoffs of *less-selective schools* have no local effect on the demand at $c$.\n",
    "\n",
    "Intuitively, this means that if all schools are equally preferable, a highly selective school has more market power than the others: If it increases its cutoff, it will cause many students to move onto another school. On the other hand, a school $c'$ that is less preferable than $c$ cannot affect $D_c$'s demand by changing its own cutoff, because any student currently admitted to $c$ was already admitted to $c'$, and chose $c$ instead. \n",
    "\n",
    "Now consider the change in *appeal* in response to a change in cutoffs:\n"
   ]
  },
  {
   "cell_type": "markdown",
   "metadata": {},
   "source": [
    "## Dynamic admissions\n",
    "\n",
    "The market in consideration has four parameters:\n",
    " 1. The vector of school capacities $q$\n",
    " 2. The vector of school qualities $\\gamma$ (or $\\delta$)\n",
    " 3. The demand vector $D$\n",
    " 4. The capacity of each school $q$\n",
    " \n",
    "The first three parameters are related by the demand function $D(\\gamma, p)$.\n",
    "\n",
    "Depending on the design of the market itself, the demand function may or may not satisfy the equilibrium condition\n",
    "$$\\begin{align} D_c &\\leq q_c, \\quad \\forall c \\\\\n",
    "D_c &= q_c, \\quad \\forall c: p_c > 0\\end{align}$$\n",
    "\n",
    "The first condition says that no school's demand exceeds its capacity. The second says that if a school is rejecting students, it must be at full capacity; equivalently, if a school has remaining capacity, it will try to minimize the amount of empty seats by lowering its cutoff all the way to zero.\n",
    "\n",
    "It can be shown that if the parameters satisfy the relation above, then the resultant allocation of students is *stable,* meaning for every student who is *not* matched to her favorite school, each of the schools she prefers to her match has already filled its capacity with better students.  \n",
    " \n",
    "Here are a few scenarios in which we can expect an admissions market to satisfy the equilibrium condition above.\n",
    "- A *centralized school-choice process* such as the deferred acceptance algorithm, in which students submit their preference lists to a central agency that computes a stable match.\n",
    "- A *semicentralized* admissions procedure like that used in Korea, in which the government determines a quota (i.e. capacity) of students who may be admitted to each school, and schools steadily admit students with lower and lower scores over the course of several admissions rounds until they fill their quota. (In the idealized case, this is actually a decentralized deferred acceptance algorithm; in practice, there is variation in scoring practices and limits on how many schools each student can apply to that prevent the equilibrium from being achieved exactly.)\n",
    "- A *decentralized* admissions procedure like that used by private universities in the US. In this case, schools designate their own capacity, which is not necessarily a physical limitation on the number of students it can receive but rather a way of maintaining the school's selective reputation. In this case, schools must observe their demand from year over year and adjust their admissions cutoffs accordingly. If the adjustment process fits certain regularity conditions, then this process converges to the equilibrium defined above. (In fact, a version of this process is how the function `quickeq()` computes equilibria.)\n",
    "\n",
    "These observations are useful because if we can assume the market is at equilibrium, we can reduce the number of parameters:\n",
    "- If $q$ and $\\gamma$ are given, then there is only one equilibrium cutoff vector $p$, which we can find using `quickeq()`.\n",
    "- If $\\gamma$ and $p > 0$ are given, and we are told that the market is at equilibrium, then we can assume that $q = D(\\gamma, p)$, which we can find using the `demand()` function.\n",
    "- If $D$ and $p$ are given, and we are told that the market is at equilibrium, then we can solve for $\\gamma$, as described [in a separate notebook](https://github.com/maxkapur/StudentPrefsRevOpt/blob/main/2_ReverseOptimization.ipynb). If $p>0$, we can additionally assume that $q = D$. "
   ]
  },
  {
   "cell_type": "code",
   "execution_count": null,
   "metadata": {},
   "outputs": [],
   "source": []
  },
  {
   "cell_type": "code",
   "execution_count": 147,
   "metadata": {},
   "outputs": [
    {
     "data": {
      "text/plain": [
       "5×5 Matrix{Float64}:\n",
       " -0.234931   0.0   0.0239967   0.0769739   0.0\n",
       "  0.109574  -1.0   0.0364486   0.116916    0.53359\n",
       "  0.0        0.0  -0.15192     0.0         0.0\n",
       "  0.0        0.0   0.0497757  -0.327645    0.0\n",
       "  0.125357   0.0   0.0416985   0.133756   -0.53359"
      ]
     },
     "execution_count": 147,
     "metadata": {},
     "output_type": "execute_result"
    }
   ],
   "source": [
    "B"
   ]
  },
  {
   "cell_type": "code",
   "execution_count": 34,
   "metadata": {},
   "outputs": [
    {
     "data": {
      "text/plain": [
       "12×3 Matrix{Float64}:\n",
       " 0.0  0.0  0.0\n",
       " 0.0  0.0  0.0\n",
       " 0.0  0.0  0.0\n",
       " 0.0  0.0  0.0\n",
       " 0.0  0.0  0.0\n",
       " 0.0  0.0  0.0\n",
       " 0.0  0.0  0.0\n",
       " 0.0  0.0  0.0\n",
       " 0.0  0.0  0.0\n",
       " 0.0  0.0  0.0\n",
       " 0.0  0.0  0.0\n",
       " 0.0  0.0  0.0"
      ]
     },
     "execution_count": 34,
     "metadata": {},
     "output_type": "execute_result"
    }
   ],
   "source": [
    "UpperTriangular(zeros(12 ,12))[:, [1, 5, 6]]"
   ]
  },
  {
   "cell_type": "markdown",
   "metadata": {},
   "source": [
    "## References\n",
    "\n",
    "- Abdulkadiroğlu, Atila, Yeon-Koo Che, and Yosuke Yasuda. 2015. &ldquo;Expanding &lsquo;Choice&rsquo; in School Choice.&rdquo; *American Economic Journal: Microeconomics* 7, no. 1 (Feb.): 1&ndash;42."
   ]
  },
  {
   "cell_type": "code",
   "execution_count": null,
   "metadata": {},
   "outputs": [],
   "source": []
  }
 ],
 "metadata": {
  "kernelspec": {
   "display_name": "Julia 1.6.1",
   "language": "julia",
   "name": "julia-1.6"
  },
  "language_info": {
   "file_extension": ".jl",
   "mimetype": "application/julia",
   "name": "julia",
   "version": "1.6.1"
  }
 },
 "nbformat": 4,
 "nbformat_minor": 5
}
