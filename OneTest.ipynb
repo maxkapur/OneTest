{
 "cells": [
  {
   "cell_type": "markdown",
   "id": "solved-gibraltar",
   "metadata": {},
   "source": [
    "# Admissions markets with a single scoring criterion and MNL choice\n",
    "Let’s consider a special kind of admissions market that has not received much attention in the school-choice literature but approximates the admissions procedure used in many systems around the world, such as college admissions in South Korea and China. In the *single-score* model, all schools share the same ranking over the students; for example, they care exclusively about students' scores on a specific standardized test. \n",
    "\n",
    "In this model, students use the *multinomial logit choice* model. This means that each school has a given *quality* $\\delta_c$. Given a set of admitted schools $C^\\#$, students attend school $c$ with probability $$\\frac{\\exp \\delta_c}{\\sum_{d \\in C^\\#} \\exp \\delta_d}$$\n",
    "\n",
    "For convenience, let $\\gamma_c \\equiv \\exp \\delta_c$. Since the equation above is homogeneous in $\\gamma$, we may assume without loss of generality that $\\sum \\gamma_c = 1$.  \n",
    "\n",
    "Observe that the single-score model is equivalent to the ideal case of single tiebreaking, in which a central agency assigns (by lottery) an admissions priority ranking to each student. Alternatively, the single-score can be interpreted as a linear combination of various dimensions of student characteristics; this is also an accurate reflection of real-world admissions practice, in which schools allocate a certain scoring weight to test scores, grades, and so on.\n",
    "\n",
    "## Demand function\n",
    "Without loss of generality, assume schools are ordered by cutoff, i.e. that\n",
    "$$p_1 \\leq p_2 \\leq \\dots \\leq p_{|C|}$$\n",
    "Then there are only $|C| + 1$ possible consideration sets for each student: \n",
    "\n",
    "| Symbol   | Consideration set                 | Probability |\n",
    "|-----------------|--------------------------------------------|-----------------------|\n",
    "| $C_{[0]}$       | $\\varnothing$                              | $p_1$                 |\n",
    "| $C_{[1]}$       | $\\left\\{ c_1 \\right\\}$                     | $p_2 - p_1$           |\n",
    "| $C_{[2]}$       | $\\left\\{ c_1, c_2 \\right\\}$                | $p_3 - p_2$           |\n",
    "| $\\vdots$        | $\\vdots$                                   | $\\vdots$              |\n",
    "| $C_{[|C| - 1]}$ | $\\left\\{ c_1, \\dots, c_{|C| - 1} \\right\\}$ | $p_{|C|} - p_{|C|-1}$ |\n",
    "| $C_{[|C|]}$     | $\\left\\{ c_1, \\dots, c_{|C|} \\right\\}$     | $1 - p_{|C|}$         |\n",
    "\n",
    "This greatly simplifies the demand function. Letting $p_{|C|+1} \\equiv 1$,\n",
    "$$\\begin{equation}D_c(p) = \\sum_{d=c}^{|C|} \n",
    "\\underbrace{\\frac{{\\gamma_c}}{ \\sum_{i=1}^d {\\gamma_i}}}_{\\substack{\\text{prob. of choosing  }\\\\ c\\text{ from assortment}}} \n",
    "\\overbrace{\\left(p_{d+1} - p_{d}\\right)}^{\\substack{\\text{prob. of having}\\\\ \\text{assortment }C_{[d]}}} \\end{equation}$$"
   ]
  },
  {
   "cell_type": "code",
   "execution_count": 18,
   "id": "interested-evanescence",
   "metadata": {},
   "outputs": [
    {
     "ename": "LoadError",
     "evalue": "syntax: \"γ = qualities\" inside type definition is reserved around In[18]:3",
     "output_type": "error",
     "traceback": [
      "syntax: \"γ = qualities\" inside type definition is reserved around In[18]:3",
      "",
      "Stacktrace:",
      " [1] top-level scope",
      "   @ In[18]:3",
      " [2] eval",
      "   @ ./boot.jl:360 [inlined]",
      " [3] include_string(mapexpr::typeof(REPL.softscope), mod::Module, code::String, filename::String)",
      "   @ Base ./loading.jl:1094"
     ]
    }
   ],
   "source": [
    "using LinearAlgebra\n",
    "\n",
    "\"\"\"\n",
    "Contains static information about a school-choice market.\n",
    "\"\"\"\n",
    "struct Market\n",
    "    qualities::Array{<:AbstractFloat, 1}   # δ\n",
    "    capacities::Array{<:AbstractFloat, 1}  # q\n",
    "    \n",
    "    γ = qualities\n",
    "end\n",
    "\n",
    "\"\"\"\n",
    "    Market(m)\n",
    "\n",
    "Generate a random market with m schools.\n",
    "\"\"\"\n",
    "function Market(m::Int) \n",
    "    qualities = rand(m)\n",
    "    qualities ./= sum(qualities)\n",
    "    capacities = rand(m)/m\n",
    "    return Market(qualities, capacities)\n",
    "end\n",
    "\n",
    "\"\"\"\n",
    "    demand(market, cutoffs)\n",
    "\n",
    "Return demand for each school given a set of cutoffs and ignoring capacity, using\n",
    "multinomial logit choice model with one student profile and a single test score.\n",
    "\"\"\"\n",
    "function demand(market      ::Market,\n",
    "                cutoffs     ::AbstractArray{<:AbstractFloat, 1};\n",
    "                )::AbstractArray{<:AbstractFloat, 1}\n",
    "    \n",
    "    m = length(market.qualities)\n",
    "    demands = zeros(m)\n",
    "\n",
    "    sort_order = sortperm(cutoffs)\n",
    "    cutoffs[sort_order]\n",
    "\n",
    "    γ = exp.(market.qualities)\n",
    "    demands = zeros(m)\n",
    "\n",
    "    consideration_set_probabilities = diff([cutoffs[sort_order]; 1])\n",
    "\n",
    "    for c in 1:m, d in c:m     # For each score threshold\n",
    "        demands[sort_order[c]] += consideration_set_probabilities[d] *\n",
    "                                  γ[sort_order[c]] / sum(γ[sort_order[1:d]])\n",
    "    end\n",
    "\n",
    "    return demands\n",
    "end\n",
    "\n",
    "\n",
    "\"\"\"\n",
    "    quickeq(market, demand)\n",
    "\n",
    "Very low-tech tatonnement procedure for finding equibilibrium.\n",
    "\"\"\"\n",
    "function quickeq(market::Market, demand::Function; maxit::Int=100)\n",
    "    p = rand(length(market.qualities))\n",
    "    \n",
    "    for i in 1:maxit\n",
    "        p = max.(0, p + .5 * (demand(market, p) - market.capacities) / i^0.001)\n",
    "#         @show p\n",
    "    end\n",
    "    \n",
    "    return p\n",
    "end"
   ]
  },
  {
   "cell_type": "code",
   "execution_count": 17,
   "id": "sweet-tobacco",
   "metadata": {},
   "outputs": [
    {
     "data": {
      "text/plain": [
       "3-element Vector{Float64}:\n",
       " 0.6264241117723929\n",
       " 0.40000000000976904\n",
       " 0.7632120558895371"
      ]
     },
     "execution_count": 17,
     "metadata": {},
     "output_type": "execute_result"
    }
   ],
   "source": [
    "taipei = Market([2., 1., 2.], [0.2, 0.3, 0.1])\n",
    "p_star = quickeq(taipei, demand)"
   ]
  },
  {
   "cell_type": "markdown",
   "id": "hourly-northwest",
   "metadata": {},
   "source": [
    "The demand function is *piecewise linear* in $p$ (piecewise because the ordering of the $p_c$ values changes). Expanding the equation above, we can see that the demand vector is defined by the system\n",
    "$$ D = A p + \\gamma$$\n",
    "where \n",
    "$$A \\equiv \\begin{bmatrix}\n",
    "\\gamma_1 \\left( \\frac{-1}{\\gamma_1} \\right) & \\gamma_1 \\left(\\frac{1}{\\gamma_1} - \\frac{1}{\\gamma_1 + \\gamma_2} \\right) & \\gamma_1 \\left(\\frac{1}{\\gamma_1 + \\gamma_2} - \\frac{1}{\\gamma_1 + \\gamma_2 + \\gamma_3} \\right) & \\cdots &  \\gamma_1 \\left(\\frac{1}{\\sum_{i=1}^{|C| - 1}\\gamma_i} - 1 \\right)  \\\\\n",
    "0 & \\gamma_2 \\left( \\frac{-1}{\\gamma_1 + \\gamma_2} \\right) & \\gamma_2 \\left(\\frac{1}{\\gamma_1 + \\gamma_2} - \\frac{1}{\\gamma_1 + \\gamma_2 + \\gamma_3} \\right) & \\cdots &  \\gamma_2 \\left(\\frac{1}{\\sum_{i=1}^{|C| - 1}\\gamma_i} - 1 \\right)  \\\\\n",
    "0 & 0 & \\gamma_3 \\left( \\frac{-1}{\\gamma_1 + \\gamma_2 + \\gamma_3} \\right) & \\cdots &  \\gamma_3 \\left(\\frac{1}{\\sum_{i=1}^{|C| - 1}\\gamma_i} - 1 \\right)  \\\\\n",
    "\\vdots & \\vdots & \\vdots & \\ddots & \\vdots \\\\\n",
    "0 & 0 & 0 & 0 &  \\gamma_{|C|} \\left(\\frac{1}{\\sum_{i=1}^{|C| - 1}\\gamma_i} - 1 \\right)  \\\\\n",
    "\\end{bmatrix}$$\n",
    "where in the final column I have applied the assumption that $\\sum_{i=1}^{|C| }\\gamma_i = 1$. Assuming $\\gamma > 0$, $A$ is strictly triangular, hence invertible. "
   ]
  },
  {
   "cell_type": "code",
   "execution_count": 15,
   "id": "mental-alaska",
   "metadata": {},
   "outputs": [
    {
     "ename": "LoadError",
     "evalue": "syntax: incomplete: \"function\" at In[15]:1 requires end",
     "output_type": "error",
     "traceback": [
      "syntax: incomplete: \"function\" at In[15]:1 requires end",
      "",
      "Stacktrace:",
      " [1] top-level scope",
      "   @ In[15]:1",
      " [2] eval",
      "   @ ./boot.jl:360 [inlined]",
      " [3] include_string(mapexpr::typeof(REPL.softscope), mod::Module, code::String, filename::String)",
      "   @ Base ./loading.jl:1094"
     ]
    }
   ],
   "source": [
    "function A_gamma(market, cutoffs)\n",
    "    m = length(market.qualities)\n",
    "    A = UpperTriangular(zeros(m, m))\n",
    "    \n",
    "    for c in 1:m\n",
    "        A[m, m] = γ"
   ]
  },
  {
   "cell_type": "code",
   "execution_count": 13,
   "id": "interpreted-meaning",
   "metadata": {},
   "outputs": [
    {
     "data": {
      "text/plain": [
       "12×12 UpperTriangular{Float64, Matrix{Float64}}:\n",
       " 0.0  0.0  0.0  0.0  0.0  0.0  0.0  0.0  0.0  0.0  0.0  0.0\n",
       "  ⋅   0.0  0.0  0.0  0.0  0.0  0.0  0.0  0.0  0.0  0.0  0.0\n",
       "  ⋅    ⋅   0.0  0.0  0.0  0.0  0.0  0.0  0.0  0.0  0.0  0.0\n",
       "  ⋅    ⋅    ⋅   0.0  0.0  0.0  0.0  0.0  0.0  0.0  0.0  0.0\n",
       "  ⋅    ⋅    ⋅    ⋅   0.0  0.0  0.0  0.0  0.0  0.0  0.0  0.0\n",
       "  ⋅    ⋅    ⋅    ⋅    ⋅   0.0  0.0  0.0  0.0  0.0  0.0  0.0\n",
       "  ⋅    ⋅    ⋅    ⋅    ⋅    ⋅   0.0  0.0  0.0  0.0  0.0  0.0\n",
       "  ⋅    ⋅    ⋅    ⋅    ⋅    ⋅    ⋅   0.0  0.0  0.0  0.0  0.0\n",
       "  ⋅    ⋅    ⋅    ⋅    ⋅    ⋅    ⋅    ⋅   0.0  0.0  0.0  0.0\n",
       "  ⋅    ⋅    ⋅    ⋅    ⋅    ⋅    ⋅    ⋅    ⋅   0.0  0.0  0.0\n",
       "  ⋅    ⋅    ⋅    ⋅    ⋅    ⋅    ⋅    ⋅    ⋅    ⋅   0.0  0.0\n",
       "  ⋅    ⋅    ⋅    ⋅    ⋅    ⋅    ⋅    ⋅    ⋅    ⋅    ⋅   0.0"
      ]
     },
     "execution_count": 13,
     "metadata": {},
     "output_type": "execute_result"
    }
   ],
   "source": [
    "UpperTriangular(zeros(12 ,12))"
   ]
  },
  {
   "cell_type": "code",
   "execution_count": null,
   "id": "automatic-tablet",
   "metadata": {},
   "outputs": [],
   "source": []
  }
 ],
 "metadata": {
  "kernelspec": {
   "display_name": "Julia 1.6.0",
   "language": "julia",
   "name": "julia-1.6"
  },
  "language_info": {
   "file_extension": ".jl",
   "mimetype": "application/julia",
   "name": "julia",
   "version": "1.6.1"
  }
 },
 "nbformat": 4,
 "nbformat_minor": 5
}
