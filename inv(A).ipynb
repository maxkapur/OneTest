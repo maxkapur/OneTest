{
 "cells": [
  {
   "cell_type": "code",
   "execution_count": 1,
   "metadata": {},
   "outputs": [],
   "source": [
    "import sympy as sp"
   ]
  },
  {
   "cell_type": "code",
   "execution_count": 2,
   "metadata": {},
   "outputs": [
    {
     "data": {
      "text/latex": [
       "$\\displaystyle \\left[\\begin{matrix}-1 & γ_{1} \\left(- \\frac{1}{γ_{1} + γ_{2}} + \\frac{1}{γ_{1}}\\right) & γ_{1} \\left(- \\frac{1}{γ_{1} + γ_{2} + γ_{3}} + \\frac{1}{γ_{1} + γ_{2}}\\right) & γ_{1} \\left(- \\frac{1}{γ_{1} + γ_{2} + γ_{3} + γ_{4}} + \\frac{1}{γ_{1} + γ_{2} + γ_{3}}\\right) & γ_{1} \\left(- \\frac{1}{γ_{1} + γ_{2} + γ_{3} + γ_{4} + γ_{5}} + \\frac{1}{γ_{1} + γ_{2} + γ_{3} + γ_{4}}\\right)\\\\0 & - \\frac{γ_{2}}{γ_{1} + γ_{2}} & γ_{2} \\left(- \\frac{1}{γ_{1} + γ_{2} + γ_{3}} + \\frac{1}{γ_{1} + γ_{2}}\\right) & γ_{2} \\left(- \\frac{1}{γ_{1} + γ_{2} + γ_{3} + γ_{4}} + \\frac{1}{γ_{1} + γ_{2} + γ_{3}}\\right) & γ_{2} \\left(- \\frac{1}{γ_{1} + γ_{2} + γ_{3} + γ_{4} + γ_{5}} + \\frac{1}{γ_{1} + γ_{2} + γ_{3} + γ_{4}}\\right)\\\\0 & 0 & - \\frac{γ_{3}}{γ_{1} + γ_{2} + γ_{3}} & γ_{3} \\left(- \\frac{1}{γ_{1} + γ_{2} + γ_{3} + γ_{4}} + \\frac{1}{γ_{1} + γ_{2} + γ_{3}}\\right) & γ_{3} \\left(- \\frac{1}{γ_{1} + γ_{2} + γ_{3} + γ_{4} + γ_{5}} + \\frac{1}{γ_{1} + γ_{2} + γ_{3} + γ_{4}}\\right)\\\\0 & 0 & 0 & - \\frac{γ_{4}}{γ_{1} + γ_{2} + γ_{3} + γ_{4}} & γ_{4} \\left(- \\frac{1}{γ_{1} + γ_{2} + γ_{3} + γ_{4} + γ_{5}} + \\frac{1}{γ_{1} + γ_{2} + γ_{3} + γ_{4}}\\right)\\\\0 & 0 & 0 & 0 & - \\frac{γ_{5}}{γ_{1} + γ_{2} + γ_{3} + γ_{4} + γ_{5}}\\end{matrix}\\right]$"
      ],
      "text/plain": [
       "Matrix([\n",
       "[-1, γ_1*(-1/(γ_1 + γ_2) + 1/γ_1), γ_1*(-1/(γ_1 + γ_2 + γ_3) + 1/(γ_1 + γ_2)), γ_1*(-1/(γ_1 + γ_2 + γ_3 + γ_4) + 1/(γ_1 + γ_2 + γ_3)), γ_1*(-1/(γ_1 + γ_2 + γ_3 + γ_4 + γ_5) + 1/(γ_1 + γ_2 + γ_3 + γ_4))],\n",
       "[ 0,             -γ_2/(γ_1 + γ_2), γ_2*(-1/(γ_1 + γ_2 + γ_3) + 1/(γ_1 + γ_2)), γ_2*(-1/(γ_1 + γ_2 + γ_3 + γ_4) + 1/(γ_1 + γ_2 + γ_3)), γ_2*(-1/(γ_1 + γ_2 + γ_3 + γ_4 + γ_5) + 1/(γ_1 + γ_2 + γ_3 + γ_4))],\n",
       "[ 0,                            0,                     -γ_3/(γ_1 + γ_2 + γ_3), γ_3*(-1/(γ_1 + γ_2 + γ_3 + γ_4) + 1/(γ_1 + γ_2 + γ_3)), γ_3*(-1/(γ_1 + γ_2 + γ_3 + γ_4 + γ_5) + 1/(γ_1 + γ_2 + γ_3 + γ_4))],\n",
       "[ 0,                            0,                                          0,                           -γ_4/(γ_1 + γ_2 + γ_3 + γ_4), γ_4*(-1/(γ_1 + γ_2 + γ_3 + γ_4 + γ_5) + 1/(γ_1 + γ_2 + γ_3 + γ_4))],\n",
       "[ 0,                            0,                                          0,                                                      0,                                 -γ_5/(γ_1 + γ_2 + γ_3 + γ_4 + γ_5)]])"
      ]
     },
     "execution_count": 2,
     "metadata": {},
     "output_type": "execute_result"
    }
   ],
   "source": [
    "def A_maker(n):\n",
    "    A = sp.zeros(n, n)\n",
    "    \n",
    "    q = sp.symbols([\"q_\" + str(i) for i in range(1,n+1)])\n",
    "    gamma = sp.symbols([\"γ_\" + str(i) for i in range(1,n+1)])\n",
    "\n",
    "    for c in range(n):\n",
    "        A[c, c] = -gamma[c] / sum(gamma[:c+1])\n",
    "\n",
    "    for i in range(n):\n",
    "        for j in range(i+1, n):\n",
    "            A[i, j] = gamma[i] *  ( 1/sum(gamma[:j]) - 1/sum(gamma[:j+1] ) )\n",
    "            \n",
    "    return A, sp.Matrix(q), sp.Matrix(gamma)\n",
    "\n",
    "n=5\n",
    "A, q, gamma = A_maker(5)\n",
    "A"
   ]
  },
  {
   "cell_type": "markdown",
   "metadata": {},
   "source": [
    "Derive the inverse"
   ]
  },
  {
   "cell_type": "code",
   "execution_count": 4,
   "metadata": {},
   "outputs": [
    {
     "data": {
      "text/latex": [
       "$\\displaystyle \\left[\\begin{matrix}-1 & -1 & -1 & -1 & -1\\\\0 & - \\frac{γ_{1} + γ_{2}}{γ_{2}} & -1 & -1 & -1\\\\0 & 0 & - \\frac{γ_{1} + γ_{2} + γ_{3}}{γ_{3}} & -1 & -1\\\\0 & 0 & 0 & - \\frac{γ_{1} + γ_{2} + γ_{3} + γ_{4}}{γ_{4}} & -1\\\\0 & 0 & 0 & 0 & - \\frac{γ_{1} + γ_{2} + γ_{3} + γ_{4} + γ_{5}}{γ_{5}}\\end{matrix}\\right]$"
      ],
      "text/plain": [
       "Matrix([\n",
       "[-1,               -1,                     -1,                           -1,                                 -1],\n",
       "[ 0, -(γ_1 + γ_2)/γ_2,                     -1,                           -1,                                 -1],\n",
       "[ 0,                0, -(γ_1 + γ_2 + γ_3)/γ_3,                           -1,                                 -1],\n",
       "[ 0,                0,                      0, -(γ_1 + γ_2 + γ_3 + γ_4)/γ_4,                                 -1],\n",
       "[ 0,                0,                      0,                            0, -(γ_1 + γ_2 + γ_3 + γ_4 + γ_5)/γ_5]])"
      ]
     },
     "execution_count": 4,
     "metadata": {},
     "output_type": "execute_result"
    }
   ],
   "source": [
    "A_inv = A.inv()\n",
    "A_inv"
   ]
  },
  {
   "cell_type": "markdown",
   "metadata": {},
   "source": [
    "Show that if the preferability ratios are ordered, then so are the optimal cutoffs"
   ]
  },
  {
   "cell_type": "code",
   "execution_count": 5,
   "metadata": {},
   "outputs": [
    {
     "data": {
      "text/latex": [
       "$\\displaystyle \\left[\\begin{matrix}- q_{1} - q_{2} - q_{3} - q_{4} - q_{5} + \\frac{γ_{1}}{\\Gamma} + \\frac{γ_{2}}{\\Gamma} + \\frac{γ_{3}}{\\Gamma} + \\frac{γ_{4}}{\\Gamma} + \\frac{γ_{5}}{\\Gamma}\\\\- q_{3} - q_{4} - q_{5} - \\frac{\\left(q_{2} - \\frac{γ_{2}}{\\Gamma}\\right) \\left(γ_{1} + γ_{2}\\right)}{γ_{2}} + \\frac{γ_{3}}{\\Gamma} + \\frac{γ_{4}}{\\Gamma} + \\frac{γ_{5}}{\\Gamma}\\\\- q_{4} - q_{5} - \\frac{\\left(q_{3} - \\frac{γ_{3}}{\\Gamma}\\right) \\left(γ_{1} + γ_{2} + γ_{3}\\right)}{γ_{3}} + \\frac{γ_{4}}{\\Gamma} + \\frac{γ_{5}}{\\Gamma}\\\\- q_{5} - \\frac{\\left(q_{4} - \\frac{γ_{4}}{\\Gamma}\\right) \\left(γ_{1} + γ_{2} + γ_{3} + γ_{4}\\right)}{γ_{4}} + \\frac{γ_{5}}{\\Gamma}\\\\- \\frac{\\left(q_{5} - \\frac{γ_{5}}{\\Gamma}\\right) \\left(γ_{1} + γ_{2} + γ_{3} + γ_{4} + γ_{5}\\right)}{γ_{5}}\\end{matrix}\\right]$"
      ],
      "text/plain": [
       "Matrix([\n",
       "[-q_1 - q_2 - q_3 - q_4 - q_5 + γ_1/Gamma + γ_2/Gamma + γ_3/Gamma + γ_4/Gamma + γ_5/Gamma],\n",
       "[-q_3 - q_4 - q_5 - (q_2 - γ_2/Gamma)*(γ_1 + γ_2)/γ_2 + γ_3/Gamma + γ_4/Gamma + γ_5/Gamma],\n",
       "[            -q_4 - q_5 - (q_3 - γ_3/Gamma)*(γ_1 + γ_2 + γ_3)/γ_3 + γ_4/Gamma + γ_5/Gamma],\n",
       "[                        -q_5 - (q_4 - γ_4/Gamma)*(γ_1 + γ_2 + γ_3 + γ_4)/γ_4 + γ_5/Gamma],\n",
       "[                                    -(q_5 - γ_5/Gamma)*(γ_1 + γ_2 + γ_3 + γ_4 + γ_5)/γ_5]])"
      ]
     },
     "execution_count": 5,
     "metadata": {},
     "output_type": "execute_result"
    }
   ],
   "source": [
    "Gamma = sp.symbols(\"Gamma\")\n",
    "A_inv * (q - gamma / Gamma)"
   ]
  },
  {
   "cell_type": "code",
   "execution_count": 6,
   "metadata": {},
   "outputs": [
    {
     "data": {
      "text/latex": [
       "$\\displaystyle \\frac{q_{3} γ_{1}}{γ_{3}} + \\frac{q_{3} γ_{2}}{γ_{3}} + q_{3} - \\frac{q_{4} γ_{1}}{γ_{4}} - \\frac{q_{4} γ_{2}}{γ_{4}} - \\frac{q_{4} γ_{3}}{γ_{4}}$"
      ],
      "text/plain": [
       "q_3*γ_1/γ_3 + q_3*γ_2/γ_3 + q_3 - q_4*γ_1/γ_4 - q_4*γ_2/γ_4 - q_4*γ_3/γ_4"
      ]
     },
     "execution_count": 6,
     "metadata": {},
     "output_type": "execute_result"
    }
   ],
   "source": [
    "sp.simplify(_[3] - _[2])"
   ]
  },
  {
   "cell_type": "markdown",
   "metadata": {},
   "source": [
    "Closed form of $\\hat p$"
   ]
  },
  {
   "cell_type": "code",
   "execution_count": 7,
   "metadata": {},
   "outputs": [],
   "source": [
    "p = sp.symbols([\"p_\" + str(i) for i in range(1,n+1)])"
   ]
  },
  {
   "cell_type": "code",
   "execution_count": 26,
   "metadata": {},
   "outputs": [
    {
     "data": {
      "text/latex": [
       "$\\displaystyle - \\frac{q_{5}}{γ_{5}} + \\frac{1}{\\Gamma}$"
      ],
      "text/plain": [
       "-q_5/γ_5 + 1/Gamma"
      ]
     },
     "execution_count": 26,
     "metadata": {},
     "output_type": "execute_result"
    }
   ],
   "source": [
    "sp.diff((A_inv * (q - gamma / Gamma))[4], gamma[2]).simplify()"
   ]
  },
  {
   "cell_type": "code",
   "execution_count": null,
   "metadata": {},
   "outputs": [],
   "source": []
  }
 ],
 "metadata": {
  "kernelspec": {
   "display_name": "Python 3",
   "language": "python",
   "name": "python3"
  },
  "language_info": {
   "codemirror_mode": {
    "name": "ipython",
    "version": 3
   },
   "file_extension": ".py",
   "mimetype": "text/x-python",
   "name": "python",
   "nbconvert_exporter": "python",
   "pygments_lexer": "ipython3",
   "version": "3.8.5"
  }
 },
 "nbformat": 4,
 "nbformat_minor": 4
}
