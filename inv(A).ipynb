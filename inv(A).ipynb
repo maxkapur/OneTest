{
 "cells": [
  {
   "cell_type": "code",
   "execution_count": 2,
   "metadata": {},
   "outputs": [],
   "source": [
    "import sympy as sp"
   ]
  },
  {
   "cell_type": "code",
   "execution_count": 3,
   "metadata": {},
   "outputs": [
    {
     "data": {
      "text/latex": [
       "$\\displaystyle \\left[\\begin{matrix}-1 & γ_{1} \\left(- \\frac{1}{γ_{1} + γ_{2}} + \\frac{1}{γ_{1}}\\right) & γ_{1} \\left(- \\frac{1}{γ_{1} + γ_{2} + γ_{3}} + \\frac{1}{γ_{1} + γ_{2}}\\right) & γ_{1} \\left(- \\frac{1}{γ_{1} + γ_{2} + γ_{3} + γ_{4}} + \\frac{1}{γ_{1} + γ_{2} + γ_{3}}\\right) & γ_{1} \\left(- \\frac{1}{γ_{1} + γ_{2} + γ_{3} + γ_{4} + γ_{5}} + \\frac{1}{γ_{1} + γ_{2} + γ_{3} + γ_{4}}\\right)\\\\0 & - \\frac{γ_{2}}{γ_{1} + γ_{2}} & γ_{2} \\left(- \\frac{1}{γ_{1} + γ_{2} + γ_{3}} + \\frac{1}{γ_{1} + γ_{2}}\\right) & γ_{2} \\left(- \\frac{1}{γ_{1} + γ_{2} + γ_{3} + γ_{4}} + \\frac{1}{γ_{1} + γ_{2} + γ_{3}}\\right) & γ_{2} \\left(- \\frac{1}{γ_{1} + γ_{2} + γ_{3} + γ_{4} + γ_{5}} + \\frac{1}{γ_{1} + γ_{2} + γ_{3} + γ_{4}}\\right)\\\\0 & 0 & - \\frac{γ_{3}}{γ_{1} + γ_{2} + γ_{3}} & γ_{3} \\left(- \\frac{1}{γ_{1} + γ_{2} + γ_{3} + γ_{4}} + \\frac{1}{γ_{1} + γ_{2} + γ_{3}}\\right) & γ_{3} \\left(- \\frac{1}{γ_{1} + γ_{2} + γ_{3} + γ_{4} + γ_{5}} + \\frac{1}{γ_{1} + γ_{2} + γ_{3} + γ_{4}}\\right)\\\\0 & 0 & 0 & - \\frac{γ_{4}}{γ_{1} + γ_{2} + γ_{3} + γ_{4}} & γ_{4} \\left(- \\frac{1}{γ_{1} + γ_{2} + γ_{3} + γ_{4} + γ_{5}} + \\frac{1}{γ_{1} + γ_{2} + γ_{3} + γ_{4}}\\right)\\\\0 & 0 & 0 & 0 & - \\frac{γ_{5}}{γ_{1} + γ_{2} + γ_{3} + γ_{4} + γ_{5}}\\end{matrix}\\right]$"
      ],
      "text/plain": [
       "Matrix([\n",
       "[-1, γ_1*(-1/(γ_1 + γ_2) + 1/γ_1), γ_1*(-1/(γ_1 + γ_2 + γ_3) + 1/(γ_1 + γ_2)), γ_1*(-1/(γ_1 + γ_2 + γ_3 + γ_4) + 1/(γ_1 + γ_2 + γ_3)), γ_1*(-1/(γ_1 + γ_2 + γ_3 + γ_4 + γ_5) + 1/(γ_1 + γ_2 + γ_3 + γ_4))],\n",
       "[ 0,             -γ_2/(γ_1 + γ_2), γ_2*(-1/(γ_1 + γ_2 + γ_3) + 1/(γ_1 + γ_2)), γ_2*(-1/(γ_1 + γ_2 + γ_3 + γ_4) + 1/(γ_1 + γ_2 + γ_3)), γ_2*(-1/(γ_1 + γ_2 + γ_3 + γ_4 + γ_5) + 1/(γ_1 + γ_2 + γ_3 + γ_4))],\n",
       "[ 0,                            0,                     -γ_3/(γ_1 + γ_2 + γ_3), γ_3*(-1/(γ_1 + γ_2 + γ_3 + γ_4) + 1/(γ_1 + γ_2 + γ_3)), γ_3*(-1/(γ_1 + γ_2 + γ_3 + γ_4 + γ_5) + 1/(γ_1 + γ_2 + γ_3 + γ_4))],\n",
       "[ 0,                            0,                                          0,                           -γ_4/(γ_1 + γ_2 + γ_3 + γ_4), γ_4*(-1/(γ_1 + γ_2 + γ_3 + γ_4 + γ_5) + 1/(γ_1 + γ_2 + γ_3 + γ_4))],\n",
       "[ 0,                            0,                                          0,                                                      0,                                 -γ_5/(γ_1 + γ_2 + γ_3 + γ_4 + γ_5)]])"
      ]
     },
     "execution_count": 3,
     "metadata": {},
     "output_type": "execute_result"
    }
   ],
   "source": [
    "def A_maker(n):\n",
    "    A = sp.zeros(n, n)\n",
    "    \n",
    "    q = sp.symbols([\"q_\" + str(i) for i in range(1,n+1)])\n",
    "    gamma = sp.symbols([\"γ_\" + str(i) for i in range(1,n+1)])\n",
    "\n",
    "    for c in range(n):\n",
    "        A[c, c] = -gamma[c] / sum(gamma[:c+1])\n",
    "\n",
    "    for i in range(n):\n",
    "        for j in range(i+1, n):\n",
    "            A[i, j] = gamma[i] *  ( 1/sum(gamma[:j]) - 1/sum(gamma[:j+1] ) )\n",
    "            \n",
    "    return A, sp.Matrix(q), sp.Matrix(gamma)\n",
    "\n",
    "n=5\n",
    "A, q, gamma = A_maker(5)\n",
    "A"
   ]
  },
  {
   "cell_type": "markdown",
   "metadata": {},
   "source": [
    "Derive the inverse"
   ]
  },
  {
   "cell_type": "code",
   "execution_count": 4,
   "metadata": {},
   "outputs": [
    {
     "data": {
      "text/latex": [
       "$\\displaystyle \\left[\\begin{matrix}-1 & -1 & -1 & -1 & -1\\\\0 & - \\frac{γ_{1} + γ_{2}}{γ_{2}} & -1 & -1 & -1\\\\0 & 0 & - \\frac{γ_{1} + γ_{2} + γ_{3}}{γ_{3}} & -1 & -1\\\\0 & 0 & 0 & - \\frac{γ_{1} + γ_{2} + γ_{3} + γ_{4}}{γ_{4}} & -1\\\\0 & 0 & 0 & 0 & - \\frac{γ_{1} + γ_{2} + γ_{3} + γ_{4} + γ_{5}}{γ_{5}}\\end{matrix}\\right]$"
      ],
      "text/plain": [
       "Matrix([\n",
       "[-1,               -1,                     -1,                           -1,                                 -1],\n",
       "[ 0, -(γ_1 + γ_2)/γ_2,                     -1,                           -1,                                 -1],\n",
       "[ 0,                0, -(γ_1 + γ_2 + γ_3)/γ_3,                           -1,                                 -1],\n",
       "[ 0,                0,                      0, -(γ_1 + γ_2 + γ_3 + γ_4)/γ_4,                                 -1],\n",
       "[ 0,                0,                      0,                            0, -(γ_1 + γ_2 + γ_3 + γ_4 + γ_5)/γ_5]])"
      ]
     },
     "execution_count": 4,
     "metadata": {},
     "output_type": "execute_result"
    }
   ],
   "source": [
    "A_inv = A.inv()\n",
    "A_inv"
   ]
  },
  {
   "cell_type": "markdown",
   "metadata": {},
   "source": [
    "Show that if the preferability ratios are ordered, then so are the optimal cutoffs"
   ]
  },
  {
   "cell_type": "code",
   "execution_count": 7,
   "metadata": {},
   "outputs": [
    {
     "data": {
      "text/latex": [
       "$\\displaystyle \\left[\\begin{matrix}- q_{1} - q_{2} - q_{3} - q_{4} - q_{5} + \\frac{γ_{1}}{γ_{1} + γ_{2} + γ_{3} + γ_{4} + γ_{5}} + \\frac{γ_{2}}{γ_{1} + γ_{2} + γ_{3} + γ_{4} + γ_{5}} + \\frac{γ_{3}}{γ_{1} + γ_{2} + γ_{3} + γ_{4} + γ_{5}} + \\frac{γ_{4}}{γ_{1} + γ_{2} + γ_{3} + γ_{4} + γ_{5}} + \\frac{γ_{5}}{γ_{1} + γ_{2} + γ_{3} + γ_{4} + γ_{5}}\\\\- q_{3} - q_{4} - q_{5} + \\frac{γ_{3}}{γ_{1} + γ_{2} + γ_{3} + γ_{4} + γ_{5}} + \\frac{γ_{4}}{γ_{1} + γ_{2} + γ_{3} + γ_{4} + γ_{5}} + \\frac{γ_{5}}{γ_{1} + γ_{2} + γ_{3} + γ_{4} + γ_{5}} - \\frac{\\left(q_{2} - \\frac{γ_{2}}{γ_{1} + γ_{2} + γ_{3} + γ_{4} + γ_{5}}\\right) \\left(γ_{1} + γ_{2}\\right)}{γ_{2}}\\\\- q_{4} - q_{5} + \\frac{γ_{4}}{γ_{1} + γ_{2} + γ_{3} + γ_{4} + γ_{5}} + \\frac{γ_{5}}{γ_{1} + γ_{2} + γ_{3} + γ_{4} + γ_{5}} - \\frac{\\left(q_{3} - \\frac{γ_{3}}{γ_{1} + γ_{2} + γ_{3} + γ_{4} + γ_{5}}\\right) \\left(γ_{1} + γ_{2} + γ_{3}\\right)}{γ_{3}}\\\\- q_{5} + \\frac{γ_{5}}{γ_{1} + γ_{2} + γ_{3} + γ_{4} + γ_{5}} - \\frac{\\left(q_{4} - \\frac{γ_{4}}{γ_{1} + γ_{2} + γ_{3} + γ_{4} + γ_{5}}\\right) \\left(γ_{1} + γ_{2} + γ_{3} + γ_{4}\\right)}{γ_{4}}\\\\- \\frac{\\left(q_{5} - \\frac{γ_{5}}{γ_{1} + γ_{2} + γ_{3} + γ_{4} + γ_{5}}\\right) \\left(γ_{1} + γ_{2} + γ_{3} + γ_{4} + γ_{5}\\right)}{γ_{5}}\\end{matrix}\\right]$"
      ],
      "text/plain": [
       "Matrix([\n",
       "[-q_1 - q_2 - q_3 - q_4 - q_5 + γ_1/(γ_1 + γ_2 + γ_3 + γ_4 + γ_5) + γ_2/(γ_1 + γ_2 + γ_3 + γ_4 + γ_5) + γ_3/(γ_1 + γ_2 + γ_3 + γ_4 + γ_5) + γ_4/(γ_1 + γ_2 + γ_3 + γ_4 + γ_5) + γ_5/(γ_1 + γ_2 + γ_3 + γ_4 + γ_5)],\n",
       "[                        -q_3 - q_4 - q_5 + γ_3/(γ_1 + γ_2 + γ_3 + γ_4 + γ_5) + γ_4/(γ_1 + γ_2 + γ_3 + γ_4 + γ_5) + γ_5/(γ_1 + γ_2 + γ_3 + γ_4 + γ_5) - (q_2 - γ_2/(γ_1 + γ_2 + γ_3 + γ_4 + γ_5))*(γ_1 + γ_2)/γ_2],\n",
       "[                                                            -q_4 - q_5 + γ_4/(γ_1 + γ_2 + γ_3 + γ_4 + γ_5) + γ_5/(γ_1 + γ_2 + γ_3 + γ_4 + γ_5) - (q_3 - γ_3/(γ_1 + γ_2 + γ_3 + γ_4 + γ_5))*(γ_1 + γ_2 + γ_3)/γ_3],\n",
       "[                                                                                                -q_5 + γ_5/(γ_1 + γ_2 + γ_3 + γ_4 + γ_5) - (q_4 - γ_4/(γ_1 + γ_2 + γ_3 + γ_4 + γ_5))*(γ_1 + γ_2 + γ_3 + γ_4)/γ_4],\n",
       "[                                                                                                                                    -(q_5 - γ_5/(γ_1 + γ_2 + γ_3 + γ_4 + γ_5))*(γ_1 + γ_2 + γ_3 + γ_4 + γ_5)/γ_5]])"
      ]
     },
     "execution_count": 7,
     "metadata": {},
     "output_type": "execute_result"
    }
   ],
   "source": [
    "Gamma = sum(gamma)\n",
    "A_inv * (q - gamma / Gamma)"
   ]
  },
  {
   "cell_type": "code",
   "execution_count": 8,
   "metadata": {},
   "outputs": [
    {
     "data": {
      "text/latex": [
       "$\\displaystyle \\frac{q_{3} γ_{1}}{γ_{3}} + \\frac{q_{3} γ_{2}}{γ_{3}} + q_{3} - \\frac{q_{4} γ_{1}}{γ_{4}} - \\frac{q_{4} γ_{2}}{γ_{4}} - \\frac{q_{4} γ_{3}}{γ_{4}}$"
      ],
      "text/plain": [
       "q_3*γ_1/γ_3 + q_3*γ_2/γ_3 + q_3 - q_4*γ_1/γ_4 - q_4*γ_2/γ_4 - q_4*γ_3/γ_4"
      ]
     },
     "execution_count": 8,
     "metadata": {},
     "output_type": "execute_result"
    }
   ],
   "source": [
    "sp.simplify(_[3] - _[2])"
   ]
  },
  {
   "cell_type": "markdown",
   "metadata": {},
   "source": [
    "Closed form of $\\hat p$"
   ]
  },
  {
   "cell_type": "code",
   "execution_count": 9,
   "metadata": {},
   "outputs": [],
   "source": [
    "p = sp.symbols([\"p_\" + str(i) for i in range(1,n+1)])"
   ]
  },
  {
   "cell_type": "code",
   "execution_count": 29,
   "metadata": {},
   "outputs": [
    {
     "data": {
      "text/latex": [
       "$\\displaystyle \\left[\\begin{matrix}0 & 0 & 0 & 0 & 0\\\\- \\frac{q_{2}}{γ_{2}} & \\frac{q_{2} γ_{1}}{γ_{2}^{2}} & 0 & 0 & 0\\\\- \\frac{q_{3}}{γ_{3}} & - \\frac{q_{3}}{γ_{3}} & \\frac{q_{3} \\left(γ_{1} + γ_{2}\\right)}{γ_{3}^{2}} & 0 & 0\\\\- \\frac{q_{4}}{γ_{4}} & - \\frac{q_{4}}{γ_{4}} & - \\frac{q_{4}}{γ_{4}} & \\frac{q_{4} \\left(γ_{1} + γ_{2} + γ_{3}\\right)}{γ_{4}^{2}} & 0\\\\- \\frac{q_{5}}{γ_{5}} & - \\frac{q_{5}}{γ_{5}} & - \\frac{q_{5}}{γ_{5}} & - \\frac{q_{5}}{γ_{5}} & \\frac{q_{5} \\left(γ_{1} + γ_{2} + γ_{3} + γ_{4}\\right)}{γ_{5}^{2}}\\end{matrix}\\right]$"
      ],
      "text/plain": [
       "Matrix([\n",
       "[       0,              0,                      0,                            0,                                  0],\n",
       "[-q_2/γ_2, q_2*γ_1/γ_2**2,                      0,                            0,                                  0],\n",
       "[-q_3/γ_3,       -q_3/γ_3, q_3*(γ_1 + γ_2)/γ_3**2,                            0,                                  0],\n",
       "[-q_4/γ_4,       -q_4/γ_4,               -q_4/γ_4, q_4*(γ_1 + γ_2 + γ_3)/γ_4**2,                                  0],\n",
       "[-q_5/γ_5,       -q_5/γ_5,               -q_5/γ_5,                     -q_5/γ_5, q_5*(γ_1 + γ_2 + γ_3 + γ_4)/γ_5**2]])"
      ]
     },
     "execution_count": 29,
     "metadata": {},
     "output_type": "execute_result"
    }
   ],
   "source": [
    "# Diff of p wrt gamma at equilibrium\n",
    "p_bar = A_inv * (q - gamma / Gamma)\n",
    "sp.Matrix([[sp.diff(p_bar[j], gamma[i]).simplify() for i in range(5)] for j in range(5)])"
   ]
  },
  {
   "cell_type": "code",
   "execution_count": 28,
   "metadata": {},
   "outputs": [
    {
     "data": {
      "text/latex": [
       "$\\displaystyle \\left[\\begin{matrix}0 & 0 & 0 & 0 & 0\\\\0 & 0 & 0 & 0 & 0\\\\0 & 0 & 0 & 0 & 0\\\\0 & 0 & 0 & 0 & 0\\\\0 & 0 & 0 & 0 & 0\\end{matrix}\\right]$"
      ],
      "text/plain": [
       "Matrix([\n",
       "[0, 0, 0, 0, 0],\n",
       "[0, 0, 0, 0, 0],\n",
       "[0, 0, 0, 0, 0],\n",
       "[0, 0, 0, 0, 0],\n",
       "[0, 0, 0, 0, 0]])"
      ]
     },
     "execution_count": 28,
     "metadata": {},
     "output_type": "execute_result"
    }
   ],
   "source": []
  },
  {
   "cell_type": "code",
   "execution_count": 52,
   "metadata": {},
   "outputs": [],
   "source": [
    "# Diff of demand wrt gamma at equilibrium\n",
    "b = 3\n",
    "p_hat = sp.Matrix([0 if i < b else p for i, p in enumerate(p_bar)])\n",
    "\n",
    "demand = A * p_hat + gamma / Gamma\n",
    "sp.Matrix([[sp.diff(demand[j], gamma[i]).simplify() for i in range(5)] for j in range(5)])"
   ]
  },
  {
   "cell_type": "code",
   "execution_count": 56,
   "metadata": {},
   "outputs": [],
   "source": [
    "# Diff of appeal wrt gamma at equilibrium\n",
    "appeal = (A * sp.Matrix([p**2 for p in p_hat])+ gamma / Gamma)/2\n",
    "# sp.Matrix([[sp.diff(appeal[j], gamma[i]) for i in range(5)] for j in range(5)]) "
   ]
  },
  {
   "cell_type": "code",
   "execution_count": 58,
   "metadata": {},
   "outputs": [
    {
     "data": {
      "text/latex": [
       "$\\displaystyle \\left[\\begin{matrix}0 & 0 & 0 & 0 & 0\\\\0 & 0 & 0 & 0 & 0\\\\0 & 0 & - \\frac{γ_{1} + γ_{2} + γ_{3}}{γ_{3}} & -1 & -1\\\\0 & 0 & 0 & - \\frac{γ_{1} + γ_{2} + γ_{3} + γ_{4}}{γ_{4}} & -1\\\\0 & 0 & 0 & 0 & - \\frac{γ_{1} + γ_{2} + γ_{3} + γ_{4} + γ_{5}}{γ_{5}}\\end{matrix}\\right]$"
      ],
      "text/plain": [
       "Matrix([\n",
       "[0, 0,                      0,                            0,                                  0],\n",
       "[0, 0,                      0,                            0,                                  0],\n",
       "[0, 0, -(γ_1 + γ_2 + γ_3)/γ_3,                           -1,                                 -1],\n",
       "[0, 0,                      0, -(γ_1 + γ_2 + γ_3 + γ_4)/γ_4,                                 -1],\n",
       "[0, 0,                      0,                            0, -(γ_1 + γ_2 + γ_3 + γ_4 + γ_5)/γ_5]])"
      ]
     },
     "execution_count": 58,
     "metadata": {},
     "output_type": "execute_result"
    }
   ],
   "source": [
    "\n",
    "b = 2\n",
    "p_hat = sp.Matrix([0 if i < b else p for i, p in enumerate(p_bar)])\n",
    "\n",
    "sp.Matrix([[sp.diff(p_hat[j], q[i]).simplify() for i in range(5)] for j in range(5)])"
   ]
  },
  {
   "cell_type": "code",
   "execution_count": 61,
   "metadata": {},
   "outputs": [
    {
     "data": {
      "text/latex": [
       "$\\displaystyle \\left[\\begin{matrix}0 & 0 & 0 & - \\frac{γ_{1}}{γ_{1} + γ_{2} + γ_{3}} & - \\frac{γ_{1}}{γ_{1} + γ_{2} + γ_{3}}\\\\0 & 0 & 0 & - \\frac{γ_{2}}{γ_{1} + γ_{2} + γ_{3}} & - \\frac{γ_{2}}{γ_{1} + γ_{2} + γ_{3}}\\\\0 & 0 & 0 & - \\frac{γ_{3}}{γ_{1} + γ_{2} + γ_{3}} & - \\frac{γ_{3}}{γ_{1} + γ_{2} + γ_{3}}\\\\0 & 0 & 0 & 1 & 0\\\\0 & 0 & 0 & 0 & 1\\end{matrix}\\right]$"
      ],
      "text/plain": [
       "Matrix([\n",
       "[0, 0, 0, -γ_1/(γ_1 + γ_2 + γ_3), -γ_1/(γ_1 + γ_2 + γ_3)],\n",
       "[0, 0, 0, -γ_2/(γ_1 + γ_2 + γ_3), -γ_2/(γ_1 + γ_2 + γ_3)],\n",
       "[0, 0, 0, -γ_3/(γ_1 + γ_2 + γ_3), -γ_3/(γ_1 + γ_2 + γ_3)],\n",
       "[0, 0, 0,                      1,                      0],\n",
       "[0, 0, 0,                      0,                      1]])"
      ]
     },
     "execution_count": 61,
     "metadata": {},
     "output_type": "execute_result"
    }
   ],
   "source": [
    "sp.Matrix([[sp.diff(demand[j], q[i]).simplify() for i in range(5)] for j in range(5)])"
   ]
  },
  {
   "cell_type": "code",
   "execution_count": null,
   "metadata": {},
   "outputs": [],
   "source": []
  }
 ],
 "metadata": {
  "kernelspec": {
   "display_name": "Python 3",
   "language": "python",
   "name": "python3"
  },
  "language_info": {
   "codemirror_mode": {
    "name": "ipython",
    "version": 3
   },
   "file_extension": ".py",
   "mimetype": "text/x-python",
   "name": "python",
   "nbconvert_exporter": "python",
   "pygments_lexer": "ipython3",
   "version": "3.8.5"
  }
 },
 "nbformat": 4,
 "nbformat_minor": 4
}
