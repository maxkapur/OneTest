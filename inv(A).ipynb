{
 "cells": [
  {
   "cell_type": "code",
   "execution_count": 4,
   "metadata": {},
   "outputs": [],
   "source": [
    "import sympy as sp"
   ]
  },
  {
   "cell_type": "code",
   "execution_count": 85,
   "metadata": {},
   "outputs": [
    {
     "data": {
      "text/latex": [
       "$\\displaystyle \\left[\\begin{matrix}-1 & γ_{1} \\left(- \\frac{1}{γ_{1} + γ_{2}} + \\frac{1}{γ_{1}}\\right) & γ_{1} \\left(- \\frac{1}{γ_{1} + γ_{2} + γ_{3}} + \\frac{1}{γ_{1} + γ_{2}}\\right) & γ_{1} \\left(- \\frac{1}{γ_{1} + γ_{2} + γ_{3} + γ_{4}} + \\frac{1}{γ_{1} + γ_{2} + γ_{3}}\\right) & γ_{1} \\left(- \\frac{1}{γ_{1} + γ_{2} + γ_{3} + γ_{4} + γ_{5}} + \\frac{1}{γ_{1} + γ_{2} + γ_{3} + γ_{4}}\\right)\\\\0 & - \\frac{γ_{2}}{γ_{1} + γ_{2}} & γ_{2} \\left(- \\frac{1}{γ_{1} + γ_{2} + γ_{3}} + \\frac{1}{γ_{1} + γ_{2}}\\right) & γ_{2} \\left(- \\frac{1}{γ_{1} + γ_{2} + γ_{3} + γ_{4}} + \\frac{1}{γ_{1} + γ_{2} + γ_{3}}\\right) & γ_{2} \\left(- \\frac{1}{γ_{1} + γ_{2} + γ_{3} + γ_{4} + γ_{5}} + \\frac{1}{γ_{1} + γ_{2} + γ_{3} + γ_{4}}\\right)\\\\0 & 0 & - \\frac{γ_{3}}{γ_{1} + γ_{2} + γ_{3}} & γ_{3} \\left(- \\frac{1}{γ_{1} + γ_{2} + γ_{3} + γ_{4}} + \\frac{1}{γ_{1} + γ_{2} + γ_{3}}\\right) & γ_{3} \\left(- \\frac{1}{γ_{1} + γ_{2} + γ_{3} + γ_{4} + γ_{5}} + \\frac{1}{γ_{1} + γ_{2} + γ_{3} + γ_{4}}\\right)\\\\0 & 0 & 0 & - \\frac{γ_{4}}{γ_{1} + γ_{2} + γ_{3} + γ_{4}} & γ_{4} \\left(- \\frac{1}{γ_{1} + γ_{2} + γ_{3} + γ_{4} + γ_{5}} + \\frac{1}{γ_{1} + γ_{2} + γ_{3} + γ_{4}}\\right)\\\\0 & 0 & 0 & 0 & - \\frac{γ_{5}}{γ_{1} + γ_{2} + γ_{3} + γ_{4} + γ_{5}}\\end{matrix}\\right]$"
      ],
      "text/plain": [
       "Matrix([\n",
       "[-1, γ_1*(-1/(γ_1 + γ_2) + 1/γ_1), γ_1*(-1/(γ_1 + γ_2 + γ_3) + 1/(γ_1 + γ_2)), γ_1*(-1/(γ_1 + γ_2 + γ_3 + γ_4) + 1/(γ_1 + γ_2 + γ_3)), γ_1*(-1/(γ_1 + γ_2 + γ_3 + γ_4 + γ_5) + 1/(γ_1 + γ_2 + γ_3 + γ_4))],\n",
       "[ 0,             -γ_2/(γ_1 + γ_2), γ_2*(-1/(γ_1 + γ_2 + γ_3) + 1/(γ_1 + γ_2)), γ_2*(-1/(γ_1 + γ_2 + γ_3 + γ_4) + 1/(γ_1 + γ_2 + γ_3)), γ_2*(-1/(γ_1 + γ_2 + γ_3 + γ_4 + γ_5) + 1/(γ_1 + γ_2 + γ_3 + γ_4))],\n",
       "[ 0,                            0,                     -γ_3/(γ_1 + γ_2 + γ_3), γ_3*(-1/(γ_1 + γ_2 + γ_3 + γ_4) + 1/(γ_1 + γ_2 + γ_3)), γ_3*(-1/(γ_1 + γ_2 + γ_3 + γ_4 + γ_5) + 1/(γ_1 + γ_2 + γ_3 + γ_4))],\n",
       "[ 0,                            0,                                          0,                           -γ_4/(γ_1 + γ_2 + γ_3 + γ_4), γ_4*(-1/(γ_1 + γ_2 + γ_3 + γ_4 + γ_5) + 1/(γ_1 + γ_2 + γ_3 + γ_4))],\n",
       "[ 0,                            0,                                          0,                                                      0,                                 -γ_5/(γ_1 + γ_2 + γ_3 + γ_4 + γ_5)]])"
      ]
     },
     "execution_count": 85,
     "metadata": {},
     "output_type": "execute_result"
    }
   ],
   "source": [
    "def A_maker(n):\n",
    "    A = sp.zeros(n, n)\n",
    "    \n",
    "    q = sp.symbols([\"q_\" + str(i) for i in range(1,n+1)])\n",
    "    gamma = sp.symbols([\"γ_\" + str(i) for i in range(1,n+1)])\n",
    "\n",
    "    for c in range(n):\n",
    "        A[c, c] = -gamma[c] / sum(gamma[:c+1])\n",
    "\n",
    "    for i in range(n):\n",
    "        for j in range(i+1, n):\n",
    "            A[i, j] = gamma[i] *  ( 1/sum(gamma[:j]) - 1/sum(gamma[:j+1] ) )\n",
    "            \n",
    "    return A, sp.Matrix(q), sp.Matrix(gamma)\n",
    "\n",
    "A, q, gamma = A_maker(5)\n",
    "A"
   ]
  },
  {
   "cell_type": "code",
   "execution_count": 58,
   "metadata": {},
   "outputs": [
    {
     "data": {
      "text/latex": [
       "$\\displaystyle \\left[\\begin{matrix}-1 & -1 & -1 & -1 & -1\\\\0 & - \\frac{γ_{1} + γ_{2}}{γ_{2}} & -1 & -1 & -1\\\\0 & 0 & - \\frac{γ_{1} + γ_{2} + γ_{3}}{γ_{3}} & -1 & -1\\\\0 & 0 & 0 & - \\frac{γ_{1} + γ_{2} + γ_{3} + γ_{4}}{γ_{4}} & -1\\\\0 & 0 & 0 & 0 & - \\frac{γ_{1} + γ_{2} + γ_{3} + γ_{4} + γ_{5}}{γ_{5}}\\end{matrix}\\right]$"
      ],
      "text/plain": [
       "Matrix([\n",
       "[-1,               -1,                     -1,                           -1,                                 -1],\n",
       "[ 0, -(γ_1 + γ_2)/γ_2,                     -1,                           -1,                                 -1],\n",
       "[ 0,                0, -(γ_1 + γ_2 + γ_3)/γ_3,                           -1,                                 -1],\n",
       "[ 0,                0,                      0, -(γ_1 + γ_2 + γ_3 + γ_4)/γ_4,                                 -1],\n",
       "[ 0,                0,                      0,                            0, -(γ_1 + γ_2 + γ_3 + γ_4 + γ_5)/γ_5]])"
      ]
     },
     "execution_count": 58,
     "metadata": {},
     "output_type": "execute_result"
    }
   ],
   "source": [
    "A_inv = A.inv()\n",
    "A_inv"
   ]
  },
  {
   "cell_type": "code",
   "execution_count": null,
   "metadata": {},
   "outputs": [],
   "source": []
  }
 ],
 "metadata": {
  "kernelspec": {
   "display_name": "Python 3",
   "language": "python",
   "name": "python3"
  },
  "language_info": {
   "codemirror_mode": {
    "name": "ipython",
    "version": 3
   },
   "file_extension": ".py",
   "mimetype": "text/x-python",
   "name": "python",
   "nbconvert_exporter": "python",
   "pygments_lexer": "ipython3",
   "version": "3.8.5"
  }
 },
 "nbformat": 4,
 "nbformat_minor": 4
}
