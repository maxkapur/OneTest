{
 "cells": [
  {
   "cell_type": "code",
   "execution_count": 2,
   "metadata": {},
   "outputs": [],
   "source": [
    "include(\"OneTest.jl\")\n",
    "using Plots, Plots.PlotMeasures\n",
    "using HTTP\n",
    "using DataFrames\n",
    "using CSV"
   ]
  },
  {
   "cell_type": "code",
   "execution_count": 3,
   "metadata": {},
   "outputs": [
    {
     "data": {
      "text/html": [
       "<table class=\"data-frame\"><thead><tr><th></th><th>name</th><th>demand</th><th>cutoff</th><th>yield</th><th>trueyield</th><th>preferability</th></tr><tr><th></th><th>String</th><th>Int64</th><th>Float64</th><th>Float64</th><th>Float64</th><th>Float64</th></tr></thead><tbody><p>677 rows × 6 columns</p><tr><th>1</th><td>University of Arkansas at Pine Bluff</td><td>568</td><td>0.0</td><td>0.5</td><td>0.000754329</td><td>4.46923e-6</td></tr><tr><th>2</th><td>Delaware State University</td><td>1036</td><td>0.0</td><td>0.28</td><td>0.00137585</td><td>8.15163e-6</td></tr><tr><th>3</th><td>Wesley College</td><td>556</td><td>0.0</td><td>0.3</td><td>0.000738393</td><td>4.37481e-6</td></tr><tr><th>4</th><td>Edward Waters College</td><td>208</td><td>0.0</td><td>0.4</td><td>0.000276233</td><td>1.63662e-6</td></tr><tr><th>5</th><td>St Thomas University</td><td>210</td><td>0.0</td><td>0.63</td><td>0.000278889</td><td>1.65236e-6</td></tr><tr><th>6</th><td>Paine College</td><td>268</td><td>0.0</td><td>0.22</td><td>0.000355916</td><td>2.10872e-6</td></tr><tr><th>7</th><td>Savannah State University</td><td>1301</td><td>0.0</td><td>0.54</td><td>0.00172779</td><td>1.02367e-5</td></tr><tr><th>8</th><td>University of Hawaii-West Oahu</td><td>301</td><td>0.0</td><td>0.43</td><td>0.000399741</td><td>2.36838e-6</td></tr><tr><th>9</th><td>Calumet College of Saint Joseph</td><td>192</td><td>0.0</td><td>0.88</td><td>0.000254984</td><td>1.51073e-6</td></tr><tr><th>10</th><td>Indiana State University</td><td>2661</td><td>0.0</td><td>0.29</td><td>0.00353393</td><td>2.09377e-5</td></tr><tr><th>11</th><td>Saint Mary-of-the-Woods College</td><td>64</td><td>0.0</td><td>0.2</td><td>8.49948e-5</td><td>5.03576e-7</td></tr><tr><th>12</th><td>Kentucky State University</td><td>506</td><td>0.0</td><td>0.21</td><td>0.00067199</td><td>3.98139e-6</td></tr><tr><th>13</th><td>Mid-Continent University</td><td>201</td><td>0.0</td><td>0.62</td><td>0.000266937</td><td>1.58154e-6</td></tr><tr><th>14</th><td>Thomas College</td><td>269</td><td>0.0</td><td>0.35</td><td>0.000357244</td><td>2.11659e-6</td></tr><tr><th>15</th><td>University of Maryland Eastern Shore</td><td>610</td><td>0.0</td><td>0.27</td><td>0.000810107</td><td>4.7997e-6</td></tr><tr><th>16</th><td>Morgan State University</td><td>899</td><td>0.0</td><td>0.33</td><td>0.00119391</td><td>7.07366e-6</td></tr><tr><th>17</th><td>American International College</td><td>346</td><td>0.0</td><td>0.26</td><td>0.000459503</td><td>2.72246e-6</td></tr><tr><th>18</th><td>Mount Ida College</td><td>307</td><td>0.0</td><td>0.21</td><td>0.00040771</td><td>2.41559e-6</td></tr><tr><th>19</th><td>College of Our Lady of the Elms</td><td>198</td><td>0.0</td><td>0.27</td><td>0.000262953</td><td>1.55794e-6</td></tr><tr><th>20</th><td>Rust College</td><td>287</td><td>0.0</td><td>0.66</td><td>0.000381149</td><td>2.25822e-6</td></tr><tr><th>21</th><td>Felician College</td><td>153</td><td>0.0</td><td>0.11</td><td>0.000203191</td><td>1.20386e-6</td></tr><tr><th>22</th><td>Saint Peter's University</td><td>610</td><td>0.0</td><td>0.18</td><td>0.000810107</td><td>4.7997e-6</td></tr><tr><th>23</th><td>Chowan University</td><td>474</td><td>0.0</td><td>0.21</td><td>0.000629493</td><td>3.72961e-6</td></tr><tr><th>24</th><td>Elizabeth City State University</td><td>527</td><td>0.0</td><td>0.23</td><td>0.000699879</td><td>4.14663e-6</td></tr><tr><th>25</th><td>Greensboro College</td><td>200</td><td>0.0</td><td>0.19</td><td>0.000265609</td><td>1.57367e-6</td></tr><tr><th>26</th><td>Livingstone College</td><td>395</td><td>0.0</td><td>0.17</td><td>0.000524577</td><td>3.10801e-6</td></tr><tr><th>27</th><td>North Carolina Central University</td><td>1407</td><td>0.0</td><td>0.31</td><td>0.00186856</td><td>1.10708e-5</td></tr><tr><th>28</th><td>Winston-Salem State University</td><td>685</td><td>0.0</td><td>0.24</td><td>0.00090971</td><td>5.38983e-6</td></tr><tr><th>29</th><td>Holy Family University</td><td>297</td><td>0.0</td><td>0.29</td><td>0.000394429</td><td>2.33691e-6</td></tr><tr><th>30</th><td>Lincoln University of Pennsylvania</td><td>448</td><td>0.0</td><td>0.23</td><td>0.000594964</td><td>3.52503e-6</td></tr><tr><th>&vellip;</th><td>&vellip;</td><td>&vellip;</td><td>&vellip;</td><td>&vellip;</td><td>&vellip;</td><td>&vellip;</td></tr></tbody></table>"
      ],
      "text/latex": [
       "\\begin{tabular}{r|cccccc}\n",
       "\t& name & demand & cutoff & yield & trueyield & preferability\\\\\n",
       "\t\\hline\n",
       "\t& String & Int64 & Float64 & Float64 & Float64 & Float64\\\\\n",
       "\t\\hline\n",
       "\t1 & University of Arkansas at Pine Bluff & 568 & 0.0 & 0.5 & 0.000754329 & 4.46923e-6 \\\\\n",
       "\t2 & Delaware State University & 1036 & 0.0 & 0.28 & 0.00137585 & 8.15163e-6 \\\\\n",
       "\t3 & Wesley College & 556 & 0.0 & 0.3 & 0.000738393 & 4.37481e-6 \\\\\n",
       "\t4 & Edward Waters College & 208 & 0.0 & 0.4 & 0.000276233 & 1.63662e-6 \\\\\n",
       "\t5 & St Thomas University & 210 & 0.0 & 0.63 & 0.000278889 & 1.65236e-6 \\\\\n",
       "\t6 & Paine College & 268 & 0.0 & 0.22 & 0.000355916 & 2.10872e-6 \\\\\n",
       "\t7 & Savannah State University & 1301 & 0.0 & 0.54 & 0.00172779 & 1.02367e-5 \\\\\n",
       "\t8 & University of Hawaii-West Oahu & 301 & 0.0 & 0.43 & 0.000399741 & 2.36838e-6 \\\\\n",
       "\t9 & Calumet College of Saint Joseph & 192 & 0.0 & 0.88 & 0.000254984 & 1.51073e-6 \\\\\n",
       "\t10 & Indiana State University & 2661 & 0.0 & 0.29 & 0.00353393 & 2.09377e-5 \\\\\n",
       "\t11 & Saint Mary-of-the-Woods College & 64 & 0.0 & 0.2 & 8.49948e-5 & 5.03576e-7 \\\\\n",
       "\t12 & Kentucky State University & 506 & 0.0 & 0.21 & 0.00067199 & 3.98139e-6 \\\\\n",
       "\t13 & Mid-Continent University & 201 & 0.0 & 0.62 & 0.000266937 & 1.58154e-6 \\\\\n",
       "\t14 & Thomas College & 269 & 0.0 & 0.35 & 0.000357244 & 2.11659e-6 \\\\\n",
       "\t15 & University of Maryland Eastern Shore & 610 & 0.0 & 0.27 & 0.000810107 & 4.7997e-6 \\\\\n",
       "\t16 & Morgan State University & 899 & 0.0 & 0.33 & 0.00119391 & 7.07366e-6 \\\\\n",
       "\t17 & American International College & 346 & 0.0 & 0.26 & 0.000459503 & 2.72246e-6 \\\\\n",
       "\t18 & Mount Ida College & 307 & 0.0 & 0.21 & 0.00040771 & 2.41559e-6 \\\\\n",
       "\t19 & College of Our Lady of the Elms & 198 & 0.0 & 0.27 & 0.000262953 & 1.55794e-6 \\\\\n",
       "\t20 & Rust College & 287 & 0.0 & 0.66 & 0.000381149 & 2.25822e-6 \\\\\n",
       "\t21 & Felician College & 153 & 0.0 & 0.11 & 0.000203191 & 1.20386e-6 \\\\\n",
       "\t22 & Saint Peter's University & 610 & 0.0 & 0.18 & 0.000810107 & 4.7997e-6 \\\\\n",
       "\t23 & Chowan University & 474 & 0.0 & 0.21 & 0.000629493 & 3.72961e-6 \\\\\n",
       "\t24 & Elizabeth City State University & 527 & 0.0 & 0.23 & 0.000699879 & 4.14663e-6 \\\\\n",
       "\t25 & Greensboro College & 200 & 0.0 & 0.19 & 0.000265609 & 1.57367e-6 \\\\\n",
       "\t26 & Livingstone College & 395 & 0.0 & 0.17 & 0.000524577 & 3.10801e-6 \\\\\n",
       "\t27 & North Carolina Central University & 1407 & 0.0 & 0.31 & 0.00186856 & 1.10708e-5 \\\\\n",
       "\t28 & Winston-Salem State University & 685 & 0.0 & 0.24 & 0.00090971 & 5.38983e-6 \\\\\n",
       "\t29 & Holy Family University & 297 & 0.0 & 0.29 & 0.000394429 & 2.33691e-6 \\\\\n",
       "\t30 & Lincoln University of Pennsylvania & 448 & 0.0 & 0.23 & 0.000594964 & 3.52503e-6 \\\\\n",
       "\t$\\dots$ & $\\dots$ & $\\dots$ & $\\dots$ & $\\dots$ & $\\dots$ & $\\dots$ \\\\\n",
       "\\end{tabular}\n"
      ],
      "text/plain": [
       "\u001b[1m677×6 DataFrame\u001b[0m\n",
       "\u001b[1m Row \u001b[0m│\u001b[1m name                              \u001b[0m\u001b[1m demand \u001b[0m\u001b[1m cutoff   \u001b[0m\u001b[1m yield   \u001b[0m\u001b[1m trueyield\u001b[0m ⋯\n",
       "\u001b[1m     \u001b[0m│\u001b[90m String                            \u001b[0m\u001b[90m Int64  \u001b[0m\u001b[90m Float64  \u001b[0m\u001b[90m Float64 \u001b[0m\u001b[90m Float64  \u001b[0m ⋯\n",
       "─────┼──────────────────────────────────────────────────────────────────────────\n",
       "   1 │ University of Arkansas at Pine B…     568  0.0          0.5   0.0007543 ⋯\n",
       "   2 │ Delaware State University            1036  0.0          0.28  0.0013758\n",
       "   3 │ Wesley College                        556  0.0          0.3   0.0007383\n",
       "   4 │ Edward Waters College                 208  0.0          0.4   0.0002762\n",
       "   5 │ St Thomas University                  210  0.0          0.63  0.0002788 ⋯\n",
       "   6 │ Paine College                         268  0.0          0.22  0.0003559\n",
       "   7 │ Savannah State University            1301  0.0          0.54  0.0017277\n",
       "   8 │ University of Hawaii-West Oahu        301  0.0          0.43  0.0003997\n",
       "   9 │ Calumet College of Saint Joseph       192  0.0          0.88  0.0002549 ⋯\n",
       "  10 │ Indiana State University             2661  0.0          0.29  0.0035339\n",
       "  11 │ Saint Mary-of-the-Woods College        64  0.0          0.2   8.49948e-\n",
       "  ⋮  │                 ⋮                    ⋮        ⋮         ⋮          ⋮    ⋱\n",
       " 668 │ Vanderbilt University                1613  0.932021     0.41  0.0315117\n",
       " 669 │ Columbia University in the City …    1415  0.933841     0.6   0.0284042 ⋯\n",
       " 670 │ Washington University in St Louis    1610  0.936436     0.34  0.0336377\n",
       " 671 │ Harvey Mudd College                   217  0.941896     0.34  0.0049598\n",
       " 672 │ Princeton University                 1285  0.944504     0.65  0.0307507\n",
       " 673 │ University of Chicago                1426  0.948962     0.53  0.0371053 ⋯\n",
       " 674 │ Massachusetts Institute of Techn…    1115  0.951492     0.72  0.030526\n",
       " 675 │ Harvard University                   1659  0.952631     0.81  0.0465117\n",
       " 676 │ Yale University                      1356  0.952748     0.66  0.0381115\n",
       " 677 │ California Institute of Technolo…     249  0.959023     0.43  0.0080698 ⋯\n",
       "\u001b[36m                                                  2 columns and 656 rows omitted\u001b[0m"
      ]
     },
     "execution_count": 3,
     "metadata": {},
     "output_type": "execute_result"
    }
   ],
   "source": [
    "invopt_results = HTTP.get(\"https://raw.githubusercontent.com/maxkapur/StudentPrefsRevOpt/main/results.csv\").body |> CSV.File |> DataFrame"
   ]
  },
  {
   "cell_type": "markdown",
   "metadata": {},
   "source": [
    "# Results plot"
   ]
  },
  {
   "cell_type": "code",
   "execution_count": 4,
   "metadata": {},
   "outputs": [
    {
     "data": {
      "text/plain": [
       "plot_cutoff_gamma (generic function with 1 method)"
      ]
     },
     "execution_count": 4,
     "metadata": {},
     "output_type": "execute_result"
    }
   ],
   "source": [
    "function plot_cutoff_gamma(stats::DataFrame)\n",
    "\n",
    "    pl = plot(size=(600, 600), xlim=(0, 1), ylim=(0, 0.05),#1.1*maximum(stats[!, :preferability])),\n",
    "              xlabel=\"cutoff percentile (p)\", ylabel=\"preferability (γ)\", legend=:topleft,\n",
    "              title=\"Admissions standards, class size and school preferability\", titlefontsize=12)\n",
    "\n",
    "    scatter!(pl,\n",
    "             stats[!, :cutoff],\n",
    "             stats[!, :preferability],\n",
    "             marker=:circle,\n",
    "             ms=stats[!, :trueyield]*400,\n",
    "             msw=0,\n",
    "             ma=.75,\n",
    "             color=:olivedrab,\n",
    "             label=\"Marker size: True yield\")\n",
    "\n",
    "    numsfont = text(\"\").font\n",
    "    numsfont.rotation = 0\n",
    "    numsfont.halign = :hcenter\n",
    "    numsfont.valign = :vcenter\n",
    "    numsfont.pointsize = 7\n",
    "\n",
    "    best = sortperm(stats[!, :preferability], rev=true)\n",
    "\n",
    "    n = 20\n",
    "\n",
    "    for i in 1:n\n",
    "        annotate!(pl,\n",
    "              [(stats[best[i], :cutoff], \n",
    "                stats[best[i], :preferability],\n",
    "                text(i, numsfont))])\n",
    "    end\n",
    "\n",
    "    font = text(\"\").font\n",
    "    font.rotation = 0\n",
    "    font.halign = :left\n",
    "    font.valign = :top\n",
    "    font.pointsize = 9\n",
    "\n",
    "    key = join([string(i)*\". \"*stats[best[i], :name] for i in 1:n], '\\n')\n",
    "    # annotate!(pl, [(0.07, 0.043, text(key, font))])\n",
    "    print(key)\n",
    "\n",
    "    return pl\n",
    "end\n",
    "\n",
    "# pl = plot_cutoff_gamma(invopt_results)\n",
    "\n",
    "# # savefig(pl, \"paper/plots/US-cutoff-gamma.pdf\")\n",
    "# # savefig(pl, \"paper/plots/US-cutoff-gamma.png\")\n",
    "\n",
    "# pl"
   ]
  },
  {
   "cell_type": "code",
   "execution_count": 5,
   "metadata": {},
   "outputs": [
    {
     "data": {
      "text/html": [
       "<table class=\"data-frame\"><thead><tr><th></th><th>name</th><th>demand</th><th>cutoff</th><th>yield</th><th>trueyield</th><th>preferability</th></tr><tr><th></th><th>String</th><th>Int64</th><th>Float64</th><th>Float64</th><th>Float64</th><th>Float64</th></tr></thead><tbody><p>20 rows × 6 columns</p><tr><th>1</th><td>Harvard U</td><td>1659</td><td>0.9526</td><td>0.81</td><td>0.0465</td><td>0.0465</td></tr><tr><th>2</th><td>Yale U</td><td>1356</td><td>0.9527</td><td>0.66</td><td>0.0381</td><td>0.0381</td></tr><tr><th>3</th><td>U of Chicago</td><td>1426</td><td>0.949</td><td>0.53</td><td>0.0371</td><td>0.0367</td></tr><tr><th>4</th><td>U of Pennsylvania</td><td>2421</td><td>0.9207</td><td>0.63</td><td>0.0405</td><td>0.0358</td></tr><tr><th>5</th><td>Northwestern U</td><td>2037</td><td>0.9268</td><td>0.41</td><td>0.0369</td><td>0.0337</td></tr><tr><th>6</th><td>Cornell U</td><td>3223</td><td>0.8984</td><td>0.52</td><td>0.0421</td><td>0.0326</td></tr><tr><th>7</th><td>Washington U in St Louis</td><td>1610</td><td>0.9364</td><td>0.34</td><td>0.0336</td><td>0.032</td></tr><tr><th>8</th><td>Massachusetts Institute of Technology</td><td>1115</td><td>0.9515</td><td>0.72</td><td>0.0305</td><td>0.0304</td></tr><tr><th>9</th><td>Princeton U</td><td>1285</td><td>0.9445</td><td>0.65</td><td>0.0308</td><td>0.03</td></tr><tr><th>10</th><td>Stanford U</td><td>1677</td><td>0.9307</td><td>0.76</td><td>0.0321</td><td>0.0299</td></tr><tr><th>11</th><td>Vanderbilt U</td><td>1613</td><td>0.932</td><td>0.41</td><td>0.0315</td><td>0.0295</td></tr><tr><th>12</th><td>Columbia U in the City of New York</td><td>1415</td><td>0.9338</td><td>0.6</td><td>0.0284</td><td>0.0268</td></tr><tr><th>13</th><td>Duke U</td><td>1714</td><td>0.918</td><td>0.42</td><td>0.0278</td><td>0.0242</td></tr><tr><th>14</th><td>U of Michigan-Ann Arbor</td><td>6200</td><td>0.813</td><td>0.4</td><td>0.044</td><td>0.0228</td></tr><tr><th>15</th><td>New York U</td><td>5207</td><td>0.8256</td><td>0.35</td><td>0.0397</td><td>0.0218</td></tr><tr><th>16</th><td>Northeastern U</td><td>2891</td><td>0.864</td><td>0.19</td><td>0.0282</td><td>0.0182</td></tr><tr><th>17</th><td>Brown U</td><td>1543</td><td>0.9065</td><td>0.58</td><td>0.0219</td><td>0.0178</td></tr><tr><th>18</th><td>U of California-Berkeley</td><td>4162</td><td>0.8214</td><td>0.37</td><td>0.0309</td><td>0.0167</td></tr><tr><th>19</th><td>U of Southern California</td><td>2922</td><td>0.8509</td><td>0.31</td><td>0.026</td><td>0.0159</td></tr><tr><th>20</th><td>Carnegie Mellon U</td><td>1442</td><td>0.9035</td><td>0.3</td><td>0.0198</td><td>0.0158</td></tr></tbody></table>"
      ],
      "text/latex": [
       "\\begin{tabular}{r|cccccc}\n",
       "\t& name & demand & cutoff & yield & trueyield & preferability\\\\\n",
       "\t\\hline\n",
       "\t& String & Int64 & Float64 & Float64 & Float64 & Float64\\\\\n",
       "\t\\hline\n",
       "\t1 & Harvard U & 1659 & 0.9526 & 0.81 & 0.0465 & 0.0465 \\\\\n",
       "\t2 & Yale U & 1356 & 0.9527 & 0.66 & 0.0381 & 0.0381 \\\\\n",
       "\t3 & U of Chicago & 1426 & 0.949 & 0.53 & 0.0371 & 0.0367 \\\\\n",
       "\t4 & U of Pennsylvania & 2421 & 0.9207 & 0.63 & 0.0405 & 0.0358 \\\\\n",
       "\t5 & Northwestern U & 2037 & 0.9268 & 0.41 & 0.0369 & 0.0337 \\\\\n",
       "\t6 & Cornell U & 3223 & 0.8984 & 0.52 & 0.0421 & 0.0326 \\\\\n",
       "\t7 & Washington U in St Louis & 1610 & 0.9364 & 0.34 & 0.0336 & 0.032 \\\\\n",
       "\t8 & Massachusetts Institute of Technology & 1115 & 0.9515 & 0.72 & 0.0305 & 0.0304 \\\\\n",
       "\t9 & Princeton U & 1285 & 0.9445 & 0.65 & 0.0308 & 0.03 \\\\\n",
       "\t10 & Stanford U & 1677 & 0.9307 & 0.76 & 0.0321 & 0.0299 \\\\\n",
       "\t11 & Vanderbilt U & 1613 & 0.932 & 0.41 & 0.0315 & 0.0295 \\\\\n",
       "\t12 & Columbia U in the City of New York & 1415 & 0.9338 & 0.6 & 0.0284 & 0.0268 \\\\\n",
       "\t13 & Duke U & 1714 & 0.918 & 0.42 & 0.0278 & 0.0242 \\\\\n",
       "\t14 & U of Michigan-Ann Arbor & 6200 & 0.813 & 0.4 & 0.044 & 0.0228 \\\\\n",
       "\t15 & New York U & 5207 & 0.8256 & 0.35 & 0.0397 & 0.0218 \\\\\n",
       "\t16 & Northeastern U & 2891 & 0.864 & 0.19 & 0.0282 & 0.0182 \\\\\n",
       "\t17 & Brown U & 1543 & 0.9065 & 0.58 & 0.0219 & 0.0178 \\\\\n",
       "\t18 & U of California-Berkeley & 4162 & 0.8214 & 0.37 & 0.0309 & 0.0167 \\\\\n",
       "\t19 & U of Southern California & 2922 & 0.8509 & 0.31 & 0.026 & 0.0159 \\\\\n",
       "\t20 & Carnegie Mellon U & 1442 & 0.9035 & 0.3 & 0.0198 & 0.0158 \\\\\n",
       "\\end{tabular}\n"
      ],
      "text/plain": [
       "\u001b[1m20×6 DataFrame\u001b[0m\n",
       "\u001b[1m Row \u001b[0m│\u001b[1m name                              \u001b[0m\u001b[1m demand \u001b[0m\u001b[1m cutoff  \u001b[0m\u001b[1m yield   \u001b[0m\u001b[1m trueyield \u001b[0m\u001b[1m\u001b[0m ⋯\n",
       "\u001b[1m     \u001b[0m│\u001b[90m String                            \u001b[0m\u001b[90m Int64  \u001b[0m\u001b[90m Float64 \u001b[0m\u001b[90m Float64 \u001b[0m\u001b[90m Float64   \u001b[0m\u001b[90m\u001b[0m ⋯\n",
       "─────┼──────────────────────────────────────────────────────────────────────────\n",
       "   1 │ Harvard U                            1659   0.9526     0.81     0.0465  ⋯\n",
       "   2 │ Yale U                               1356   0.9527     0.66     0.0381\n",
       "   3 │ U of Chicago                         1426   0.949      0.53     0.0371\n",
       "   4 │ U of Pennsylvania                    2421   0.9207     0.63     0.0405\n",
       "   5 │ Northwestern U                       2037   0.9268     0.41     0.0369  ⋯\n",
       "   6 │ Cornell U                            3223   0.8984     0.52     0.0421\n",
       "   7 │ Washington U in St Louis             1610   0.9364     0.34     0.0336\n",
       "   8 │ Massachusetts Institute of Techn…    1115   0.9515     0.72     0.0305\n",
       "   9 │ Princeton U                          1285   0.9445     0.65     0.0308  ⋯\n",
       "  10 │ Stanford U                           1677   0.9307     0.76     0.0321\n",
       "  11 │ Vanderbilt U                         1613   0.932      0.41     0.0315\n",
       "  12 │ Columbia U in the City of New Yo…    1415   0.9338     0.6      0.0284\n",
       "  13 │ Duke U                               1714   0.918      0.42     0.0278  ⋯\n",
       "  14 │ U of Michigan-Ann Arbor              6200   0.813      0.4      0.044\n",
       "  15 │ New York U                           5207   0.8256     0.35     0.0397\n",
       "  16 │ Northeastern U                       2891   0.864      0.19     0.0282\n",
       "  17 │ Brown U                              1543   0.9065     0.58     0.0219  ⋯\n",
       "  18 │ U of California-Berkeley             4162   0.8214     0.37     0.0309\n",
       "  19 │ U of Southern California             2922   0.8509     0.31     0.026\n",
       "  20 │ Carnegie Mellon U                    1442   0.9035     0.3      0.0198\n",
       "\u001b[36m                                                                1 column omitted\u001b[0m"
      ]
     },
     "execution_count": 5,
     "metadata": {},
     "output_type": "execute_result"
    }
   ],
   "source": [
    "# Just a helper fn to make the table in the text\n",
    "function parser(x)\n",
    "    if typeof(x)<:Vector{<:AbstractFloat}\n",
    "        return round.(x, digits=4)\n",
    "    elseif typeof(x)<:Vector{String}\n",
    "        return replace.(x, Pair(\"University\", \"U\"))\n",
    "    else\n",
    "        return x\n",
    "    end\n",
    "end\n",
    "\n",
    "best = sortperm(invopt_results[!, :preferability], rev=true)\n",
    "\n",
    "mapcols(parser, invopt_results[best[1:20], :])"
   ]
  },
  {
   "cell_type": "markdown",
   "metadata": {},
   "source": [
    "## Demand curves"
   ]
  },
  {
   "cell_type": "code",
   "execution_count": 6,
   "metadata": {},
   "outputs": [
    {
     "data": {
      "text/plain": [
       "Market{Float64}([-12.318293680220687, -11.71729267612241, -12.339646804691256, -13.32287701924052, -13.31330756822437, -13.069428118430983, -11.489526620429334, -12.953304834192963, -13.402919726914057, -10.77395782796415  …  -3.5240050910471457, -3.6208443341473204, -3.442792848341855, -5.3399957750876315, -3.5063210288644875, -3.304284581424574, -3.4927363343536104, -3.0692473664596838, -3.268317643975551, -4.819617066445362], [1.0, 1.0, 1.0, 1.0, 1.0, 1.0, 1.0, 1.0, 1.0, 1.0  …  1.0, 1.0, 1.0, 1.0, 1.0, 1.0, 1.0, 1.0, 1.0, 1.0], [4.469233322714244e-6, 8.151629792837952e-6, 4.37481290040338e-6, 1.6366206533883148e-6, 1.6523573904401256e-6, 2.1087227649426365e-6, 1.0236747452202872e-5, 2.368378926297513e-6, 1.5107267569738292e-6, 2.093772864743416e-5  …  0.02948112381711662, 0.026760072508319587, 0.03197525846057723, 0.004795890972472707, 0.030007106895331252, 0.03672547652824177, 0.030417525670831353, 0.04645610612665606, 0.038070421232116076, 0.008069876774098001])"
      ]
     },
     "execution_count": 6,
     "metadata": {},
     "output_type": "execute_result"
    }
   ],
   "source": [
    "america = Market(log.(invopt_results[!, :preferability]), ones(size(invopt_results)[1]), invopt_results[!, :preferability])"
   ]
  },
  {
   "cell_type": "code",
   "execution_count": 7,
   "metadata": {},
   "outputs": [
    {
     "data": {
      "text/plain": [
       "677-element Vector{Float64}:\n",
       "  568.0000000000072\n",
       " 1036.0000000000173\n",
       "  556.0000000000078\n",
       "  208.0000000000032\n",
       "  210.00000000000256\n",
       "  268.00000000000375\n",
       " 1301.0000000000182\n",
       "  301.0000000000044\n",
       "  192.00000000000315\n",
       " 2661.000000000042\n",
       "   64.00000000000088\n",
       "  506.0000000000072\n",
       "  201.0000000000029\n",
       "    ⋮\n",
       "  396.9999999999998\n",
       " 1676.9999999999993\n",
       " 1613.0000000000002\n",
       " 1414.9999999999993\n",
       " 1609.999999999999\n",
       "  216.99999999999983\n",
       " 1285.0\n",
       " 1425.999999999999\n",
       " 1114.9999999999993\n",
       " 1658.9999999999998\n",
       " 1356.0\n",
       "  248.99999999999994"
      ]
     },
     "execution_count": 7,
     "metadata": {},
     "output_type": "execute_result"
    }
   ],
   "source": [
    "# Make sure the demand function is working like it should. These should agree with the demand col of the df.\n",
    "sum(invopt_results[!, :demand]) * demand(america, invopt_results[!, :cutoff])"
   ]
  },
  {
   "cell_type": "markdown",
   "metadata": {},
   "source": [
    "Warning: The calculations below are very slow! "
   ]
  },
  {
   "cell_type": "code",
   "execution_count": 9,
   "metadata": {},
   "outputs": [
    {
     "data": {
      "text/plain": [
       "plot_demand_curves (generic function with 1 method)"
      ]
     },
     "execution_count": 9,
     "metadata": {},
     "output_type": "execute_result"
    }
   ],
   "source": [
    "idxs_to_plot = [677, best[106:107]...]\n",
    "\n",
    "function calc_demand_curves(ran, idxs_to_plot)\n",
    "    fixed_cuts = copy(invopt_results[!, :cutoff])\n",
    "    cuts_to_plot= vcat(ran, invopt_results[idxs_to_plot, :cutoff]) |> sort\n",
    "    \n",
    "    total_demand = sum(invopt_results[!, :demand])\n",
    "    \n",
    "    res = zeros(length(cuts_to_plot), length(idxs_to_plot))\n",
    "    \n",
    "    for (c, i) in enumerate(idxs_to_plot)\n",
    "        p = copy(fixed_cuts)\n",
    "        for (d, t) in enumerate(cuts_to_plot)\n",
    "            p[i] = t\n",
    "            res[d, c] = demand(america, p)[i] * total_demand\n",
    "        end\n",
    "    end\n",
    "    \n",
    "    return cuts_to_plot, res\n",
    "end\n",
    "\n",
    "\n",
    "function plot_demand_curves(cuts, curves)\n",
    "    pl = plot(xlabel=\"cutoff (p)\", ylabel=\"demand (number of students)\",\n",
    "              size=(700, 500), yticks=([0, 5000, 10000, 15000, 20000], [0, 5000, 10000, 15000, 20000]))\n",
    "    \n",
    "    colors = [:crimson, :dodgerblue, :olivedrab, :rebeccapurple]\n",
    "    \n",
    "    for (c, i) in enumerate(idxs_to_plot)\n",
    "        plot!(pl,\n",
    "              cuts, \n",
    "              curves[:, c],\n",
    "              label=invopt_results[i, :name],\n",
    "              color = colors[c])\n",
    "        \n",
    "        vline!(pl,\n",
    "               [invopt_results[i, :cutoff]],\n",
    "               color = colors[c], ls=:dash, label=nothing)\n",
    "    end\n",
    "    \n",
    "    plot!(pl, [0.75], [1], ms=nothing,\n",
    "           color = :black, ls=:dash, label=\"Current cutoffs\", legend=true)\n",
    "    \n",
    "    return pl\n",
    "end"
   ]
  },
  {
   "cell_type": "code",
   "execution_count": 10,
   "metadata": {},
   "outputs": [
    {
     "data": {
      "text/plain": [
       "([0.94, 0.9405, 0.941, 0.9415, 0.942, 0.9425, 0.943, 0.9435, 0.944, 0.9445  …  0.956, 0.9565, 0.957, 0.9575, 0.958, 0.9585, 0.959, 0.9590225465522962, 0.9595, 0.96], [378.2566831588278; 374.5220137669818; … ; 246.09874825115799; 243.06049209990945])"
      ]
     },
     "execution_count": 10,
     "metadata": {},
     "output_type": "execute_result"
    }
   ],
   "source": [
    "# allthree = calc_demand_curves(0.5:0.01:1, idxs_to_plot)\n",
    "caltech = calc_demand_curves(0.94:0.0005:0.96, [677])\n",
    "# allthree_plot = plot_demand_curves(allthree...)"
   ]
  },
  {
   "cell_type": "markdown",
   "metadata": {},
   "source": [
    "Some more facts about Caltech:\n",
    "\n",
    "No. applicants: 5535\n",
    "No. admitted: 584\n",
    "No. enrolled: 249\n",
    "\n",
    "In our hypothetical scenario, Caltech wants to achieve enrollment of 300. Suppose fits its demand curve based on its observed yield. This means becoming $300/249$ths as lenient. "
   ]
  },
  {
   "cell_type": "code",
   "execution_count": 23,
   "metadata": {},
   "outputs": [
    {
     "data": {
      "text/plain": [
       "0.9506295741593931"
      ]
     },
     "execution_count": 23,
     "metadata": {},
     "output_type": "execute_result"
    }
   ],
   "source": [
    "1- 350(1 - invopt_results[677, :cutoff])/249"
   ]
  },
  {
   "cell_type": "markdown",
   "metadata": {},
   "source": [
    "Equivalently, fit a linear curve to the observation of the demand, which is $(p, D) = (.996, 249)$ and (implicitly) $(1, 0)$. Then we have "
   ]
  },
  {
   "cell_type": "code",
   "execution_count": 30,
   "metadata": {},
   "outputs": [
    {
     "data": {
      "text/plain": [
       "0.9424011698526252"
      ]
     },
     "execution_count": 30,
     "metadata": {},
     "output_type": "execute_result"
    }
   ],
   "source": [
    "b, m = [1 invopt_results[677, :cutoff];\n",
    " 1 1]\\[249, 0]\n",
    "\n",
    "(350 - b) / m"
   ]
  },
  {
   "cell_type": "code",
   "execution_count": 32,
   "metadata": {},
   "outputs": [
    {
     "data": {
      "image/svg+xml": [
       "<?xml version=\"1.0\" encoding=\"utf-8\"?>\n",
       "<svg xmlns=\"http://www.w3.org/2000/svg\" xmlns:xlink=\"http://www.w3.org/1999/xlink\" width=\"700\" height=\"500\" viewBox=\"0 0 2800 2000\">\n",
       "<defs>\n",
       "  <clipPath id=\"clip600\">\n",
       "    <rect x=\"0\" y=\"0\" width=\"2800\" height=\"2000\"/>\n",
       "  </clipPath>\n",
       "</defs>\n",
       "<path clip-path=\"url(#clip600)\" d=\"\n",
       "M0 2000 L2800 2000 L2800 0 L0 0  Z\n",
       "  \" fill=\"#ffffff\" fill-rule=\"evenodd\" fill-opacity=\"1\"/>\n",
       "<defs>\n",
       "  <clipPath id=\"clip601\">\n",
       "    <rect x=\"560\" y=\"0\" width=\"1961\" height=\"1961\"/>\n",
       "  </clipPath>\n",
       "</defs>\n",
       "<path clip-path=\"url(#clip600)\" d=\"\n",
       "M241.52 1813.32 L2752.76 1813.32 L2752.76 47.2441 L241.52 47.2441  Z\n",
       "  \" fill=\"#ffffff\" fill-rule=\"evenodd\" fill-opacity=\"1\"/>\n",
       "<defs>\n",
       "  <clipPath id=\"clip602\">\n",
       "    <rect x=\"241\" y=\"47\" width=\"2512\" height=\"1767\"/>\n",
       "  </clipPath>\n",
       "</defs>\n",
       "<polyline clip-path=\"url(#clip602)\" style=\"stroke:#000000; stroke-width:2; stroke-opacity:0.1; fill:none\" points=\"\n",
       "  312.592,1813.32 312.592,47.2441 \n",
       "  \"/>\n",
       "<polyline clip-path=\"url(#clip602)\" style=\"stroke:#000000; stroke-width:2; stroke-opacity:0.1; fill:none\" points=\"\n",
       "  904.865,1813.32 904.865,47.2441 \n",
       "  \"/>\n",
       "<polyline clip-path=\"url(#clip602)\" style=\"stroke:#000000; stroke-width:2; stroke-opacity:0.1; fill:none\" points=\"\n",
       "  1497.14,1813.32 1497.14,47.2441 \n",
       "  \"/>\n",
       "<polyline clip-path=\"url(#clip602)\" style=\"stroke:#000000; stroke-width:2; stroke-opacity:0.1; fill:none\" points=\"\n",
       "  2089.41,1813.32 2089.41,47.2441 \n",
       "  \"/>\n",
       "<polyline clip-path=\"url(#clip602)\" style=\"stroke:#000000; stroke-width:2; stroke-opacity:0.1; fill:none\" points=\"\n",
       "  2681.68,1813.32 2681.68,47.2441 \n",
       "  \"/>\n",
       "<polyline clip-path=\"url(#clip600)\" style=\"stroke:#000000; stroke-width:4; stroke-opacity:1; fill:none\" points=\"\n",
       "  241.52,1813.32 2752.76,1813.32 \n",
       "  \"/>\n",
       "<polyline clip-path=\"url(#clip600)\" style=\"stroke:#000000; stroke-width:4; stroke-opacity:1; fill:none\" points=\"\n",
       "  312.592,1813.32 312.592,1792.12 \n",
       "  \"/>\n",
       "<polyline clip-path=\"url(#clip600)\" style=\"stroke:#000000; stroke-width:4; stroke-opacity:1; fill:none\" points=\"\n",
       "  904.865,1813.32 904.865,1792.12 \n",
       "  \"/>\n",
       "<polyline clip-path=\"url(#clip600)\" style=\"stroke:#000000; stroke-width:4; stroke-opacity:1; fill:none\" points=\"\n",
       "  1497.14,1813.32 1497.14,1792.12 \n",
       "  \"/>\n",
       "<polyline clip-path=\"url(#clip600)\" style=\"stroke:#000000; stroke-width:4; stroke-opacity:1; fill:none\" points=\"\n",
       "  2089.41,1813.32 2089.41,1792.12 \n",
       "  \"/>\n",
       "<polyline clip-path=\"url(#clip600)\" style=\"stroke:#000000; stroke-width:4; stroke-opacity:1; fill:none\" points=\"\n",
       "  2681.68,1813.32 2681.68,1792.12 \n",
       "  \"/>\n",
       "<path clip-path=\"url(#clip600)\" d=\"M 0 0 M259.815 1845.71 Q256.204 1845.71 254.375 1849.27 Q252.57 1852.81 252.57 1859.94 Q252.57 1867.05 254.375 1870.61 Q256.204 1874.16 259.815 1874.16 Q263.449 1874.16 265.255 1870.61 Q267.083 1867.05 267.083 1859.94 Q267.083 1852.81 265.255 1849.27 Q263.449 1845.71 259.815 1845.71 M259.815 1842 Q265.625 1842 268.681 1846.61 Q271.759 1851.19 271.759 1859.94 Q271.759 1868.67 268.681 1873.28 Q265.625 1877.86 259.815 1877.86 Q254.005 1877.86 250.926 1873.28 Q247.871 1868.67 247.871 1859.94 Q247.871 1851.19 250.926 1846.61 Q254.005 1842 259.815 1842 Z\" fill=\"#000000\" fill-rule=\"evenodd\" fill-opacity=\"1\" /><path clip-path=\"url(#clip600)\" d=\"M 0 0 M279.977 1871.31 L284.861 1871.31 L284.861 1877.19 L279.977 1877.19 L279.977 1871.31 Z\" fill=\"#000000\" fill-rule=\"evenodd\" fill-opacity=\"1\" /><path clip-path=\"url(#clip600)\" d=\"M 0 0 M295.185 1876.47 L295.185 1872.21 Q296.944 1873.05 298.75 1873.49 Q300.555 1873.93 302.292 1873.93 Q306.921 1873.93 309.352 1870.82 Q311.805 1867.7 312.153 1861.36 Q310.81 1863.35 308.75 1864.41 Q306.69 1865.48 304.19 1865.48 Q299.005 1865.48 295.972 1862.35 Q292.963 1859.2 292.963 1853.76 Q292.963 1848.44 296.111 1845.22 Q299.259 1842 304.491 1842 Q310.486 1842 313.634 1846.61 Q316.805 1851.19 316.805 1859.94 Q316.805 1868.11 312.917 1873 Q309.051 1877.86 302.5 1877.86 Q300.741 1877.86 298.935 1877.51 Q297.13 1877.17 295.185 1876.47 M304.491 1861.82 Q307.639 1861.82 309.467 1859.67 Q311.319 1857.51 311.319 1853.76 Q311.319 1850.04 309.467 1847.88 Q307.639 1845.71 304.491 1845.71 Q301.343 1845.71 299.491 1847.88 Q297.662 1850.04 297.662 1853.76 Q297.662 1857.51 299.491 1859.67 Q301.343 1861.82 304.491 1861.82 Z\" fill=\"#000000\" fill-rule=\"evenodd\" fill-opacity=\"1\" /><path clip-path=\"url(#clip600)\" d=\"M 0 0 M338.055 1846.7 L326.25 1865.15 L338.055 1865.15 L338.055 1846.7 M336.828 1842.63 L342.708 1842.63 L342.708 1865.15 L347.639 1865.15 L347.639 1869.04 L342.708 1869.04 L342.708 1877.19 L338.055 1877.19 L338.055 1869.04 L322.454 1869.04 L322.454 1864.53 L336.828 1842.63 Z\" fill=\"#000000\" fill-rule=\"evenodd\" fill-opacity=\"1\" /><path clip-path=\"url(#clip600)\" d=\"M 0 0 M365.37 1845.71 Q361.759 1845.71 359.93 1849.27 Q358.125 1852.81 358.125 1859.94 Q358.125 1867.05 359.93 1870.61 Q361.759 1874.16 365.37 1874.16 Q369.004 1874.16 370.81 1870.61 Q372.638 1867.05 372.638 1859.94 Q372.638 1852.81 370.81 1849.27 Q369.004 1845.71 365.37 1845.71 M365.37 1842 Q371.18 1842 374.236 1846.61 Q377.314 1851.19 377.314 1859.94 Q377.314 1868.67 374.236 1873.28 Q371.18 1877.86 365.37 1877.86 Q359.56 1877.86 356.481 1873.28 Q353.426 1868.67 353.426 1859.94 Q353.426 1851.19 356.481 1846.61 Q359.56 1842 365.37 1842 Z\" fill=\"#000000\" fill-rule=\"evenodd\" fill-opacity=\"1\" /><path clip-path=\"url(#clip600)\" d=\"M 0 0 M852.585 1845.71 Q848.974 1845.71 847.146 1849.27 Q845.34 1852.81 845.34 1859.94 Q845.34 1867.05 847.146 1870.61 Q848.974 1874.16 852.585 1874.16 Q856.22 1874.16 858.025 1870.61 Q859.854 1867.05 859.854 1859.94 Q859.854 1852.81 858.025 1849.27 Q856.22 1845.71 852.585 1845.71 M852.585 1842 Q858.395 1842 861.451 1846.61 Q864.53 1851.19 864.53 1859.94 Q864.53 1868.67 861.451 1873.28 Q858.395 1877.86 852.585 1877.86 Q846.775 1877.86 843.696 1873.28 Q840.641 1868.67 840.641 1859.94 Q840.641 1851.19 843.696 1846.61 Q846.775 1842 852.585 1842 Z\" fill=\"#000000\" fill-rule=\"evenodd\" fill-opacity=\"1\" /><path clip-path=\"url(#clip600)\" d=\"M 0 0 M872.747 1871.31 L877.631 1871.31 L877.631 1877.19 L872.747 1877.19 L872.747 1871.31 Z\" fill=\"#000000\" fill-rule=\"evenodd\" fill-opacity=\"1\" /><path clip-path=\"url(#clip600)\" d=\"M 0 0 M887.956 1876.47 L887.956 1872.21 Q889.715 1873.05 891.52 1873.49 Q893.326 1873.93 895.062 1873.93 Q899.692 1873.93 902.122 1870.82 Q904.576 1867.7 904.923 1861.36 Q903.58 1863.35 901.52 1864.41 Q899.46 1865.48 896.96 1865.48 Q891.775 1865.48 888.743 1862.35 Q885.733 1859.2 885.733 1853.76 Q885.733 1848.44 888.881 1845.22 Q892.03 1842 897.261 1842 Q903.256 1842 906.404 1846.61 Q909.576 1851.19 909.576 1859.94 Q909.576 1868.11 905.687 1873 Q901.821 1877.86 895.27 1877.86 Q893.511 1877.86 891.705 1877.51 Q889.9 1877.17 887.956 1876.47 M897.261 1861.82 Q900.409 1861.82 902.238 1859.67 Q904.09 1857.51 904.09 1853.76 Q904.09 1850.04 902.238 1847.88 Q900.409 1845.71 897.261 1845.71 Q894.113 1845.71 892.261 1847.88 Q890.432 1850.04 890.432 1853.76 Q890.432 1857.51 892.261 1859.67 Q894.113 1861.82 897.261 1861.82 Z\" fill=\"#000000\" fill-rule=\"evenodd\" fill-opacity=\"1\" /><path clip-path=\"url(#clip600)\" d=\"M 0 0 M930.826 1846.7 L919.02 1865.15 L930.826 1865.15 L930.826 1846.7 M929.599 1842.63 L935.478 1842.63 L935.478 1865.15 L940.409 1865.15 L940.409 1869.04 L935.478 1869.04 L935.478 1877.19 L930.826 1877.19 L930.826 1869.04 L915.224 1869.04 L915.224 1864.53 L929.599 1842.63 Z\" fill=\"#000000\" fill-rule=\"evenodd\" fill-opacity=\"1\" /><path clip-path=\"url(#clip600)\" d=\"M 0 0 M948.187 1842.63 L966.543 1842.63 L966.543 1846.56 L952.469 1846.56 L952.469 1855.04 Q953.488 1854.69 954.506 1854.53 Q955.525 1854.34 956.543 1854.34 Q962.33 1854.34 965.71 1857.51 Q969.089 1860.68 969.089 1866.1 Q969.089 1871.68 965.617 1874.78 Q962.145 1877.86 955.826 1877.86 Q953.65 1877.86 951.381 1877.49 Q949.136 1877.12 946.728 1876.38 L946.728 1871.68 Q948.812 1872.81 951.034 1873.37 Q953.256 1873.93 955.733 1873.93 Q959.738 1873.93 962.075 1871.82 Q964.413 1869.71 964.413 1866.1 Q964.413 1862.49 962.075 1860.38 Q959.738 1858.28 955.733 1858.28 Q953.858 1858.28 951.983 1858.69 Q950.131 1859.11 948.187 1859.99 L948.187 1842.63 Z\" fill=\"#000000\" fill-rule=\"evenodd\" fill-opacity=\"1\" /><path clip-path=\"url(#clip600)\" d=\"M 0 0 M1444.36 1845.71 Q1440.75 1845.71 1438.92 1849.27 Q1437.11 1852.81 1437.11 1859.94 Q1437.11 1867.05 1438.92 1870.61 Q1440.75 1874.16 1444.36 1874.16 Q1447.99 1874.16 1449.8 1870.61 Q1451.63 1867.05 1451.63 1859.94 Q1451.63 1852.81 1449.8 1849.27 Q1447.99 1845.71 1444.36 1845.71 M1444.36 1842 Q1450.17 1842 1453.23 1846.61 Q1456.3 1851.19 1456.3 1859.94 Q1456.3 1868.67 1453.23 1873.28 Q1450.17 1877.86 1444.36 1877.86 Q1438.55 1877.86 1435.47 1873.28 Q1432.42 1868.67 1432.42 1859.94 Q1432.42 1851.19 1435.47 1846.61 Q1438.55 1842 1444.36 1842 Z\" fill=\"#000000\" fill-rule=\"evenodd\" fill-opacity=\"1\" /><path clip-path=\"url(#clip600)\" d=\"M 0 0 M1464.52 1871.31 L1469.41 1871.31 L1469.41 1877.19 L1464.52 1877.19 L1464.52 1871.31 Z\" fill=\"#000000\" fill-rule=\"evenodd\" fill-opacity=\"1\" /><path clip-path=\"url(#clip600)\" d=\"M 0 0 M1479.73 1876.47 L1479.73 1872.21 Q1481.49 1873.05 1483.3 1873.49 Q1485.1 1873.93 1486.84 1873.93 Q1491.47 1873.93 1493.9 1870.82 Q1496.35 1867.7 1496.7 1861.36 Q1495.36 1863.35 1493.3 1864.41 Q1491.24 1865.48 1488.74 1865.48 Q1483.55 1865.48 1480.52 1862.35 Q1477.51 1859.2 1477.51 1853.76 Q1477.51 1848.44 1480.66 1845.22 Q1483.8 1842 1489.04 1842 Q1495.03 1842 1498.18 1846.61 Q1501.35 1851.19 1501.35 1859.94 Q1501.35 1868.11 1497.46 1873 Q1493.6 1877.86 1487.05 1877.86 Q1485.29 1877.86 1483.48 1877.51 Q1481.67 1877.17 1479.73 1876.47 M1489.04 1861.82 Q1492.18 1861.82 1494.01 1859.67 Q1495.86 1857.51 1495.86 1853.76 Q1495.86 1850.04 1494.01 1847.88 Q1492.18 1845.71 1489.04 1845.71 Q1485.89 1845.71 1484.04 1847.88 Q1482.21 1850.04 1482.21 1853.76 Q1482.21 1857.51 1484.04 1859.67 Q1485.89 1861.82 1489.04 1861.82 Z\" fill=\"#000000\" fill-rule=\"evenodd\" fill-opacity=\"1\" /><path clip-path=\"url(#clip600)\" d=\"M 0 0 M1509.8 1842.63 L1528.16 1842.63 L1528.16 1846.56 L1514.08 1846.56 L1514.08 1855.04 Q1515.1 1854.69 1516.12 1854.53 Q1517.14 1854.34 1518.16 1854.34 Q1523.94 1854.34 1527.32 1857.51 Q1530.7 1860.68 1530.7 1866.1 Q1530.7 1871.68 1527.23 1874.78 Q1523.76 1877.86 1517.44 1877.86 Q1515.26 1877.86 1512.99 1877.49 Q1510.75 1877.12 1508.34 1876.38 L1508.34 1871.68 Q1510.42 1872.81 1512.65 1873.37 Q1514.87 1873.93 1517.35 1873.93 Q1521.35 1873.93 1523.69 1871.82 Q1526.03 1869.71 1526.03 1866.1 Q1526.03 1862.49 1523.69 1860.38 Q1521.35 1858.28 1517.35 1858.28 Q1515.47 1858.28 1513.6 1858.69 Q1511.74 1859.11 1509.8 1859.99 L1509.8 1842.63 Z\" fill=\"#000000\" fill-rule=\"evenodd\" fill-opacity=\"1\" /><path clip-path=\"url(#clip600)\" d=\"M 0 0 M1549.92 1845.71 Q1546.3 1845.71 1544.48 1849.27 Q1542.67 1852.81 1542.67 1859.94 Q1542.67 1867.05 1544.48 1870.61 Q1546.3 1874.16 1549.92 1874.16 Q1553.55 1874.16 1555.36 1870.61 Q1557.18 1867.05 1557.18 1859.94 Q1557.18 1852.81 1555.36 1849.27 Q1553.55 1845.71 1549.92 1845.71 M1549.92 1842 Q1555.73 1842 1558.78 1846.61 Q1561.86 1851.19 1561.86 1859.94 Q1561.86 1868.67 1558.78 1873.28 Q1555.73 1877.86 1549.92 1877.86 Q1544.11 1877.86 1541.03 1873.28 Q1537.97 1868.67 1537.97 1859.94 Q1537.97 1851.19 1541.03 1846.61 Q1544.11 1842 1549.92 1842 Z\" fill=\"#000000\" fill-rule=\"evenodd\" fill-opacity=\"1\" /><path clip-path=\"url(#clip600)\" d=\"M 0 0 M2037.13 1845.71 Q2033.52 1845.71 2031.69 1849.27 Q2029.89 1852.81 2029.89 1859.94 Q2029.89 1867.05 2031.69 1870.61 Q2033.52 1874.16 2037.13 1874.16 Q2040.76 1874.16 2042.57 1870.61 Q2044.4 1867.05 2044.4 1859.94 Q2044.4 1852.81 2042.57 1849.27 Q2040.76 1845.71 2037.13 1845.71 M2037.13 1842 Q2042.94 1842 2046 1846.61 Q2049.08 1851.19 2049.08 1859.94 Q2049.08 1868.67 2046 1873.28 Q2042.94 1877.86 2037.13 1877.86 Q2031.32 1877.86 2028.24 1873.28 Q2025.19 1868.67 2025.19 1859.94 Q2025.19 1851.19 2028.24 1846.61 Q2031.32 1842 2037.13 1842 Z\" fill=\"#000000\" fill-rule=\"evenodd\" fill-opacity=\"1\" /><path clip-path=\"url(#clip600)\" d=\"M 0 0 M2057.29 1871.31 L2062.18 1871.31 L2062.18 1877.19 L2057.29 1877.19 L2057.29 1871.31 Z\" fill=\"#000000\" fill-rule=\"evenodd\" fill-opacity=\"1\" /><path clip-path=\"url(#clip600)\" d=\"M 0 0 M2072.5 1876.47 L2072.5 1872.21 Q2074.26 1873.05 2076.07 1873.49 Q2077.87 1873.93 2079.61 1873.93 Q2084.24 1873.93 2086.67 1870.82 Q2089.12 1867.7 2089.47 1861.36 Q2088.13 1863.35 2086.07 1864.41 Q2084.01 1865.48 2081.51 1865.48 Q2076.32 1865.48 2073.29 1862.35 Q2070.28 1859.2 2070.28 1853.76 Q2070.28 1848.44 2073.43 1845.22 Q2076.57 1842 2081.81 1842 Q2087.8 1842 2090.95 1846.61 Q2094.12 1851.19 2094.12 1859.94 Q2094.12 1868.11 2090.23 1873 Q2086.37 1877.86 2079.82 1877.86 Q2078.06 1877.86 2076.25 1877.51 Q2074.45 1877.17 2072.5 1876.47 M2081.81 1861.82 Q2084.95 1861.82 2086.78 1859.67 Q2088.64 1857.51 2088.64 1853.76 Q2088.64 1850.04 2086.78 1847.88 Q2084.95 1845.71 2081.81 1845.71 Q2078.66 1845.71 2076.81 1847.88 Q2074.98 1850.04 2074.98 1853.76 Q2074.98 1857.51 2076.81 1859.67 Q2078.66 1861.82 2081.81 1861.82 Z\" fill=\"#000000\" fill-rule=\"evenodd\" fill-opacity=\"1\" /><path clip-path=\"url(#clip600)\" d=\"M 0 0 M2102.57 1842.63 L2120.93 1842.63 L2120.93 1846.56 L2106.85 1846.56 L2106.85 1855.04 Q2107.87 1854.69 2108.89 1854.53 Q2109.91 1854.34 2110.93 1854.34 Q2116.71 1854.34 2120.09 1857.51 Q2123.47 1860.68 2123.47 1866.1 Q2123.47 1871.68 2120 1874.78 Q2116.53 1877.86 2110.21 1877.86 Q2108.03 1877.86 2105.76 1877.49 Q2103.52 1877.12 2101.11 1876.38 L2101.11 1871.68 Q2103.2 1872.81 2105.42 1873.37 Q2107.64 1873.93 2110.12 1873.93 Q2114.12 1873.93 2116.46 1871.82 Q2118.8 1869.71 2118.8 1866.1 Q2118.8 1862.49 2116.46 1860.38 Q2114.12 1858.28 2110.12 1858.28 Q2108.24 1858.28 2106.37 1858.69 Q2104.51 1859.11 2102.57 1859.99 L2102.57 1842.63 Z\" fill=\"#000000\" fill-rule=\"evenodd\" fill-opacity=\"1\" /><path clip-path=\"url(#clip600)\" d=\"M 0 0 M2132.73 1842.63 L2151.09 1842.63 L2151.09 1846.56 L2137.01 1846.56 L2137.01 1855.04 Q2138.03 1854.69 2139.05 1854.53 Q2140.07 1854.34 2141.09 1854.34 Q2146.88 1854.34 2150.26 1857.51 Q2153.63 1860.68 2153.63 1866.1 Q2153.63 1871.68 2150.16 1874.78 Q2146.69 1877.86 2140.37 1877.86 Q2138.19 1877.86 2135.93 1877.49 Q2133.68 1877.12 2131.27 1876.38 L2131.27 1871.68 Q2133.36 1872.81 2135.58 1873.37 Q2137.8 1873.93 2140.28 1873.93 Q2144.28 1873.93 2146.62 1871.82 Q2148.96 1869.71 2148.96 1866.1 Q2148.96 1862.49 2146.62 1860.38 Q2144.28 1858.28 2140.28 1858.28 Q2138.4 1858.28 2136.53 1858.69 Q2134.68 1859.11 2132.73 1859.99 L2132.73 1842.63 Z\" fill=\"#000000\" fill-rule=\"evenodd\" fill-opacity=\"1\" /><path clip-path=\"url(#clip600)\" d=\"M 0 0 M2628.91 1845.71 Q2625.29 1845.71 2623.47 1849.27 Q2621.66 1852.81 2621.66 1859.94 Q2621.66 1867.05 2623.47 1870.61 Q2625.29 1874.16 2628.91 1874.16 Q2632.54 1874.16 2634.35 1870.61 Q2636.17 1867.05 2636.17 1859.94 Q2636.17 1852.81 2634.35 1849.27 Q2632.54 1845.71 2628.91 1845.71 M2628.91 1842 Q2634.72 1842 2637.77 1846.61 Q2640.85 1851.19 2640.85 1859.94 Q2640.85 1868.67 2637.77 1873.28 Q2634.72 1877.86 2628.91 1877.86 Q2623.1 1877.86 2620.02 1873.28 Q2616.96 1868.67 2616.96 1859.94 Q2616.96 1851.19 2620.02 1846.61 Q2623.1 1842 2628.91 1842 Z\" fill=\"#000000\" fill-rule=\"evenodd\" fill-opacity=\"1\" /><path clip-path=\"url(#clip600)\" d=\"M 0 0 M2649.07 1871.31 L2653.95 1871.31 L2653.95 1877.19 L2649.07 1877.19 L2649.07 1871.31 Z\" fill=\"#000000\" fill-rule=\"evenodd\" fill-opacity=\"1\" /><path clip-path=\"url(#clip600)\" d=\"M 0 0 M2664.28 1876.47 L2664.28 1872.21 Q2666.04 1873.05 2667.84 1873.49 Q2669.65 1873.93 2671.38 1873.93 Q2676.01 1873.93 2678.44 1870.82 Q2680.9 1867.7 2681.24 1861.36 Q2679.9 1863.35 2677.84 1864.41 Q2675.78 1865.48 2673.28 1865.48 Q2668.1 1865.48 2665.06 1862.35 Q2662.05 1859.2 2662.05 1853.76 Q2662.05 1848.44 2665.2 1845.22 Q2668.35 1842 2673.58 1842 Q2679.58 1842 2682.72 1846.61 Q2685.9 1851.19 2685.9 1859.94 Q2685.9 1868.11 2682.01 1873 Q2678.14 1877.86 2671.59 1877.86 Q2669.83 1877.86 2668.03 1877.51 Q2666.22 1877.17 2664.28 1876.47 M2673.58 1861.82 Q2676.73 1861.82 2678.56 1859.67 Q2680.41 1857.51 2680.41 1853.76 Q2680.41 1850.04 2678.56 1847.88 Q2676.73 1845.71 2673.58 1845.71 Q2670.43 1845.71 2668.58 1847.88 Q2666.75 1850.04 2666.75 1853.76 Q2666.75 1857.51 2668.58 1859.67 Q2670.43 1861.82 2673.58 1861.82 Z\" fill=\"#000000\" fill-rule=\"evenodd\" fill-opacity=\"1\" /><path clip-path=\"url(#clip600)\" d=\"M 0 0 M2704.88 1858.05 Q2701.73 1858.05 2699.88 1860.2 Q2698.05 1862.35 2698.05 1866.1 Q2698.05 1869.83 2699.88 1872 Q2701.73 1874.16 2704.88 1874.16 Q2708.03 1874.16 2709.85 1872 Q2711.71 1869.83 2711.71 1866.1 Q2711.71 1862.35 2709.85 1860.2 Q2708.03 1858.05 2704.88 1858.05 M2714.16 1843.39 L2714.16 1847.65 Q2712.4 1846.82 2710.6 1846.38 Q2708.81 1845.94 2707.05 1845.94 Q2702.42 1845.94 2699.97 1849.06 Q2697.54 1852.19 2697.19 1858.51 Q2698.56 1856.49 2700.62 1855.43 Q2702.68 1854.34 2705.16 1854.34 Q2710.36 1854.34 2713.37 1857.51 Q2716.41 1860.66 2716.41 1866.1 Q2716.41 1871.43 2713.26 1874.64 Q2710.11 1877.86 2704.88 1877.86 Q2698.88 1877.86 2695.71 1873.28 Q2692.54 1868.67 2692.54 1859.94 Q2692.54 1851.75 2696.43 1846.89 Q2700.32 1842 2706.87 1842 Q2708.63 1842 2710.41 1842.35 Q2712.22 1842.7 2714.16 1843.39 Z\" fill=\"#000000\" fill-rule=\"evenodd\" fill-opacity=\"1\" /><path clip-path=\"url(#clip600)\" d=\"M 0 0 M2734.46 1845.71 Q2730.85 1845.71 2729.02 1849.27 Q2727.22 1852.81 2727.22 1859.94 Q2727.22 1867.05 2729.02 1870.61 Q2730.85 1874.16 2734.46 1874.16 Q2738.09 1874.16 2739.9 1870.61 Q2741.73 1867.05 2741.73 1859.94 Q2741.73 1852.81 2739.9 1849.27 Q2738.09 1845.71 2734.46 1845.71 M2734.46 1842 Q2740.27 1842 2743.33 1846.61 Q2746.41 1851.19 2746.41 1859.94 Q2746.41 1868.67 2743.33 1873.28 Q2740.27 1877.86 2734.46 1877.86 Q2728.65 1877.86 2725.57 1873.28 Q2722.52 1868.67 2722.52 1859.94 Q2722.52 1851.19 2725.57 1846.61 Q2728.65 1842 2734.46 1842 Z\" fill=\"#000000\" fill-rule=\"evenodd\" fill-opacity=\"1\" /><path clip-path=\"url(#clip600)\" d=\"M 0 0 M1379.21 1929.9 L1379.21 1935.38 Q1376.73 1934.01 1374.22 1933.34 Q1371.73 1932.64 1369.19 1932.64 Q1363.49 1932.64 1360.34 1936.27 Q1357.19 1939.86 1357.19 1946.39 Q1357.19 1952.91 1360.34 1956.54 Q1363.49 1960.14 1369.19 1960.14 Q1371.73 1960.14 1374.22 1959.47 Q1376.73 1958.77 1379.21 1957.4 L1379.21 1962.81 Q1376.76 1963.96 1374.12 1964.53 Q1371.51 1965.1 1368.55 1965.1 Q1360.5 1965.1 1355.76 1960.04 Q1351.01 1954.98 1351.01 1946.39 Q1351.01 1937.67 1355.79 1932.67 Q1360.59 1927.67 1368.93 1927.67 Q1371.64 1927.67 1374.22 1928.25 Q1376.79 1928.79 1379.21 1929.9 Z\" fill=\"#000000\" fill-rule=\"evenodd\" fill-opacity=\"1\" /><path clip-path=\"url(#clip600)\" d=\"M 0 0 M1388.79 1950.11 L1388.79 1928.53 L1394.65 1928.53 L1394.65 1949.89 Q1394.65 1954.95 1396.62 1957.5 Q1398.6 1960.01 1402.54 1960.01 Q1407.29 1960.01 1410.02 1956.99 Q1412.79 1953.96 1412.79 1948.74 L1412.79 1928.53 L1418.65 1928.53 L1418.65 1964.18 L1412.79 1964.18 L1412.79 1958.71 Q1410.66 1961.95 1407.83 1963.54 Q1405.03 1965.1 1401.3 1965.1 Q1395.16 1965.1 1391.98 1961.28 Q1388.79 1957.47 1388.79 1950.11 M1403.53 1927.67 L1403.53 1927.67 Z\" fill=\"#000000\" fill-rule=\"evenodd\" fill-opacity=\"1\" /><path clip-path=\"url(#clip600)\" d=\"M 0 0 M1436.5 1918.41 L1436.5 1928.53 L1448.57 1928.53 L1448.57 1933.08 L1436.5 1933.08 L1436.5 1952.44 Q1436.5 1956.8 1437.68 1958.04 Q1438.89 1959.28 1442.55 1959.28 L1448.57 1959.28 L1448.57 1964.18 L1442.55 1964.18 Q1435.77 1964.18 1433.19 1961.67 Q1430.62 1959.12 1430.62 1952.44 L1430.62 1933.08 L1426.32 1933.08 L1426.32 1928.53 L1430.62 1928.53 L1430.62 1918.41 L1436.5 1918.41 Z\" fill=\"#000000\" fill-rule=\"evenodd\" fill-opacity=\"1\" /><path clip-path=\"url(#clip600)\" d=\"M 0 0 M1470.08 1932.64 Q1465.37 1932.64 1462.64 1936.33 Q1459.9 1939.99 1459.9 1946.39 Q1459.9 1952.79 1462.6 1956.48 Q1465.34 1960.14 1470.08 1960.14 Q1474.76 1960.14 1477.5 1956.45 Q1480.24 1952.75 1480.24 1946.39 Q1480.24 1940.05 1477.5 1936.36 Q1474.76 1932.64 1470.08 1932.64 M1470.08 1927.67 Q1477.72 1927.67 1482.08 1932.64 Q1486.44 1937.6 1486.44 1946.39 Q1486.44 1955.14 1482.08 1960.14 Q1477.72 1965.1 1470.08 1965.1 Q1462.41 1965.1 1458.05 1960.14 Q1453.72 1955.14 1453.72 1946.39 Q1453.72 1937.6 1458.05 1932.64 Q1462.41 1927.67 1470.08 1927.67 Z\" fill=\"#000000\" fill-rule=\"evenodd\" fill-opacity=\"1\" /><path clip-path=\"url(#clip600)\" d=\"M 0 0 M1514.2 1914.66 L1514.2 1919.53 L1508.6 1919.53 Q1505.45 1919.53 1504.2 1920.8 Q1502.99 1922.07 1502.99 1925.38 L1502.99 1928.53 L1512.64 1928.53 L1512.64 1933.08 L1502.99 1933.08 L1502.99 1964.18 L1497.11 1964.18 L1497.11 1933.08 L1491.5 1933.08 L1491.5 1928.53 L1497.11 1928.53 L1497.11 1926.05 Q1497.11 1920.1 1499.88 1917.39 Q1502.64 1914.66 1508.66 1914.66 L1514.2 1914.66 Z\" fill=\"#000000\" fill-rule=\"evenodd\" fill-opacity=\"1\" /><path clip-path=\"url(#clip600)\" d=\"M 0 0 M1537.15 1914.66 L1537.15 1919.53 L1531.54 1919.53 Q1528.39 1919.53 1527.15 1920.8 Q1525.94 1922.07 1525.94 1925.38 L1525.94 1928.53 L1535.59 1928.53 L1535.59 1933.08 L1525.94 1933.08 L1525.94 1964.18 L1520.05 1964.18 L1520.05 1933.08 L1514.45 1933.08 L1514.45 1928.53 L1520.05 1928.53 L1520.05 1926.05 Q1520.05 1920.1 1522.82 1917.39 Q1525.59 1914.66 1531.61 1914.66 L1537.15 1914.66 Z\" fill=\"#000000\" fill-rule=\"evenodd\" fill-opacity=\"1\" /><path clip-path=\"url(#clip600)\" d=\"M 0 0 M1576.84 1914.72 Q1572.57 1922.04 1570.5 1929.2 Q1568.43 1936.36 1568.43 1943.72 Q1568.43 1951.07 1570.5 1958.29 Q1572.6 1965.49 1576.84 1972.77 L1571.74 1972.77 Q1566.97 1965.29 1564.58 1958.07 Q1562.23 1950.84 1562.23 1943.72 Q1562.23 1936.62 1564.58 1929.42 Q1566.94 1922.23 1571.74 1914.72 L1576.84 1914.72 Z\" fill=\"#000000\" fill-rule=\"evenodd\" fill-opacity=\"1\" /><path clip-path=\"url(#clip600)\" d=\"M 0 0 M1593.86 1958.83 L1593.86 1977.74 L1587.98 1977.74 L1587.98 1928.53 L1593.86 1928.53 L1593.86 1933.94 Q1595.71 1930.76 1598.51 1929.23 Q1601.34 1927.67 1605.26 1927.67 Q1611.75 1927.67 1615.79 1932.83 Q1619.87 1937.99 1619.87 1946.39 Q1619.87 1954.79 1615.79 1959.95 Q1611.75 1965.1 1605.26 1965.1 Q1601.34 1965.1 1598.51 1963.58 Q1595.71 1962.02 1593.86 1958.83 M1613.79 1946.39 Q1613.79 1939.93 1611.12 1936.27 Q1608.47 1932.58 1603.83 1932.58 Q1599.18 1932.58 1596.51 1936.27 Q1593.86 1939.93 1593.86 1946.39 Q1593.86 1952.85 1596.51 1956.54 Q1599.18 1960.2 1603.83 1960.2 Q1608.47 1960.2 1611.12 1956.54 Q1613.79 1952.85 1613.79 1946.39 Z\" fill=\"#000000\" fill-rule=\"evenodd\" fill-opacity=\"1\" /><path clip-path=\"url(#clip600)\" d=\"M 0 0 M1628.65 1914.72 L1633.75 1914.72 Q1638.52 1922.23 1640.88 1929.42 Q1643.26 1936.62 1643.26 1943.72 Q1643.26 1950.84 1640.88 1958.07 Q1638.52 1965.29 1633.75 1972.77 L1628.65 1972.77 Q1632.89 1965.49 1634.96 1958.29 Q1637.06 1951.07 1637.06 1943.72 Q1637.06 1936.36 1634.96 1929.2 Q1632.89 1922.04 1628.65 1914.72 Z\" fill=\"#000000\" fill-rule=\"evenodd\" fill-opacity=\"1\" /><polyline clip-path=\"url(#clip602)\" style=\"stroke:#000000; stroke-width:2; stroke-opacity:0.1; fill:none\" points=\"\n",
       "  241.52,1677.81 2752.76,1677.81 \n",
       "  \"/>\n",
       "<polyline clip-path=\"url(#clip602)\" style=\"stroke:#000000; stroke-width:2; stroke-opacity:0.1; fill:none\" points=\"\n",
       "  241.52,1369.72 2752.76,1369.72 \n",
       "  \"/>\n",
       "<polyline clip-path=\"url(#clip602)\" style=\"stroke:#000000; stroke-width:2; stroke-opacity:0.1; fill:none\" points=\"\n",
       "  241.52,1061.63 2752.76,1061.63 \n",
       "  \"/>\n",
       "<polyline clip-path=\"url(#clip602)\" style=\"stroke:#000000; stroke-width:2; stroke-opacity:0.1; fill:none\" points=\"\n",
       "  241.52,753.542 2752.76,753.542 \n",
       "  \"/>\n",
       "<polyline clip-path=\"url(#clip602)\" style=\"stroke:#000000; stroke-width:2; stroke-opacity:0.1; fill:none\" points=\"\n",
       "  241.52,445.452 2752.76,445.452 \n",
       "  \"/>\n",
       "<polyline clip-path=\"url(#clip602)\" style=\"stroke:#000000; stroke-width:2; stroke-opacity:0.1; fill:none\" points=\"\n",
       "  241.52,137.361 2752.76,137.361 \n",
       "  \"/>\n",
       "<polyline clip-path=\"url(#clip600)\" style=\"stroke:#000000; stroke-width:4; stroke-opacity:1; fill:none\" points=\"\n",
       "  241.52,1813.32 241.52,47.2441 \n",
       "  \"/>\n",
       "<polyline clip-path=\"url(#clip600)\" style=\"stroke:#000000; stroke-width:4; stroke-opacity:1; fill:none\" points=\"\n",
       "  241.52,1677.81 271.655,1677.81 \n",
       "  \"/>\n",
       "<polyline clip-path=\"url(#clip600)\" style=\"stroke:#000000; stroke-width:4; stroke-opacity:1; fill:none\" points=\"\n",
       "  241.52,1369.72 271.655,1369.72 \n",
       "  \"/>\n",
       "<polyline clip-path=\"url(#clip600)\" style=\"stroke:#000000; stroke-width:4; stroke-opacity:1; fill:none\" points=\"\n",
       "  241.52,1061.63 271.655,1061.63 \n",
       "  \"/>\n",
       "<polyline clip-path=\"url(#clip600)\" style=\"stroke:#000000; stroke-width:4; stroke-opacity:1; fill:none\" points=\"\n",
       "  241.52,753.542 271.655,753.542 \n",
       "  \"/>\n",
       "<polyline clip-path=\"url(#clip600)\" style=\"stroke:#000000; stroke-width:4; stroke-opacity:1; fill:none\" points=\"\n",
       "  241.52,445.452 271.655,445.452 \n",
       "  \"/>\n",
       "<polyline clip-path=\"url(#clip600)\" style=\"stroke:#000000; stroke-width:4; stroke-opacity:1; fill:none\" points=\"\n",
       "  241.52,137.361 271.655,137.361 \n",
       "  \"/>\n",
       "<path clip-path=\"url(#clip600)\" d=\"M 0 0 M121.279 1691.16 L137.599 1691.16 L137.599 1695.09 L115.654 1695.09 L115.654 1691.16 Q118.316 1688.4 122.9 1683.77 Q127.506 1679.12 128.687 1677.78 Q130.932 1675.26 131.812 1673.52 Q132.715 1671.76 132.715 1670.07 Q132.715 1667.32 130.77 1665.58 Q128.849 1663.84 125.747 1663.84 Q123.548 1663.84 121.094 1664.61 Q118.664 1665.37 115.886 1666.92 L115.886 1662.2 Q118.71 1661.07 121.164 1660.49 Q123.617 1659.91 125.654 1659.91 Q131.025 1659.91 134.219 1662.59 Q137.414 1665.28 137.414 1669.77 Q137.414 1671.9 136.603 1673.82 Q135.816 1675.72 133.71 1678.31 Q133.131 1678.98 130.029 1682.2 Q126.928 1685.39 121.279 1691.16 Z\" fill=\"#000000\" fill-rule=\"evenodd\" fill-opacity=\"1\" /><path clip-path=\"url(#clip600)\" d=\"M 0 0 M147.46 1660.53 L165.816 1660.53 L165.816 1664.47 L151.742 1664.47 L151.742 1672.94 Q152.761 1672.59 153.779 1672.43 Q154.798 1672.25 155.816 1672.25 Q161.603 1672.25 164.983 1675.42 Q168.362 1678.59 168.362 1684.01 Q168.362 1689.58 164.89 1692.69 Q161.418 1695.77 155.099 1695.77 Q152.923 1695.77 150.654 1695.39 Q148.409 1695.02 146.002 1694.28 L146.002 1689.58 Q148.085 1690.72 150.307 1691.27 Q152.529 1691.83 155.006 1691.83 Q159.011 1691.83 161.349 1689.72 Q163.687 1687.62 163.687 1684.01 Q163.687 1680.39 161.349 1678.29 Q159.011 1676.18 155.006 1676.18 Q153.131 1676.18 151.256 1676.6 Q149.404 1677.02 147.46 1677.89 L147.46 1660.53 Z\" fill=\"#000000\" fill-rule=\"evenodd\" fill-opacity=\"1\" /><path clip-path=\"url(#clip600)\" d=\"M 0 0 M187.575 1663.61 Q183.964 1663.61 182.136 1667.18 Q180.33 1670.72 180.33 1677.85 Q180.33 1684.96 182.136 1688.52 Q183.964 1692.06 187.575 1692.06 Q191.21 1692.06 193.015 1688.52 Q194.844 1684.96 194.844 1677.85 Q194.844 1670.72 193.015 1667.18 Q191.21 1663.61 187.575 1663.61 M187.575 1659.91 Q193.386 1659.91 196.441 1664.52 Q199.52 1669.1 199.52 1677.85 Q199.52 1686.58 196.441 1691.18 Q193.386 1695.77 187.575 1695.77 Q181.765 1695.77 178.687 1691.18 Q175.631 1686.58 175.631 1677.85 Q175.631 1669.1 178.687 1664.52 Q181.765 1659.91 187.575 1659.91 Z\" fill=\"#000000\" fill-rule=\"evenodd\" fill-opacity=\"1\" /><path clip-path=\"url(#clip600)\" d=\"M 0 0 M122.275 1383.07 L138.594 1383.07 L138.594 1387 L116.65 1387 L116.65 1383.07 Q119.312 1380.31 123.895 1375.68 Q128.502 1371.03 129.682 1369.69 Q131.928 1367.17 132.807 1365.43 Q133.71 1363.67 133.71 1361.98 Q133.71 1359.23 131.765 1357.49 Q129.844 1355.75 126.742 1355.75 Q124.543 1355.75 122.09 1356.52 Q119.659 1357.28 116.881 1358.83 L116.881 1354.11 Q119.705 1352.98 122.159 1352.4 Q124.613 1351.82 126.65 1351.82 Q132.02 1351.82 135.215 1354.5 Q138.409 1357.19 138.409 1361.68 Q138.409 1363.81 137.599 1365.73 Q136.812 1367.63 134.705 1370.22 Q134.127 1370.89 131.025 1374.11 Q127.923 1377.3 122.275 1383.07 Z\" fill=\"#000000\" fill-rule=\"evenodd\" fill-opacity=\"1\" /><path clip-path=\"url(#clip600)\" d=\"M 0 0 M147.228 1352.44 L169.45 1352.44 L169.45 1354.43 L156.904 1387 L152.02 1387 L163.825 1356.38 L147.228 1356.38 L147.228 1352.44 Z\" fill=\"#000000\" fill-rule=\"evenodd\" fill-opacity=\"1\" /><path clip-path=\"url(#clip600)\" d=\"M 0 0 M178.617 1352.44 L196.973 1352.44 L196.973 1356.38 L182.899 1356.38 L182.899 1364.85 Q183.918 1364.5 184.936 1364.34 Q185.955 1364.16 186.974 1364.16 Q192.761 1364.16 196.14 1367.33 Q199.52 1370.5 199.52 1375.92 Q199.52 1381.49 196.048 1384.6 Q192.575 1387.67 186.256 1387.67 Q184.08 1387.67 181.811 1387.3 Q179.566 1386.93 177.159 1386.19 L177.159 1381.49 Q179.242 1382.63 181.464 1383.18 Q183.686 1383.74 186.163 1383.74 Q190.168 1383.74 192.506 1381.63 Q194.844 1379.53 194.844 1375.92 Q194.844 1372.3 192.506 1370.2 Q190.168 1368.09 186.163 1368.09 Q184.288 1368.09 182.413 1368.51 Q180.562 1368.92 178.617 1369.8 L178.617 1352.44 Z\" fill=\"#000000\" fill-rule=\"evenodd\" fill-opacity=\"1\" /><path clip-path=\"url(#clip600)\" d=\"M 0 0 M131.418 1060.28 Q134.775 1061 136.65 1063.26 Q138.548 1065.53 138.548 1068.87 Q138.548 1073.98 135.029 1076.78 Q131.511 1079.58 125.029 1079.58 Q122.853 1079.58 120.539 1079.14 Q118.247 1078.73 115.793 1077.87 L115.793 1073.36 Q117.738 1074.49 120.053 1075.07 Q122.367 1075.65 124.891 1075.65 Q129.289 1075.65 131.58 1073.91 Q133.895 1072.18 133.895 1068.87 Q133.895 1065.81 131.742 1064.1 Q129.613 1062.36 125.793 1062.36 L121.766 1062.36 L121.766 1058.52 L125.978 1058.52 Q129.428 1058.52 131.256 1057.15 Q133.085 1055.76 133.085 1053.17 Q133.085 1050.51 131.187 1049.1 Q129.312 1047.66 125.793 1047.66 Q123.872 1047.66 121.673 1048.08 Q119.474 1048.5 116.835 1049.38 L116.835 1045.21 Q119.497 1044.47 121.812 1044.1 Q124.15 1043.73 126.21 1043.73 Q131.534 1043.73 134.636 1046.16 Q137.738 1048.57 137.738 1052.69 Q137.738 1055.56 136.094 1057.55 Q134.451 1059.51 131.418 1060.28 Z\" fill=\"#000000\" fill-rule=\"evenodd\" fill-opacity=\"1\" /><path clip-path=\"url(#clip600)\" d=\"M 0 0 M157.413 1047.43 Q153.802 1047.43 151.974 1051 Q150.168 1054.54 150.168 1061.67 Q150.168 1068.77 151.974 1072.34 Q153.802 1075.88 157.413 1075.88 Q161.048 1075.88 162.853 1072.34 Q164.682 1068.77 164.682 1061.67 Q164.682 1054.54 162.853 1051 Q161.048 1047.43 157.413 1047.43 M157.413 1043.73 Q163.224 1043.73 166.279 1048.33 Q169.358 1052.92 169.358 1061.67 Q169.358 1070.39 166.279 1075 Q163.224 1079.58 157.413 1079.58 Q151.603 1079.58 148.525 1075 Q145.469 1070.39 145.469 1061.67 Q145.469 1052.92 148.525 1048.33 Q151.603 1043.73 157.413 1043.73 Z\" fill=\"#000000\" fill-rule=\"evenodd\" fill-opacity=\"1\" /><path clip-path=\"url(#clip600)\" d=\"M 0 0 M187.575 1047.43 Q183.964 1047.43 182.136 1051 Q180.33 1054.54 180.33 1061.67 Q180.33 1068.77 182.136 1072.34 Q183.964 1075.88 187.575 1075.88 Q191.21 1075.88 193.015 1072.34 Q194.844 1068.77 194.844 1061.67 Q194.844 1054.54 193.015 1051 Q191.21 1047.43 187.575 1047.43 M187.575 1043.73 Q193.386 1043.73 196.441 1048.33 Q199.52 1052.92 199.52 1061.67 Q199.52 1070.39 196.441 1075 Q193.386 1079.58 187.575 1079.58 Q181.765 1079.58 178.687 1075 Q175.631 1070.39 175.631 1061.67 Q175.631 1052.92 178.687 1048.33 Q181.765 1043.73 187.575 1043.73 Z\" fill=\"#000000\" fill-rule=\"evenodd\" fill-opacity=\"1\" /><path clip-path=\"url(#clip600)\" d=\"M 0 0 M132.414 752.188 Q135.77 752.906 137.645 755.174 Q139.543 757.443 139.543 760.776 Q139.543 765.892 136.025 768.693 Q132.506 771.494 126.025 771.494 Q123.849 771.494 121.534 771.054 Q119.242 770.637 116.789 769.781 L116.789 765.267 Q118.733 766.401 121.048 766.98 Q123.363 767.559 125.886 767.559 Q130.284 767.559 132.576 765.822 Q134.89 764.086 134.89 760.776 Q134.89 757.721 132.738 756.008 Q130.608 754.272 126.789 754.272 L122.761 754.272 L122.761 750.429 L126.974 750.429 Q130.423 750.429 132.252 749.063 Q134.08 747.674 134.08 745.082 Q134.08 742.42 132.182 741.008 Q130.307 739.573 126.789 739.573 Q124.867 739.573 122.668 739.989 Q120.469 740.406 117.83 741.286 L117.83 737.119 Q120.492 736.378 122.807 736.008 Q125.145 735.637 127.205 735.637 Q132.529 735.637 135.631 738.068 Q138.733 740.475 138.733 744.596 Q138.733 747.466 137.09 749.457 Q135.446 751.424 132.414 752.188 Z\" fill=\"#000000\" fill-rule=\"evenodd\" fill-opacity=\"1\" /><path clip-path=\"url(#clip600)\" d=\"M 0 0 M152.437 766.887 L168.756 766.887 L168.756 770.822 L146.812 770.822 L146.812 766.887 Q149.474 764.133 154.057 759.503 Q158.663 754.85 159.844 753.508 Q162.089 750.985 162.969 749.248 Q163.872 747.489 163.872 745.799 Q163.872 743.045 161.927 741.309 Q160.006 739.573 156.904 739.573 Q154.705 739.573 152.251 740.336 Q149.821 741.1 147.043 742.651 L147.043 737.929 Q149.867 736.795 152.321 736.216 Q154.775 735.637 156.812 735.637 Q162.182 735.637 165.376 738.323 Q168.571 741.008 168.571 745.498 Q168.571 747.628 167.761 749.549 Q166.974 751.448 164.867 754.04 Q164.288 754.711 161.187 757.929 Q158.085 761.123 152.437 766.887 Z\" fill=\"#000000\" fill-rule=\"evenodd\" fill-opacity=\"1\" /><path clip-path=\"url(#clip600)\" d=\"M 0 0 M178.617 736.262 L196.973 736.262 L196.973 740.198 L182.899 740.198 L182.899 748.67 Q183.918 748.323 184.936 748.161 Q185.955 747.975 186.974 747.975 Q192.761 747.975 196.14 751.147 Q199.52 754.318 199.52 759.735 Q199.52 765.313 196.048 768.415 Q192.575 771.494 186.256 771.494 Q184.08 771.494 181.811 771.123 Q179.566 770.753 177.159 770.012 L177.159 765.313 Q179.242 766.447 181.464 767.003 Q183.686 767.559 186.163 767.559 Q190.168 767.559 192.506 765.452 Q194.844 763.346 194.844 759.735 Q194.844 756.123 192.506 754.017 Q190.168 751.91 186.163 751.91 Q184.288 751.91 182.413 752.327 Q180.562 752.744 178.617 753.623 L178.617 736.262 Z\" fill=\"#000000\" fill-rule=\"evenodd\" fill-opacity=\"1\" /><path clip-path=\"url(#clip600)\" d=\"M 0 0 M131.418 444.098 Q134.775 444.815 136.65 447.084 Q138.548 449.352 138.548 452.686 Q138.548 457.801 135.029 460.602 Q131.511 463.403 125.029 463.403 Q122.853 463.403 120.539 462.963 Q118.247 462.547 115.793 461.69 L115.793 457.176 Q117.738 458.311 120.053 458.889 Q122.367 459.468 124.891 459.468 Q129.289 459.468 131.58 457.732 Q133.895 455.996 133.895 452.686 Q133.895 449.63 131.742 447.917 Q129.613 446.181 125.793 446.181 L121.766 446.181 L121.766 442.339 L125.978 442.339 Q129.428 442.339 131.256 440.973 Q133.085 439.584 133.085 436.991 Q133.085 434.329 131.187 432.917 Q129.312 431.482 125.793 431.482 Q123.872 431.482 121.673 431.899 Q119.474 432.315 116.835 433.195 L116.835 429.028 Q119.497 428.288 121.812 427.917 Q124.15 427.547 126.21 427.547 Q131.534 427.547 134.636 429.977 Q137.738 432.385 137.738 436.505 Q137.738 439.376 136.094 441.366 Q134.451 443.334 131.418 444.098 Z\" fill=\"#000000\" fill-rule=\"evenodd\" fill-opacity=\"1\" /><path clip-path=\"url(#clip600)\" d=\"M 0 0 M147.46 428.172 L165.816 428.172 L165.816 432.107 L151.742 432.107 L151.742 440.579 Q152.761 440.232 153.779 440.07 Q154.798 439.885 155.816 439.885 Q161.603 439.885 164.983 443.056 Q168.362 446.227 168.362 451.644 Q168.362 457.223 164.89 460.325 Q161.418 463.403 155.099 463.403 Q152.923 463.403 150.654 463.033 Q148.409 462.662 146.002 461.922 L146.002 457.223 Q148.085 458.357 150.307 458.912 Q152.529 459.468 155.006 459.468 Q159.011 459.468 161.349 457.362 Q163.687 455.255 163.687 451.644 Q163.687 448.033 161.349 445.926 Q159.011 443.82 155.006 443.82 Q153.131 443.82 151.256 444.237 Q149.404 444.653 147.46 445.533 L147.46 428.172 Z\" fill=\"#000000\" fill-rule=\"evenodd\" fill-opacity=\"1\" /><path clip-path=\"url(#clip600)\" d=\"M 0 0 M187.575 431.251 Q183.964 431.251 182.136 434.815 Q180.33 438.357 180.33 445.487 Q180.33 452.593 182.136 456.158 Q183.964 459.7 187.575 459.7 Q191.21 459.7 193.015 456.158 Q194.844 452.593 194.844 445.487 Q194.844 438.357 193.015 434.815 Q191.21 431.251 187.575 431.251 M187.575 427.547 Q193.386 427.547 196.441 432.153 Q199.52 436.737 199.52 445.487 Q199.52 454.213 196.441 458.82 Q193.386 463.403 187.575 463.403 Q181.765 463.403 178.687 458.82 Q175.631 454.213 175.631 445.487 Q175.631 436.737 178.687 432.153 Q181.765 427.547 187.575 427.547 Z\" fill=\"#000000\" fill-rule=\"evenodd\" fill-opacity=\"1\" /><path clip-path=\"url(#clip600)\" d=\"M 0 0 M132.414 136.007 Q135.77 136.725 137.645 138.993 Q139.543 141.262 139.543 144.595 Q139.543 149.711 136.025 152.512 Q132.506 155.313 126.025 155.313 Q123.849 155.313 121.534 154.873 Q119.242 154.456 116.789 153.6 L116.789 149.086 Q118.733 150.22 121.048 150.799 Q123.363 151.378 125.886 151.378 Q130.284 151.378 132.576 149.641 Q134.89 147.905 134.89 144.595 Q134.89 141.54 132.738 139.827 Q130.608 138.091 126.789 138.091 L122.761 138.091 L122.761 134.248 L126.974 134.248 Q130.423 134.248 132.252 132.882 Q134.08 131.493 134.08 128.901 Q134.08 126.239 132.182 124.827 Q130.307 123.392 126.789 123.392 Q124.867 123.392 122.668 123.808 Q120.469 124.225 117.83 125.105 L117.83 120.938 Q120.492 120.197 122.807 119.827 Q125.145 119.456 127.205 119.456 Q132.529 119.456 135.631 121.887 Q138.733 124.294 138.733 128.415 Q138.733 131.285 137.09 133.276 Q135.446 135.243 132.414 136.007 Z\" fill=\"#000000\" fill-rule=\"evenodd\" fill-opacity=\"1\" /><path clip-path=\"url(#clip600)\" d=\"M 0 0 M147.228 120.081 L169.45 120.081 L169.45 122.072 L156.904 154.641 L152.02 154.641 L163.825 124.017 L147.228 124.017 L147.228 120.081 Z\" fill=\"#000000\" fill-rule=\"evenodd\" fill-opacity=\"1\" /><path clip-path=\"url(#clip600)\" d=\"M 0 0 M178.617 120.081 L196.973 120.081 L196.973 124.017 L182.899 124.017 L182.899 132.489 Q183.918 132.142 184.936 131.98 Q185.955 131.794 186.974 131.794 Q192.761 131.794 196.14 134.966 Q199.52 138.137 199.52 143.554 Q199.52 149.132 196.048 152.234 Q192.575 155.313 186.256 155.313 Q184.08 155.313 181.811 154.942 Q179.566 154.572 177.159 153.831 L177.159 149.132 Q179.242 150.266 181.464 150.822 Q183.686 151.378 186.163 151.378 Q190.168 151.378 192.506 149.271 Q194.844 147.165 194.844 143.554 Q194.844 139.942 192.506 137.836 Q190.168 135.729 186.163 135.729 Q184.288 135.729 182.413 136.146 Q180.562 136.563 178.617 137.442 L178.617 120.081 Z\" fill=\"#000000\" fill-rule=\"evenodd\" fill-opacity=\"1\" /><path clip-path=\"url(#clip600)\" d=\"M 0 0 M29.1613 1390.19 L9.87325 1390.19 L9.87325 1384.33 L59.3984 1384.33 L59.3984 1390.19 L54.0512 1390.19 Q57.2341 1392.03 58.7937 1394.87 Q60.3215 1397.67 60.3215 1401.61 Q60.3215 1408.07 55.1652 1412.15 Q50.009 1416.19 41.6063 1416.19 Q33.2036 1416.19 28.0473 1412.15 Q22.8911 1408.07 22.8911 1401.61 Q22.8911 1397.67 24.4507 1394.87 Q25.9785 1392.03 29.1613 1390.19 M41.6063 1410.14 Q48.0675 1410.14 51.7596 1407.5 Q55.4199 1404.83 55.4199 1400.18 Q55.4199 1395.53 51.7596 1392.86 Q48.0675 1390.19 41.6063 1390.19 Q35.1451 1390.19 31.4848 1392.86 Q27.7927 1395.53 27.7927 1400.18 Q27.7927 1404.83 31.4848 1407.5 Q35.1451 1410.14 41.6063 1410.14 Z\" fill=\"#000000\" fill-rule=\"evenodd\" fill-opacity=\"1\" /><path clip-path=\"url(#clip600)\" d=\"M 0 0 M40.1104 1341.78 L42.9749 1341.78 L42.9749 1368.7 Q49.0223 1368.32 52.2052 1365.07 Q55.3562 1361.8 55.3562 1355.97 Q55.3562 1352.6 54.5287 1349.45 Q53.7011 1346.26 52.0461 1343.14 L57.5842 1343.14 Q58.921 1346.3 59.6212 1349.61 Q60.3215 1352.92 60.3215 1356.32 Q60.3215 1364.85 55.3562 1369.85 Q50.391 1374.81 41.9246 1374.81 Q33.1717 1374.81 28.0473 1370.1 Q22.8911 1365.36 22.8911 1357.34 Q22.8911 1350.15 27.5381 1345.98 Q32.1532 1341.78 40.1104 1341.78 M38.3916 1347.63 Q33.5855 1347.7 30.7209 1350.34 Q27.8564 1352.95 27.8564 1357.28 Q27.8564 1362.18 30.6254 1365.14 Q33.3945 1368.07 38.4234 1368.51 L38.3916 1347.63 Z\" fill=\"#000000\" fill-rule=\"evenodd\" fill-opacity=\"1\" /><path clip-path=\"url(#clip600)\" d=\"M 0 0 M30.5936 1304.41 Q26.6469 1302.21 24.769 1299.16 Q22.8911 1296.1 22.8911 1291.96 Q22.8911 1286.39 26.806 1283.37 Q30.6891 1280.35 37.8824 1280.35 L59.3984 1280.35 L59.3984 1286.23 L38.0733 1286.23 Q32.9489 1286.23 30.4663 1288.05 Q27.9837 1289.86 27.9837 1293.59 Q27.9837 1298.14 31.0074 1300.78 Q34.0311 1303.42 39.251 1303.42 L59.3984 1303.42 L59.3984 1309.31 L38.0733 1309.31 Q32.9171 1309.31 30.4663 1311.12 Q27.9837 1312.94 27.9837 1316.73 Q27.9837 1321.21 31.0392 1323.86 Q34.0629 1326.5 39.251 1326.5 L59.3984 1326.5 L59.3984 1332.39 L23.7505 1332.39 L23.7505 1326.5 L29.2887 1326.5 Q26.0103 1324.49 24.4507 1321.69 Q22.8911 1318.89 22.8911 1315.04 Q22.8911 1311.16 24.8645 1308.45 Q26.8379 1305.71 30.5936 1304.41 Z\" fill=\"#000000\" fill-rule=\"evenodd\" fill-opacity=\"1\" /><path clip-path=\"url(#clip600)\" d=\"M 0 0 M41.479 1252.46 Q41.479 1259.56 43.1022 1262.3 Q44.7255 1265.04 48.6404 1265.04 Q51.7596 1265.04 53.6057 1263 Q55.4199 1260.93 55.4199 1257.4 Q55.4199 1252.53 51.9824 1249.6 Q48.5131 1246.64 42.7839 1246.64 L41.479 1246.64 L41.479 1252.46 M39.06 1240.78 L59.3984 1240.78 L59.3984 1246.64 L53.9876 1246.64 Q57.2341 1248.65 58.7937 1251.64 Q60.3215 1254.63 60.3215 1258.96 Q60.3215 1264.43 57.2659 1267.68 Q54.1786 1270.89 49.0223 1270.89 Q43.0067 1270.89 39.9512 1266.88 Q36.8957 1262.84 36.8957 1254.85 L36.8957 1246.64 L36.3228 1246.64 Q32.2805 1246.64 30.0844 1249.31 Q27.8564 1251.96 27.8564 1256.76 Q27.8564 1259.82 28.5884 1262.71 Q29.3205 1265.61 30.7846 1268.28 L25.3737 1268.28 Q24.1324 1265.07 23.5277 1262.05 Q22.8911 1259.02 22.8911 1256.16 Q22.8911 1248.42 26.9015 1244.6 Q30.9119 1240.78 39.06 1240.78 Z\" fill=\"#000000\" fill-rule=\"evenodd\" fill-opacity=\"1\" /><path clip-path=\"url(#clip600)\" d=\"M 0 0 M37.8824 1199.09 L59.3984 1199.09 L59.3984 1204.94 L38.0733 1204.94 Q33.0126 1204.94 30.4981 1206.92 Q27.9837 1208.89 27.9837 1212.84 Q27.9837 1217.58 31.0074 1220.32 Q34.0311 1223.06 39.251 1223.06 L59.3984 1223.06 L59.3984 1228.94 L23.7505 1228.94 L23.7505 1223.06 L29.2887 1223.06 Q26.074 1220.95 24.4825 1218.12 Q22.8911 1215.26 22.8911 1211.53 Q22.8911 1205.39 26.7105 1202.24 Q30.4981 1199.09 37.8824 1199.09 Z\" fill=\"#000000\" fill-rule=\"evenodd\" fill-opacity=\"1\" /><path clip-path=\"url(#clip600)\" d=\"M 0 0 M29.1613 1163.95 L9.87325 1163.95 L9.87325 1158.09 L59.3984 1158.09 L59.3984 1163.95 L54.0512 1163.95 Q57.2341 1165.8 58.7937 1168.63 Q60.3215 1171.43 60.3215 1175.38 Q60.3215 1181.84 55.1652 1185.91 Q50.009 1189.95 41.6063 1189.95 Q33.2036 1189.95 28.0473 1185.91 Q22.8911 1181.84 22.8911 1175.38 Q22.8911 1171.43 24.4507 1168.63 Q25.9785 1165.8 29.1613 1163.95 M41.6063 1183.91 Q48.0675 1183.91 51.7596 1181.26 Q55.4199 1178.59 55.4199 1173.94 Q55.4199 1169.3 51.7596 1166.62 Q48.0675 1163.95 41.6063 1163.95 Q35.1451 1163.95 31.4848 1166.62 Q27.7927 1169.3 27.7927 1173.94 Q27.7927 1178.59 31.4848 1181.26 Q35.1451 1183.91 41.6063 1183.91 Z\" fill=\"#000000\" fill-rule=\"evenodd\" fill-opacity=\"1\" /><path clip-path=\"url(#clip600)\" d=\"M 0 0 M9.9369 1111.24 Q17.2575 1115.51 24.4189 1117.58 Q31.5803 1119.64 38.9327 1119.64 Q46.2851 1119.64 53.5102 1117.58 Q60.7034 1115.47 67.9921 1111.24 L67.9921 1116.33 Q60.5124 1121.11 53.2874 1123.5 Q46.0623 1125.85 38.9327 1125.85 Q31.8349 1125.85 24.6417 1123.5 Q17.4484 1121.14 9.9369 1116.33 L9.9369 1111.24 Z\" fill=\"#000000\" fill-rule=\"evenodd\" fill-opacity=\"1\" /><path clip-path=\"url(#clip600)\" d=\"M 0 0 M37.8824 1070.25 L59.3984 1070.25 L59.3984 1076.1 L38.0733 1076.1 Q33.0126 1076.1 30.4981 1078.08 Q27.9837 1080.05 27.9837 1084 Q27.9837 1088.74 31.0074 1091.48 Q34.0311 1094.21 39.251 1094.21 L59.3984 1094.21 L59.3984 1100.1 L23.7505 1100.1 L23.7505 1094.21 L29.2887 1094.21 Q26.074 1092.11 24.4825 1089.28 Q22.8911 1086.42 22.8911 1082.69 Q22.8911 1076.55 26.7105 1073.4 Q30.4981 1070.25 37.8824 1070.25 Z\" fill=\"#000000\" fill-rule=\"evenodd\" fill-opacity=\"1\" /><path clip-path=\"url(#clip600)\" d=\"M 0 0 M45.3302 1059.17 L23.7505 1059.17 L23.7505 1053.31 L45.1074 1053.31 Q50.1682 1053.31 52.7145 1051.34 Q55.2289 1049.37 55.2289 1045.42 Q55.2289 1040.68 52.2052 1037.94 Q49.1815 1035.17 43.9616 1035.17 L23.7505 1035.17 L23.7505 1029.32 L59.3984 1029.32 L59.3984 1035.17 L53.9239 1035.17 Q57.1704 1037.3 58.7619 1040.14 Q60.3215 1042.94 60.3215 1046.66 Q60.3215 1052.8 56.502 1055.99 Q52.6826 1059.17 45.3302 1059.17 M22.8911 1044.43 L22.8911 1044.43 Z\" fill=\"#000000\" fill-rule=\"evenodd\" fill-opacity=\"1\" /><path clip-path=\"url(#clip600)\" d=\"M 0 0 M30.5936 989.498 Q26.6469 987.301 24.769 984.246 Q22.8911 981.19 22.8911 977.053 Q22.8911 971.483 26.806 968.459 Q30.6891 965.435 37.8824 965.435 L59.3984 965.435 L59.3984 971.323 L38.0733 971.323 Q32.9489 971.323 30.4663 973.138 Q27.9837 974.952 27.9837 978.676 Q27.9837 983.227 31.0074 985.869 Q34.0311 988.511 39.251 988.511 L59.3984 988.511 L59.3984 994.399 L38.0733 994.399 Q32.9171 994.399 30.4663 996.213 Q27.9837 998.028 27.9837 1001.82 Q27.9837 1006.3 31.0392 1008.94 Q34.0629 1011.59 39.251 1011.59 L59.3984 1011.59 L59.3984 1017.47 L23.7505 1017.47 L23.7505 1011.59 L29.2887 1011.59 Q26.0103 1009.58 24.4507 1006.78 Q22.8911 1003.98 22.8911 1000.13 Q22.8911 996.245 24.8645 993.54 Q26.8379 990.802 30.5936 989.498 Z\" fill=\"#000000\" fill-rule=\"evenodd\" fill-opacity=\"1\" /><path clip-path=\"url(#clip600)\" d=\"M 0 0 M41.6063 928.164 Q35.1451 928.164 31.4848 930.838 Q27.7927 933.479 27.7927 938.126 Q27.7927 942.773 31.4848 945.447 Q35.1451 948.089 41.6063 948.089 Q48.0675 948.089 51.7596 945.447 Q55.4199 942.773 55.4199 938.126 Q55.4199 933.479 51.7596 930.838 Q48.0675 928.164 41.6063 928.164 M29.1613 948.089 Q25.9785 946.243 24.4507 943.442 Q22.8911 940.609 22.8911 936.694 Q22.8911 930.201 28.0473 926.159 Q33.2036 922.085 41.6063 922.085 Q50.009 922.085 55.1652 926.159 Q60.3215 930.201 60.3215 936.694 Q60.3215 940.609 58.7937 943.442 Q57.2341 946.243 54.0512 948.089 L59.3984 948.089 L59.3984 953.977 L9.87325 953.977 L9.87325 948.089 L29.1613 948.089 Z\" fill=\"#000000\" fill-rule=\"evenodd\" fill-opacity=\"1\" /><path clip-path=\"url(#clip600)\" d=\"M 0 0 M40.1104 881.885 L42.9749 881.885 L42.9749 908.812 Q49.0223 908.43 52.2052 905.184 Q55.3562 901.905 55.3562 896.081 Q55.3562 892.707 54.5287 889.556 Q53.7011 886.373 52.0461 883.254 L57.5842 883.254 Q58.921 886.405 59.6212 889.715 Q60.3215 893.025 60.3215 896.431 Q60.3215 904.961 55.3562 909.958 Q50.391 914.923 41.9246 914.923 Q33.1717 914.923 28.0473 910.213 Q22.8911 905.47 22.8911 897.449 Q22.8911 890.256 27.5381 886.087 Q32.1532 881.885 40.1104 881.885 M38.3916 887.742 Q33.5855 887.805 30.7209 890.447 Q27.8564 893.057 27.8564 897.386 Q27.8564 902.287 30.6254 905.247 Q33.3945 908.176 38.4234 908.621 L38.3916 887.742 Z\" fill=\"#000000\" fill-rule=\"evenodd\" fill-opacity=\"1\" /><path clip-path=\"url(#clip600)\" d=\"M 0 0 M29.225 851.616 Q28.6521 852.603 28.3975 853.781 Q28.111 854.926 28.111 856.327 Q28.111 861.292 31.3575 863.966 Q34.5722 866.608 40.6196 866.608 L59.3984 866.608 L59.3984 872.496 L23.7505 872.496 L23.7505 866.608 L29.2887 866.608 Q26.0421 864.762 24.4825 861.801 Q22.8911 858.841 22.8911 854.608 Q22.8911 854.003 22.9866 853.271 Q23.0503 852.539 23.2094 851.648 L29.225 851.616 Z\" fill=\"#000000\" fill-rule=\"evenodd\" fill-opacity=\"1\" /><path clip-path=\"url(#clip600)\" d=\"M 0 0 M27.8564 810.939 Q27.8564 815.65 31.5485 818.387 Q35.2088 821.125 41.6063 821.125 Q48.0038 821.125 51.6959 818.419 Q55.3562 815.682 55.3562 810.939 Q55.3562 806.261 51.6641 803.523 Q47.972 800.786 41.6063 800.786 Q35.2724 800.786 31.5803 803.523 Q27.8564 806.261 27.8564 810.939 M22.8911 810.939 Q22.8911 803.301 27.8564 798.94 Q32.8216 794.58 41.6063 794.58 Q50.3591 794.58 55.3562 798.94 Q60.3215 803.301 60.3215 810.939 Q60.3215 818.61 55.3562 822.971 Q50.3591 827.299 41.6063 827.299 Q32.8216 827.299 27.8564 822.971 Q22.8911 818.61 22.8911 810.939 Z\" fill=\"#000000\" fill-rule=\"evenodd\" fill-opacity=\"1\" /><path clip-path=\"url(#clip600)\" d=\"M 0 0 M9.87325 766.825 L14.743 766.825 L14.743 772.427 Q14.743 775.578 16.0162 776.819 Q17.2893 778.029 20.5995 778.029 L23.7505 778.029 L23.7505 768.385 L28.302 768.385 L28.302 778.029 L59.3984 778.029 L59.3984 783.917 L28.302 783.917 L28.302 789.519 L23.7505 789.519 L23.7505 783.917 L21.2679 783.917 Q15.3159 783.917 12.6105 781.148 Q9.87325 778.379 9.87325 772.363 L9.87325 766.825 Z\" fill=\"#000000\" fill-rule=\"evenodd\" fill-opacity=\"1\" /><path clip-path=\"url(#clip600)\" d=\"M 0 0 M24.8008 718.478 L30.339 718.478 Q29.0659 720.96 28.4293 723.634 Q27.7927 726.307 27.7927 729.172 Q27.7927 733.532 29.1295 735.729 Q30.4663 737.893 33.1399 737.893 Q35.1769 737.893 36.3546 736.333 Q37.5004 734.774 38.5508 730.063 L38.9964 728.058 Q40.3332 721.82 42.7839 719.21 Q45.2029 716.568 49.5634 716.568 Q54.5287 716.568 57.4251 720.515 Q60.3215 724.43 60.3215 731.304 Q60.3215 734.169 59.7486 737.288 Q59.2075 740.376 58.0935 743.813 L52.0461 743.813 Q53.733 740.567 54.5923 737.416 Q55.4199 734.265 55.4199 731.177 Q55.4199 727.039 54.0194 724.811 Q52.5871 722.583 50.009 722.583 Q47.6219 722.583 46.3487 724.207 Q45.0756 725.798 43.8979 731.241 L43.4205 733.278 Q42.2747 738.721 39.9194 741.139 Q37.5322 743.558 33.3945 743.558 Q28.3656 743.558 25.6284 739.994 Q22.8911 736.429 22.8911 729.872 Q22.8911 726.626 23.3685 723.761 Q23.846 720.897 24.8008 718.478 Z\" fill=\"#000000\" fill-rule=\"evenodd\" fill-opacity=\"1\" /><path clip-path=\"url(#clip600)\" d=\"M 0 0 M13.629 701.449 L23.7505 701.449 L23.7505 689.386 L28.302 689.386 L28.302 701.449 L47.6537 701.449 Q52.0142 701.449 53.2555 700.272 Q54.4968 699.062 54.4968 695.402 L54.4968 689.386 L59.3984 689.386 L59.3984 695.402 Q59.3984 702.181 56.884 704.759 Q54.3377 707.338 47.6537 707.338 L28.302 707.338 L28.302 711.634 L23.7505 711.634 L23.7505 707.338 L13.629 707.338 L13.629 701.449 Z\" fill=\"#000000\" fill-rule=\"evenodd\" fill-opacity=\"1\" /><path clip-path=\"url(#clip600)\" d=\"M 0 0 M45.3302 682.289 L23.7505 682.289 L23.7505 676.432 L45.1074 676.432 Q50.1682 676.432 52.7145 674.459 Q55.2289 672.485 55.2289 668.539 Q55.2289 663.796 52.2052 661.059 Q49.1815 658.29 43.9616 658.29 L23.7505 658.29 L23.7505 652.433 L59.3984 652.433 L59.3984 658.29 L53.9239 658.29 Q57.1704 660.422 58.7619 663.255 Q60.3215 666.056 60.3215 669.78 Q60.3215 675.923 56.502 679.106 Q52.6826 682.289 45.3302 682.289 M22.8911 667.552 L22.8911 667.552 Z\" fill=\"#000000\" fill-rule=\"evenodd\" fill-opacity=\"1\" /><path clip-path=\"url(#clip600)\" d=\"M 0 0 M29.1613 616.913 L9.87325 616.913 L9.87325 611.056 L59.3984 611.056 L59.3984 616.913 L54.0512 616.913 Q57.2341 618.759 58.7937 621.592 Q60.3215 624.392 60.3215 628.339 Q60.3215 634.8 55.1652 638.874 Q50.009 642.917 41.6063 642.917 Q33.2036 642.917 28.0473 638.874 Q22.8911 634.8 22.8911 628.339 Q22.8911 624.392 24.4507 621.592 Q25.9785 618.759 29.1613 616.913 M41.6063 636.869 Q48.0675 636.869 51.7596 634.227 Q55.4199 631.554 55.4199 626.907 Q55.4199 622.26 51.7596 619.586 Q48.0675 616.913 41.6063 616.913 Q35.1451 616.913 31.4848 619.586 Q27.7927 622.26 27.7927 626.907 Q27.7927 631.554 31.4848 634.227 Q35.1451 636.869 41.6063 636.869 Z\" fill=\"#000000\" fill-rule=\"evenodd\" fill-opacity=\"1\" /><path clip-path=\"url(#clip600)\" d=\"M 0 0 M40.1104 568.502 L42.9749 568.502 L42.9749 595.428 Q49.0223 595.047 52.2052 591.8 Q55.3562 588.522 55.3562 582.697 Q55.3562 579.323 54.5287 576.172 Q53.7011 572.989 52.0461 569.87 L57.5842 569.87 Q58.921 573.021 59.6212 576.331 Q60.3215 579.642 60.3215 583.047 Q60.3215 591.577 55.3562 596.574 Q50.391 601.54 41.9246 601.54 Q33.1717 601.54 28.0473 596.829 Q22.8911 592.086 22.8911 584.066 Q22.8911 576.872 27.5381 572.703 Q32.1532 568.502 40.1104 568.502 M38.3916 574.358 Q33.5855 574.422 30.7209 577.063 Q27.8564 579.673 27.8564 584.002 Q27.8564 588.904 30.6254 591.864 Q33.3945 594.792 38.4234 595.237 L38.3916 574.358 Z\" fill=\"#000000\" fill-rule=\"evenodd\" fill-opacity=\"1\" /><path clip-path=\"url(#clip600)\" d=\"M 0 0 M37.8824 529.257 L59.3984 529.257 L59.3984 535.113 L38.0733 535.113 Q33.0126 535.113 30.4981 537.087 Q27.9837 539.06 27.9837 543.007 Q27.9837 547.749 31.0074 550.487 Q34.0311 553.224 39.251 553.224 L59.3984 553.224 L59.3984 559.112 L23.7505 559.112 L23.7505 553.224 L29.2887 553.224 Q26.074 551.123 24.4825 548.29 Q22.8911 545.426 22.8911 541.702 Q22.8911 535.559 26.7105 532.408 Q30.4981 529.257 37.8824 529.257 Z\" fill=\"#000000\" fill-rule=\"evenodd\" fill-opacity=\"1\" /><path clip-path=\"url(#clip600)\" d=\"M 0 0 M13.629 511.783 L23.7505 511.783 L23.7505 499.72 L28.302 499.72 L28.302 511.783 L47.6537 511.783 Q52.0142 511.783 53.2555 510.605 Q54.4968 509.396 54.4968 505.736 L54.4968 499.72 L59.3984 499.72 L59.3984 505.736 Q59.3984 512.515 56.884 515.093 Q54.3377 517.671 47.6537 517.671 L28.302 517.671 L28.302 521.968 L23.7505 521.968 L23.7505 517.671 L13.629 517.671 L13.629 511.783 Z\" fill=\"#000000\" fill-rule=\"evenodd\" fill-opacity=\"1\" /><path clip-path=\"url(#clip600)\" d=\"M 0 0 M24.8008 469.292 L30.339 469.292 Q29.0659 471.775 28.4293 474.448 Q27.7927 477.122 27.7927 479.986 Q27.7927 484.347 29.1295 486.543 Q30.4663 488.707 33.1399 488.707 Q35.1769 488.707 36.3546 487.148 Q37.5004 485.588 38.5508 480.878 L38.9964 478.872 Q40.3332 472.634 42.7839 470.024 Q45.2029 467.382 49.5634 467.382 Q54.5287 467.382 57.4251 471.329 Q60.3215 475.244 60.3215 482.119 Q60.3215 484.983 59.7486 488.103 Q59.2075 491.19 58.0935 494.627 L52.0461 494.627 Q53.733 491.381 54.5923 488.23 Q55.4199 485.079 55.4199 481.992 Q55.4199 477.854 54.0194 475.626 Q52.5871 473.398 50.009 473.398 Q47.6219 473.398 46.3487 475.021 Q45.0756 476.613 43.8979 482.055 L43.4205 484.092 Q42.2747 489.535 39.9194 491.954 Q37.5322 494.373 33.3945 494.373 Q28.3656 494.373 25.6284 490.808 Q22.8911 487.243 22.8911 480.687 Q22.8911 477.44 23.3685 474.576 Q23.846 471.711 24.8008 469.292 Z\" fill=\"#000000\" fill-rule=\"evenodd\" fill-opacity=\"1\" /><path clip-path=\"url(#clip600)\" d=\"M 0 0 M9.9369 458.98 L9.9369 453.887 Q17.4484 449.113 24.6417 446.757 Q31.8349 444.37 38.9327 444.37 Q46.0623 444.37 53.2874 446.757 Q60.5124 449.113 67.9921 453.887 L67.9921 458.98 Q60.7034 454.746 53.5102 452.677 Q46.2851 450.577 38.9327 450.577 Q31.5803 450.577 24.4189 452.677 Q17.2575 454.746 9.9369 458.98 Z\" fill=\"#000000\" fill-rule=\"evenodd\" fill-opacity=\"1\" /><polyline clip-path=\"url(#clip602)\" style=\"stroke:#dc143c; stroke-width:4; stroke-opacity:1; fill:none\" points=\"\n",
       "  312.592,97.2273 371.82,143.252 431.047,189.277 490.274,235.301 549.502,281.27 608.729,327.025 667.956,372.78 727.183,418.534 786.411,464.289 845.638,510.044 \n",
       "  904.865,554.194 964.092,598.331 1023.32,642.467 1082.55,686.604 1141.77,730.74 1201,774.877 1260.23,819.013 1319.46,863.15 1378.68,907.146 1437.91,949.451 \n",
       "  1497.14,991.756 1556.37,1034.06 1615.59,1076.37 1674.82,1118.65 1734.05,1159.55 1793.27,1200.45 1852.5,1239.14 1911.73,1276.58 1970.96,1314.03 2030.18,1351.47 \n",
       "  2089.41,1388.91 2148.64,1426.35 2207.87,1463.8 2267.09,1501.24 2326.32,1538.68 2385.55,1576.12 2444.77,1613.56 2504,1651.01 2563.23,1688.45 2565.9,1690.14 \n",
       "  2622.46,1725.89 2681.68,1763.33 \n",
       "  \"/>\n",
       "<polyline clip-path=\"url(#clip602)\" style=\"stroke:#dc143c; stroke-width:4; stroke-opacity:1; fill:none\" stroke-dasharray=\"2, 4\" points=\"\n",
       "  312.592,265.641 2681.68,1763.33 \n",
       "  \"/>\n",
       "<polyline clip-path=\"url(#clip602)\" style=\"stroke:#ff7f50; stroke-width:4; stroke-opacity:1; fill:none\" stroke-dasharray=\"16, 8, 2, 8\" points=\"\n",
       "  -2269.72,445.452 5263.99,445.452 \n",
       "  \"/>\n",
       "<polyline clip-path=\"url(#clip602)\" style=\"stroke:#800000; stroke-width:4; stroke-opacity:1; fill:none\" stroke-dasharray=\"16, 10\" points=\"\n",
       "  -2269.72,1690.14 5263.99,1690.14 \n",
       "  \"/>\n",
       "<path clip-path=\"url(#clip600)\" d=\"\n",
       "M1732.29 408.513 L2669.05 408.513 L2669.05 106.113 L1732.29 106.113  Z\n",
       "  \" fill=\"#ffffff\" fill-rule=\"evenodd\" fill-opacity=\"1\"/>\n",
       "<polyline clip-path=\"url(#clip600)\" style=\"stroke:#000000; stroke-width:4; stroke-opacity:1; fill:none\" points=\"\n",
       "  1732.29,408.513 2669.05,408.513 2669.05,106.113 1732.29,106.113 1732.29,408.513 \n",
       "  \"/>\n",
       "<polyline clip-path=\"url(#clip600)\" style=\"stroke:#dc143c; stroke-width:4; stroke-opacity:1; fill:none\" points=\"\n",
       "  1760.2,166.593 1927.61,166.593 \n",
       "  \"/>\n",
       "<path clip-path=\"url(#clip600)\" d=\"M 0 0 M1960.19 153.156 L1960.19 180.031 L1965.84 180.031 Q1972.99 180.031 1976.3 176.79 Q1979.64 173.549 1979.64 166.558 Q1979.64 159.614 1976.3 156.396 Q1972.99 153.156 1965.84 153.156 L1960.19 153.156 M1955.51 149.313 L1965.12 149.313 Q1975.17 149.313 1979.87 153.503 Q1984.57 157.67 1984.57 166.558 Q1984.57 175.494 1979.84 179.683 Q1975.12 183.873 1965.12 183.873 L1955.51 183.873 L1955.51 149.313 Z\" fill=\"#000000\" fill-rule=\"evenodd\" fill-opacity=\"1\" /><path clip-path=\"url(#clip600)\" d=\"M 0 0 M2014.01 169.845 L2014.01 171.929 L1994.43 171.929 Q1994.7 176.327 1997.07 178.642 Q1999.45 180.933 2003.69 180.933 Q2006.14 180.933 2008.43 180.332 Q2010.75 179.73 2013.01 178.526 L2013.01 182.554 Q2010.72 183.526 2008.32 184.035 Q2005.91 184.544 2003.43 184.544 Q1997.23 184.544 1993.59 180.933 Q1989.98 177.322 1989.98 171.165 Q1989.98 164.799 1993.41 161.072 Q1996.86 157.322 2002.69 157.322 Q2007.92 157.322 2010.95 160.702 Q2014.01 164.058 2014.01 169.845 M2009.75 168.595 Q2009.7 165.1 2007.78 163.017 Q2005.88 160.933 2002.74 160.933 Q1999.17 160.933 1997.02 162.947 Q1994.89 164.961 1994.57 168.619 L2009.75 168.595 Z\" fill=\"#000000\" fill-rule=\"evenodd\" fill-opacity=\"1\" /><path clip-path=\"url(#clip600)\" d=\"M 0 0 M2041.19 162.924 Q2042.78 160.054 2045.01 158.688 Q2047.23 157.322 2050.24 157.322 Q2054.29 157.322 2056.49 160.17 Q2058.69 162.994 2058.69 168.225 L2058.69 183.873 L2054.4 183.873 L2054.4 168.364 Q2054.4 164.637 2053.08 162.832 Q2051.76 161.026 2049.06 161.026 Q2045.75 161.026 2043.82 163.225 Q2041.9 165.424 2041.9 169.22 L2041.9 183.873 L2037.62 183.873 L2037.62 168.364 Q2037.62 164.614 2036.3 162.832 Q2034.98 161.026 2032.23 161.026 Q2028.96 161.026 2027.04 163.248 Q2025.12 165.447 2025.12 169.22 L2025.12 183.873 L2020.84 183.873 L2020.84 157.947 L2025.12 157.947 L2025.12 161.975 Q2026.58 159.591 2028.62 158.457 Q2030.65 157.322 2033.45 157.322 Q2036.28 157.322 2038.25 158.758 Q2040.24 160.193 2041.19 162.924 Z\" fill=\"#000000\" fill-rule=\"evenodd\" fill-opacity=\"1\" /><path clip-path=\"url(#clip600)\" d=\"M 0 0 M2078.96 170.841 Q2073.8 170.841 2071.81 172.021 Q2069.82 173.202 2069.82 176.049 Q2069.82 178.318 2071.3 179.66 Q2072.81 180.98 2075.38 180.98 Q2078.92 180.98 2081.05 178.48 Q2083.2 175.957 2083.2 171.79 L2083.2 170.841 L2078.96 170.841 M2087.46 169.082 L2087.46 183.873 L2083.2 183.873 L2083.2 179.938 Q2081.74 182.299 2079.57 183.433 Q2077.39 184.544 2074.24 184.544 Q2070.26 184.544 2067.9 182.322 Q2065.56 180.077 2065.56 176.327 Q2065.56 171.952 2068.48 169.73 Q2071.42 167.508 2077.23 167.508 L2083.2 167.508 L2083.2 167.091 Q2083.2 164.151 2081.25 162.554 Q2079.33 160.933 2075.84 160.933 Q2073.62 160.933 2071.51 161.466 Q2069.4 161.998 2067.46 163.063 L2067.46 159.128 Q2069.8 158.225 2072 157.785 Q2074.19 157.322 2076.28 157.322 Q2081.9 157.322 2084.68 160.239 Q2087.46 163.156 2087.46 169.082 Z\" fill=\"#000000\" fill-rule=\"evenodd\" fill-opacity=\"1\" /><path clip-path=\"url(#clip600)\" d=\"M 0 0 M2117.78 168.225 L2117.78 183.873 L2113.52 183.873 L2113.52 168.364 Q2113.52 164.683 2112.09 162.855 Q2110.65 161.026 2107.78 161.026 Q2104.33 161.026 2102.34 163.225 Q2100.35 165.424 2100.35 169.22 L2100.35 183.873 L2096.07 183.873 L2096.07 157.947 L2100.35 157.947 L2100.35 161.975 Q2101.88 159.637 2103.94 158.48 Q2106.02 157.322 2108.73 157.322 Q2113.2 157.322 2115.49 160.1 Q2117.78 162.855 2117.78 168.225 Z\" fill=\"#000000\" fill-rule=\"evenodd\" fill-opacity=\"1\" /><path clip-path=\"url(#clip600)\" d=\"M 0 0 M2143.34 161.883 L2143.34 147.855 L2147.6 147.855 L2147.6 183.873 L2143.34 183.873 L2143.34 179.984 Q2142 182.299 2139.94 183.433 Q2137.9 184.544 2135.03 184.544 Q2130.33 184.544 2127.37 180.795 Q2124.43 177.045 2124.43 170.933 Q2124.43 164.822 2127.37 161.072 Q2130.33 157.322 2135.03 157.322 Q2137.9 157.322 2139.94 158.457 Q2142 159.568 2143.34 161.883 M2128.82 170.933 Q2128.82 175.632 2130.75 178.318 Q2132.69 180.98 2136.07 180.98 Q2139.45 180.98 2141.39 178.318 Q2143.34 175.632 2143.34 170.933 Q2143.34 166.234 2141.39 163.572 Q2139.45 160.887 2136.07 160.887 Q2132.69 160.887 2130.75 163.572 Q2128.82 166.234 2128.82 170.933 Z\" fill=\"#000000\" fill-rule=\"evenodd\" fill-opacity=\"1\" /><path clip-path=\"url(#clip600)\" d=\"M 0 0 M2190.1 158.943 L2190.1 162.924 Q2188.29 161.929 2186.46 161.443 Q2184.66 160.933 2182.81 160.933 Q2178.66 160.933 2176.37 163.572 Q2174.08 166.188 2174.08 170.933 Q2174.08 175.679 2176.37 178.318 Q2178.66 180.933 2182.81 180.933 Q2184.66 180.933 2186.46 180.447 Q2188.29 179.938 2190.1 178.943 L2190.1 182.878 Q2188.31 183.711 2186.39 184.128 Q2184.5 184.544 2182.34 184.544 Q2176.49 184.544 2173.04 180.864 Q2169.59 177.183 2169.59 170.933 Q2169.59 164.591 2173.06 160.957 Q2176.56 157.322 2182.62 157.322 Q2184.59 157.322 2186.46 157.739 Q2188.34 158.133 2190.1 158.943 Z\" fill=\"#000000\" fill-rule=\"evenodd\" fill-opacity=\"1\" /><path clip-path=\"url(#clip600)\" d=\"M 0 0 M2197.06 173.642 L2197.06 157.947 L2201.32 157.947 L2201.32 173.48 Q2201.32 177.16 2202.76 179.012 Q2204.19 180.841 2207.06 180.841 Q2210.51 180.841 2212.5 178.642 Q2214.52 176.443 2214.52 172.646 L2214.52 157.947 L2218.78 157.947 L2218.78 183.873 L2214.52 183.873 L2214.52 179.892 Q2212.97 182.253 2210.91 183.41 Q2208.87 184.544 2206.16 184.544 Q2201.69 184.544 2199.38 181.767 Q2197.06 178.989 2197.06 173.642 M2207.78 157.322 L2207.78 157.322 Z\" fill=\"#000000\" fill-rule=\"evenodd\" fill-opacity=\"1\" /><path clip-path=\"url(#clip600)\" d=\"M 0 0 M2242.57 161.929 Q2241.86 161.512 2241 161.327 Q2240.17 161.119 2239.15 161.119 Q2235.54 161.119 2233.59 163.48 Q2231.67 165.818 2231.67 170.216 L2231.67 183.873 L2227.39 183.873 L2227.39 157.947 L2231.67 157.947 L2231.67 161.975 Q2233.01 159.614 2235.17 158.48 Q2237.32 157.322 2240.4 157.322 Q2240.84 157.322 2241.37 157.392 Q2241.9 157.438 2242.55 157.554 L2242.57 161.929 Z\" fill=\"#000000\" fill-rule=\"evenodd\" fill-opacity=\"1\" /><path clip-path=\"url(#clip600)\" d=\"M 0 0 M2243.99 157.947 L2248.5 157.947 L2256.6 179.707 L2264.7 157.947 L2269.22 157.947 L2259.49 183.873 L2253.71 183.873 L2243.99 157.947 Z\" fill=\"#000000\" fill-rule=\"evenodd\" fill-opacity=\"1\" /><path clip-path=\"url(#clip600)\" d=\"M 0 0 M2297.27 169.845 L2297.27 171.929 L2277.69 171.929 Q2277.97 176.327 2280.33 178.642 Q2282.71 180.933 2286.95 180.933 Q2289.4 180.933 2291.69 180.332 Q2294.01 179.73 2296.28 178.526 L2296.28 182.554 Q2293.99 183.526 2291.58 184.035 Q2289.17 184.544 2286.69 184.544 Q2280.49 184.544 2276.86 180.933 Q2273.24 177.322 2273.24 171.165 Q2273.24 164.799 2276.67 161.072 Q2280.12 157.322 2285.95 157.322 Q2291.18 157.322 2294.22 160.702 Q2297.27 164.058 2297.27 169.845 M2293.01 168.595 Q2292.97 165.1 2291.05 163.017 Q2289.15 160.933 2286 160.933 Q2282.43 160.933 2280.28 162.947 Q2278.15 164.961 2277.83 168.619 L2293.01 168.595 Z\" fill=\"#000000\" fill-rule=\"evenodd\" fill-opacity=\"1\" /><path clip-path=\"url(#clip600)\" d=\"M 0 0 M2329.56 147.901 Q2326.46 153.225 2324.96 158.434 Q2323.45 163.642 2323.45 168.989 Q2323.45 174.336 2324.96 179.591 Q2326.49 184.822 2329.56 190.123 L2325.86 190.123 Q2322.39 184.683 2320.65 179.429 Q2318.94 174.174 2318.94 168.989 Q2318.94 163.827 2320.65 158.596 Q2322.36 153.364 2325.86 147.901 L2329.56 147.901 Z\" fill=\"#000000\" fill-rule=\"evenodd\" fill-opacity=\"1\" /><path clip-path=\"url(#clip600)\" d=\"M 0 0 M2338.01 149.313 L2344.98 149.313 L2353.8 172.832 L2362.67 149.313 L2369.63 149.313 L2369.63 183.873 L2365.07 183.873 L2365.07 153.526 L2356.16 177.23 L2351.46 177.23 L2342.55 153.526 L2342.55 183.873 L2338.01 183.873 L2338.01 149.313 Z\" fill=\"#000000\" fill-rule=\"evenodd\" fill-opacity=\"1\" /><path clip-path=\"url(#clip600)\" d=\"M 0 0 M2378.92 149.313 L2385.21 149.313 L2400.54 178.225 L2400.54 149.313 L2405.07 149.313 L2405.07 183.873 L2398.78 183.873 L2383.45 154.961 L2383.45 183.873 L2378.92 183.873 L2378.92 149.313 Z\" fill=\"#000000\" fill-rule=\"evenodd\" fill-opacity=\"1\" /><path clip-path=\"url(#clip600)\" d=\"M 0 0 M2414.38 149.313 L2419.05 149.313 L2419.05 179.938 L2435.88 179.938 L2435.88 183.873 L2414.38 183.873 L2414.38 149.313 Z\" fill=\"#000000\" fill-rule=\"evenodd\" fill-opacity=\"1\" /><path clip-path=\"url(#clip600)\" d=\"M 0 0 M2475.86 162.924 Q2477.46 160.054 2479.68 158.688 Q2481.9 157.322 2484.91 157.322 Q2488.96 157.322 2491.16 160.17 Q2493.36 162.994 2493.36 168.225 L2493.36 183.873 L2489.08 183.873 L2489.08 168.364 Q2489.08 164.637 2487.76 162.832 Q2486.44 161.026 2483.73 161.026 Q2480.42 161.026 2478.5 163.225 Q2476.58 165.424 2476.58 169.22 L2476.58 183.873 L2472.29 183.873 L2472.29 168.364 Q2472.29 164.614 2470.98 162.832 Q2469.66 161.026 2466.9 161.026 Q2463.64 161.026 2461.72 163.248 Q2459.79 165.447 2459.79 169.22 L2459.79 183.873 L2455.51 183.873 L2455.51 157.947 L2459.79 157.947 L2459.79 161.975 Q2461.25 159.591 2463.29 158.457 Q2465.33 157.322 2468.13 157.322 Q2470.95 157.322 2472.92 158.758 Q2474.91 160.193 2475.86 162.924 Z\" fill=\"#000000\" fill-rule=\"evenodd\" fill-opacity=\"1\" /><path clip-path=\"url(#clip600)\" d=\"M 0 0 M2511.9 160.933 Q2508.47 160.933 2506.48 163.619 Q2504.49 166.281 2504.49 170.933 Q2504.49 175.586 2506.46 178.271 Q2508.45 180.933 2511.9 180.933 Q2515.3 180.933 2517.29 178.248 Q2519.28 175.563 2519.28 170.933 Q2519.28 166.327 2517.29 163.642 Q2515.3 160.933 2511.9 160.933 M2511.9 157.322 Q2517.46 157.322 2520.63 160.933 Q2523.8 164.545 2523.8 170.933 Q2523.8 177.299 2520.63 180.933 Q2517.46 184.544 2511.9 184.544 Q2506.32 184.544 2503.15 180.933 Q2500 177.299 2500 170.933 Q2500 164.545 2503.15 160.933 Q2506.32 157.322 2511.9 157.322 Z\" fill=\"#000000\" fill-rule=\"evenodd\" fill-opacity=\"1\" /><path clip-path=\"url(#clip600)\" d=\"M 0 0 M2547.92 161.883 L2547.92 147.855 L2552.18 147.855 L2552.18 183.873 L2547.92 183.873 L2547.92 179.984 Q2546.58 182.299 2544.52 183.433 Q2542.48 184.544 2539.61 184.544 Q2534.91 184.544 2531.95 180.795 Q2529.01 177.045 2529.01 170.933 Q2529.01 164.822 2531.95 161.072 Q2534.91 157.322 2539.61 157.322 Q2542.48 157.322 2544.52 158.457 Q2546.58 159.568 2547.92 161.883 M2533.41 170.933 Q2533.41 175.632 2535.33 178.318 Q2537.27 180.98 2540.65 180.98 Q2544.03 180.98 2545.97 178.318 Q2547.92 175.632 2547.92 170.933 Q2547.92 166.234 2545.97 163.572 Q2544.03 160.887 2540.65 160.887 Q2537.27 160.887 2535.33 163.572 Q2533.41 166.234 2533.41 170.933 Z\" fill=\"#000000\" fill-rule=\"evenodd\" fill-opacity=\"1\" /><path clip-path=\"url(#clip600)\" d=\"M 0 0 M2583.13 169.845 L2583.13 171.929 L2563.54 171.929 Q2563.82 176.327 2566.18 178.642 Q2568.57 180.933 2572.8 180.933 Q2575.26 180.933 2577.55 180.332 Q2579.86 179.73 2582.13 178.526 L2582.13 182.554 Q2579.84 183.526 2577.43 184.035 Q2575.03 184.544 2572.55 184.544 Q2566.34 184.544 2562.71 180.933 Q2559.1 177.322 2559.1 171.165 Q2559.1 164.799 2562.53 161.072 Q2565.97 157.322 2571.81 157.322 Q2577.04 157.322 2580.07 160.702 Q2583.13 164.058 2583.13 169.845 M2578.87 168.595 Q2578.82 165.1 2576.9 163.017 Q2575 160.933 2571.85 160.933 Q2568.29 160.933 2566.14 162.947 Q2564.01 164.961 2563.68 168.619 L2578.87 168.595 Z\" fill=\"#000000\" fill-rule=\"evenodd\" fill-opacity=\"1\" /><path clip-path=\"url(#clip600)\" d=\"M 0 0 M2590.12 147.855 L2594.38 147.855 L2594.38 183.873 L2590.12 183.873 L2590.12 147.855 Z\" fill=\"#000000\" fill-rule=\"evenodd\" fill-opacity=\"1\" /><path clip-path=\"url(#clip600)\" d=\"M 0 0 M2602.62 147.901 L2606.32 147.901 Q2609.79 153.364 2611.51 158.596 Q2613.24 163.827 2613.24 168.989 Q2613.24 174.174 2611.51 179.429 Q2609.79 184.683 2606.32 190.123 L2602.62 190.123 Q2605.7 184.822 2607.2 179.591 Q2608.73 174.336 2608.73 168.989 Q2608.73 163.642 2607.2 158.434 Q2605.7 153.225 2602.62 147.901 Z\" fill=\"#000000\" fill-rule=\"evenodd\" fill-opacity=\"1\" /><polyline clip-path=\"url(#clip600)\" style=\"stroke:#dc143c; stroke-width:4; stroke-opacity:1; fill:none\" stroke-dasharray=\"2, 4\" points=\"\n",
       "  1760.2,227.073 1927.61,227.073 \n",
       "  \"/>\n",
       "<path clip-path=\"url(#clip600)\" d=\"M 0 0 M1960.19 213.636 L1960.19 240.511 L1965.84 240.511 Q1972.99 240.511 1976.3 237.27 Q1979.64 234.029 1979.64 227.038 Q1979.64 220.094 1976.3 216.876 Q1972.99 213.636 1965.84 213.636 L1960.19 213.636 M1955.51 209.793 L1965.12 209.793 Q1975.17 209.793 1979.87 213.983 Q1984.57 218.15 1984.57 227.038 Q1984.57 235.974 1979.84 240.163 Q1975.12 244.353 1965.12 244.353 L1955.51 244.353 L1955.51 209.793 Z\" fill=\"#000000\" fill-rule=\"evenodd\" fill-opacity=\"1\" /><path clip-path=\"url(#clip600)\" d=\"M 0 0 M2014.01 230.325 L2014.01 232.409 L1994.43 232.409 Q1994.7 236.807 1997.07 239.122 Q1999.45 241.413 2003.69 241.413 Q2006.14 241.413 2008.43 240.812 Q2010.75 240.21 2013.01 239.006 L2013.01 243.034 Q2010.72 244.006 2008.32 244.515 Q2005.91 245.024 2003.43 245.024 Q1997.23 245.024 1993.59 241.413 Q1989.98 237.802 1989.98 231.645 Q1989.98 225.279 1993.41 221.552 Q1996.86 217.802 2002.69 217.802 Q2007.92 217.802 2010.95 221.182 Q2014.01 224.538 2014.01 230.325 M2009.75 229.075 Q2009.7 225.58 2007.78 223.497 Q2005.88 221.413 2002.74 221.413 Q1999.17 221.413 1997.02 223.427 Q1994.89 225.441 1994.57 229.099 L2009.75 229.075 Z\" fill=\"#000000\" fill-rule=\"evenodd\" fill-opacity=\"1\" /><path clip-path=\"url(#clip600)\" d=\"M 0 0 M2041.19 223.404 Q2042.78 220.534 2045.01 219.168 Q2047.23 217.802 2050.24 217.802 Q2054.29 217.802 2056.49 220.65 Q2058.69 223.474 2058.69 228.705 L2058.69 244.353 L2054.4 244.353 L2054.4 228.844 Q2054.4 225.117 2053.08 223.312 Q2051.76 221.506 2049.06 221.506 Q2045.75 221.506 2043.82 223.705 Q2041.9 225.904 2041.9 229.7 L2041.9 244.353 L2037.62 244.353 L2037.62 228.844 Q2037.62 225.094 2036.3 223.312 Q2034.98 221.506 2032.23 221.506 Q2028.96 221.506 2027.04 223.728 Q2025.12 225.927 2025.12 229.7 L2025.12 244.353 L2020.84 244.353 L2020.84 218.427 L2025.12 218.427 L2025.12 222.455 Q2026.58 220.071 2028.62 218.937 Q2030.65 217.802 2033.45 217.802 Q2036.28 217.802 2038.25 219.238 Q2040.24 220.673 2041.19 223.404 Z\" fill=\"#000000\" fill-rule=\"evenodd\" fill-opacity=\"1\" /><path clip-path=\"url(#clip600)\" d=\"M 0 0 M2078.96 231.321 Q2073.8 231.321 2071.81 232.501 Q2069.82 233.682 2069.82 236.529 Q2069.82 238.798 2071.3 240.14 Q2072.81 241.46 2075.38 241.46 Q2078.92 241.46 2081.05 238.96 Q2083.2 236.437 2083.2 232.27 L2083.2 231.321 L2078.96 231.321 M2087.46 229.562 L2087.46 244.353 L2083.2 244.353 L2083.2 240.418 Q2081.74 242.779 2079.57 243.913 Q2077.39 245.024 2074.24 245.024 Q2070.26 245.024 2067.9 242.802 Q2065.56 240.557 2065.56 236.807 Q2065.56 232.432 2068.48 230.21 Q2071.42 227.988 2077.23 227.988 L2083.2 227.988 L2083.2 227.571 Q2083.2 224.631 2081.25 223.034 Q2079.33 221.413 2075.84 221.413 Q2073.62 221.413 2071.51 221.946 Q2069.4 222.478 2067.46 223.543 L2067.46 219.608 Q2069.8 218.705 2072 218.265 Q2074.19 217.802 2076.28 217.802 Q2081.9 217.802 2084.68 220.719 Q2087.46 223.636 2087.46 229.562 Z\" fill=\"#000000\" fill-rule=\"evenodd\" fill-opacity=\"1\" /><path clip-path=\"url(#clip600)\" d=\"M 0 0 M2117.78 228.705 L2117.78 244.353 L2113.52 244.353 L2113.52 228.844 Q2113.52 225.163 2112.09 223.335 Q2110.65 221.506 2107.78 221.506 Q2104.33 221.506 2102.34 223.705 Q2100.35 225.904 2100.35 229.7 L2100.35 244.353 L2096.07 244.353 L2096.07 218.427 L2100.35 218.427 L2100.35 222.455 Q2101.88 220.117 2103.94 218.96 Q2106.02 217.802 2108.73 217.802 Q2113.2 217.802 2115.49 220.58 Q2117.78 223.335 2117.78 228.705 Z\" fill=\"#000000\" fill-rule=\"evenodd\" fill-opacity=\"1\" /><path clip-path=\"url(#clip600)\" d=\"M 0 0 M2143.34 222.363 L2143.34 208.335 L2147.6 208.335 L2147.6 244.353 L2143.34 244.353 L2143.34 240.464 Q2142 242.779 2139.94 243.913 Q2137.9 245.024 2135.03 245.024 Q2130.33 245.024 2127.37 241.275 Q2124.43 237.525 2124.43 231.413 Q2124.43 225.302 2127.37 221.552 Q2130.33 217.802 2135.03 217.802 Q2137.9 217.802 2139.94 218.937 Q2142 220.048 2143.34 222.363 M2128.82 231.413 Q2128.82 236.112 2130.75 238.798 Q2132.69 241.46 2136.07 241.46 Q2139.45 241.46 2141.39 238.798 Q2143.34 236.112 2143.34 231.413 Q2143.34 226.714 2141.39 224.052 Q2139.45 221.367 2136.07 221.367 Q2132.69 221.367 2130.75 224.052 Q2128.82 226.714 2128.82 231.413 Z\" fill=\"#000000\" fill-rule=\"evenodd\" fill-opacity=\"1\" /><path clip-path=\"url(#clip600)\" d=\"M 0 0 M2190.1 219.423 L2190.1 223.404 Q2188.29 222.409 2186.46 221.923 Q2184.66 221.413 2182.81 221.413 Q2178.66 221.413 2176.37 224.052 Q2174.08 226.668 2174.08 231.413 Q2174.08 236.159 2176.37 238.798 Q2178.66 241.413 2182.81 241.413 Q2184.66 241.413 2186.46 240.927 Q2188.29 240.418 2190.1 239.423 L2190.1 243.358 Q2188.31 244.191 2186.39 244.608 Q2184.5 245.024 2182.34 245.024 Q2176.49 245.024 2173.04 241.344 Q2169.59 237.663 2169.59 231.413 Q2169.59 225.071 2173.06 221.437 Q2176.56 217.802 2182.62 217.802 Q2184.59 217.802 2186.46 218.219 Q2188.34 218.613 2190.1 219.423 Z\" fill=\"#000000\" fill-rule=\"evenodd\" fill-opacity=\"1\" /><path clip-path=\"url(#clip600)\" d=\"M 0 0 M2197.06 234.122 L2197.06 218.427 L2201.32 218.427 L2201.32 233.96 Q2201.32 237.64 2202.76 239.492 Q2204.19 241.321 2207.06 241.321 Q2210.51 241.321 2212.5 239.122 Q2214.52 236.923 2214.52 233.126 L2214.52 218.427 L2218.78 218.427 L2218.78 244.353 L2214.52 244.353 L2214.52 240.372 Q2212.97 242.733 2210.91 243.89 Q2208.87 245.024 2206.16 245.024 Q2201.69 245.024 2199.38 242.247 Q2197.06 239.469 2197.06 234.122 M2207.78 217.802 L2207.78 217.802 Z\" fill=\"#000000\" fill-rule=\"evenodd\" fill-opacity=\"1\" /><path clip-path=\"url(#clip600)\" d=\"M 0 0 M2242.57 222.409 Q2241.86 221.992 2241 221.807 Q2240.17 221.599 2239.15 221.599 Q2235.54 221.599 2233.59 223.96 Q2231.67 226.298 2231.67 230.696 L2231.67 244.353 L2227.39 244.353 L2227.39 218.427 L2231.67 218.427 L2231.67 222.455 Q2233.01 220.094 2235.17 218.96 Q2237.32 217.802 2240.4 217.802 Q2240.84 217.802 2241.37 217.872 Q2241.9 217.918 2242.55 218.034 L2242.57 222.409 Z\" fill=\"#000000\" fill-rule=\"evenodd\" fill-opacity=\"1\" /><path clip-path=\"url(#clip600)\" d=\"M 0 0 M2243.99 218.427 L2248.5 218.427 L2256.6 240.187 L2264.7 218.427 L2269.22 218.427 L2259.49 244.353 L2253.71 244.353 L2243.99 218.427 Z\" fill=\"#000000\" fill-rule=\"evenodd\" fill-opacity=\"1\" /><path clip-path=\"url(#clip600)\" d=\"M 0 0 M2297.27 230.325 L2297.27 232.409 L2277.69 232.409 Q2277.97 236.807 2280.33 239.122 Q2282.71 241.413 2286.95 241.413 Q2289.4 241.413 2291.69 240.812 Q2294.01 240.21 2296.28 239.006 L2296.28 243.034 Q2293.99 244.006 2291.58 244.515 Q2289.17 245.024 2286.69 245.024 Q2280.49 245.024 2276.86 241.413 Q2273.24 237.802 2273.24 231.645 Q2273.24 225.279 2276.67 221.552 Q2280.12 217.802 2285.95 217.802 Q2291.18 217.802 2294.22 221.182 Q2297.27 224.538 2297.27 230.325 M2293.01 229.075 Q2292.97 225.58 2291.05 223.497 Q2289.15 221.413 2286 221.413 Q2282.43 221.413 2280.28 223.427 Q2278.15 225.441 2277.83 229.099 L2293.01 229.075 Z\" fill=\"#000000\" fill-rule=\"evenodd\" fill-opacity=\"1\" /><path clip-path=\"url(#clip600)\" d=\"M 0 0 M2329.56 208.381 Q2326.46 213.705 2324.96 218.914 Q2323.45 224.122 2323.45 229.469 Q2323.45 234.816 2324.96 240.071 Q2326.49 245.302 2329.56 250.603 L2325.86 250.603 Q2322.39 245.163 2320.65 239.909 Q2318.94 234.654 2318.94 229.469 Q2318.94 224.307 2320.65 219.076 Q2322.36 213.844 2325.86 208.381 L2329.56 208.381 Z\" fill=\"#000000\" fill-rule=\"evenodd\" fill-opacity=\"1\" /><path clip-path=\"url(#clip600)\" d=\"M 0 0 M2337.83 208.335 L2342.09 208.335 L2342.09 244.353 L2337.83 244.353 L2337.83 208.335 Z\" fill=\"#000000\" fill-rule=\"evenodd\" fill-opacity=\"1\" /><path clip-path=\"url(#clip600)\" d=\"M 0 0 M2351 218.427 L2355.26 218.427 L2355.26 244.353 L2351 244.353 L2351 218.427 M2351 208.335 L2355.26 208.335 L2355.26 213.728 L2351 213.728 L2351 208.335 Z\" fill=\"#000000\" fill-rule=\"evenodd\" fill-opacity=\"1\" /><path clip-path=\"url(#clip600)\" d=\"M 0 0 M2385.72 228.705 L2385.72 244.353 L2381.46 244.353 L2381.46 228.844 Q2381.46 225.163 2380.03 223.335 Q2378.59 221.506 2375.72 221.506 Q2372.27 221.506 2370.28 223.705 Q2368.29 225.904 2368.29 229.7 L2368.29 244.353 L2364.01 244.353 L2364.01 218.427 L2368.29 218.427 L2368.29 222.455 Q2369.82 220.117 2371.88 218.96 Q2373.96 217.802 2376.67 217.802 Q2381.14 217.802 2383.43 220.58 Q2385.72 223.335 2385.72 228.705 Z\" fill=\"#000000\" fill-rule=\"evenodd\" fill-opacity=\"1\" /><path clip-path=\"url(#clip600)\" d=\"M 0 0 M2416.39 230.325 L2416.39 232.409 L2396.81 232.409 Q2397.09 236.807 2399.45 239.122 Q2401.83 241.413 2406.07 241.413 Q2408.52 241.413 2410.81 240.812 Q2413.13 240.21 2415.4 239.006 L2415.4 243.034 Q2413.1 244.006 2410.7 244.515 Q2408.29 245.024 2405.81 245.024 Q2399.61 245.024 2395.98 241.413 Q2392.36 237.802 2392.36 231.645 Q2392.36 225.279 2395.79 221.552 Q2399.24 217.802 2405.07 217.802 Q2410.3 217.802 2413.34 221.182 Q2416.39 224.538 2416.39 230.325 M2412.13 229.075 Q2412.09 225.58 2410.17 223.497 Q2408.27 221.413 2405.12 221.413 Q2401.55 221.413 2399.4 223.427 Q2397.27 225.441 2396.95 229.099 L2412.13 229.075 Z\" fill=\"#000000\" fill-rule=\"evenodd\" fill-opacity=\"1\" /><path clip-path=\"url(#clip600)\" d=\"M 0 0 M2435.17 231.321 Q2430 231.321 2428.01 232.501 Q2426.02 233.682 2426.02 236.529 Q2426.02 238.798 2427.5 240.14 Q2429.01 241.46 2431.58 241.46 Q2435.12 241.46 2437.25 238.96 Q2439.4 236.437 2439.4 232.27 L2439.4 231.321 L2435.17 231.321 M2443.66 229.562 L2443.66 244.353 L2439.4 244.353 L2439.4 240.418 Q2437.94 242.779 2435.77 243.913 Q2433.59 245.024 2430.44 245.024 Q2426.46 245.024 2424.1 242.802 Q2421.76 240.557 2421.76 236.807 Q2421.76 232.432 2424.68 230.21 Q2427.62 227.988 2433.43 227.988 L2439.4 227.988 L2439.4 227.571 Q2439.4 224.631 2437.46 223.034 Q2435.54 221.413 2432.04 221.413 Q2429.82 221.413 2427.71 221.946 Q2425.6 222.478 2423.66 223.543 L2423.66 219.608 Q2426 218.705 2428.2 218.265 Q2430.4 217.802 2432.48 217.802 Q2438.1 217.802 2440.88 220.719 Q2443.66 223.636 2443.66 229.562 Z\" fill=\"#000000\" fill-rule=\"evenodd\" fill-opacity=\"1\" /><path clip-path=\"url(#clip600)\" d=\"M 0 0 M2467.46 222.409 Q2466.74 221.992 2465.88 221.807 Q2465.05 221.599 2464.03 221.599 Q2460.42 221.599 2458.48 223.96 Q2456.55 226.298 2456.55 230.696 L2456.55 244.353 L2452.27 244.353 L2452.27 218.427 L2456.55 218.427 L2456.55 222.455 Q2457.9 220.094 2460.05 218.96 Q2462.2 217.802 2465.28 217.802 Q2465.72 217.802 2466.25 217.872 Q2466.79 217.918 2467.43 218.034 L2467.46 222.409 Z\" fill=\"#000000\" fill-rule=\"evenodd\" fill-opacity=\"1\" /><path clip-path=\"url(#clip600)\" d=\"M 0 0 M2500.12 208.335 L2500.12 211.877 L2496.04 211.877 Q2493.75 211.877 2492.85 212.802 Q2491.97 213.728 2491.97 216.136 L2491.97 218.427 L2498.98 218.427 L2498.98 221.738 L2491.97 221.738 L2491.97 244.353 L2487.69 244.353 L2487.69 221.738 L2483.61 221.738 L2483.61 218.427 L2487.69 218.427 L2487.69 216.622 Q2487.69 212.293 2489.7 210.326 Q2491.72 208.335 2496.09 208.335 L2500.12 208.335 Z\" fill=\"#000000\" fill-rule=\"evenodd\" fill-opacity=\"1\" /><path clip-path=\"url(#clip600)\" d=\"M 0 0 M2503.68 218.427 L2507.94 218.427 L2507.94 244.353 L2503.68 244.353 L2503.68 218.427 M2503.68 208.335 L2507.94 208.335 L2507.94 213.728 L2503.68 213.728 L2503.68 208.335 Z\" fill=\"#000000\" fill-rule=\"evenodd\" fill-opacity=\"1\" /><path clip-path=\"url(#clip600)\" d=\"M 0 0 M2521.07 211.066 L2521.07 218.427 L2529.84 218.427 L2529.84 221.738 L2521.07 221.738 L2521.07 235.812 Q2521.07 238.983 2521.92 239.886 Q2522.8 240.788 2525.47 240.788 L2529.84 240.788 L2529.84 244.353 L2525.47 244.353 Q2520.53 244.353 2518.66 242.524 Q2516.78 240.673 2516.78 235.812 L2516.78 221.738 L2513.66 221.738 L2513.66 218.427 L2516.78 218.427 L2516.78 211.066 L2521.07 211.066 Z\" fill=\"#000000\" fill-rule=\"evenodd\" fill-opacity=\"1\" /><path clip-path=\"url(#clip600)\" d=\"M 0 0 M2534.77 208.381 L2538.47 208.381 Q2541.95 213.844 2543.66 219.076 Q2545.4 224.307 2545.4 229.469 Q2545.4 234.654 2543.66 239.909 Q2541.95 245.163 2538.47 250.603 L2534.77 250.603 Q2537.85 245.302 2539.35 240.071 Q2540.88 234.816 2540.88 229.469 Q2540.88 224.122 2539.35 218.914 Q2537.85 213.705 2534.77 208.381 Z\" fill=\"#000000\" fill-rule=\"evenodd\" fill-opacity=\"1\" /><polyline clip-path=\"url(#clip600)\" style=\"stroke:#ff7f50; stroke-width:4; stroke-opacity:1; fill:none\" stroke-dasharray=\"16, 8, 2, 8\" points=\"\n",
       "  1760.2,287.553 1927.61,287.553 \n",
       "  \"/>\n",
       "<path clip-path=\"url(#clip600)\" d=\"M 0 0 M1955.51 270.273 L1960.19 270.273 L1960.19 284.44 L1977.18 284.44 L1977.18 270.273 L1981.86 270.273 L1981.86 304.833 L1977.18 304.833 L1977.18 288.375 L1960.19 288.375 L1960.19 304.833 L1955.51 304.833 L1955.51 270.273 Z\" fill=\"#000000\" fill-rule=\"evenodd\" fill-opacity=\"1\" /><path clip-path=\"url(#clip600)\" d=\"M 0 0 M2001.76 307.241 Q1999.96 311.87 1998.25 313.282 Q1996.53 314.694 1993.66 314.694 L1990.26 314.694 L1990.26 311.129 L1992.76 311.129 Q1994.52 311.129 1995.49 310.296 Q1996.46 309.463 1997.64 306.361 L1998.41 304.417 L1987.92 278.907 L1992.44 278.907 L2000.54 299.185 L2008.64 278.907 L2013.15 278.907 L2001.76 307.241 Z\" fill=\"#000000\" fill-rule=\"evenodd\" fill-opacity=\"1\" /><path clip-path=\"url(#clip600)\" d=\"M 0 0 M2023.15 300.944 L2023.15 314.694 L2018.87 314.694 L2018.87 278.907 L2023.15 278.907 L2023.15 282.843 Q2024.5 280.528 2026.53 279.417 Q2028.59 278.282 2031.44 278.282 Q2036.16 278.282 2039.1 282.032 Q2042.07 285.782 2042.07 291.893 Q2042.07 298.005 2039.1 301.755 Q2036.16 305.504 2031.44 305.504 Q2028.59 305.504 2026.53 304.393 Q2024.5 303.259 2023.15 300.944 M2037.64 291.893 Q2037.64 287.194 2035.7 284.532 Q2033.78 281.847 2030.4 281.847 Q2027.02 281.847 2025.07 284.532 Q2023.15 287.194 2023.15 291.893 Q2023.15 296.592 2025.07 299.278 Q2027.02 301.94 2030.4 301.94 Q2033.78 301.94 2035.7 299.278 Q2037.64 296.592 2037.64 291.893 Z\" fill=\"#000000\" fill-rule=\"evenodd\" fill-opacity=\"1\" /><path clip-path=\"url(#clip600)\" d=\"M 0 0 M2059.17 281.893 Q2055.75 281.893 2053.76 284.579 Q2051.76 287.241 2051.76 291.893 Q2051.76 296.546 2053.73 299.231 Q2055.72 301.893 2059.17 301.893 Q2062.57 301.893 2064.57 299.208 Q2066.56 296.523 2066.56 291.893 Q2066.56 287.287 2064.57 284.602 Q2062.57 281.893 2059.17 281.893 M2059.17 278.282 Q2064.73 278.282 2067.9 281.893 Q2071.07 285.505 2071.07 291.893 Q2071.07 298.259 2067.9 301.893 Q2064.73 305.504 2059.17 305.504 Q2053.59 305.504 2050.42 301.893 Q2047.27 298.259 2047.27 291.893 Q2047.27 285.505 2050.42 281.893 Q2053.59 278.282 2059.17 278.282 Z\" fill=\"#000000\" fill-rule=\"evenodd\" fill-opacity=\"1\" /><path clip-path=\"url(#clip600)\" d=\"M 0 0 M2082.34 271.546 L2082.34 278.907 L2091.12 278.907 L2091.12 282.218 L2082.34 282.218 L2082.34 296.292 Q2082.34 299.463 2083.2 300.366 Q2084.08 301.268 2086.74 301.268 L2091.12 301.268 L2091.12 304.833 L2086.74 304.833 Q2081.81 304.833 2079.94 303.004 Q2078.06 301.153 2078.06 296.292 L2078.06 282.218 L2074.94 282.218 L2074.94 278.907 L2078.06 278.907 L2078.06 271.546 L2082.34 271.546 Z\" fill=\"#000000\" fill-rule=\"evenodd\" fill-opacity=\"1\" /><path clip-path=\"url(#clip600)\" d=\"M 0 0 M2118.27 289.185 L2118.27 304.833 L2114.01 304.833 L2114.01 289.324 Q2114.01 285.643 2112.57 283.815 Q2111.14 281.986 2108.27 281.986 Q2104.82 281.986 2102.83 284.185 Q2100.84 286.384 2100.84 290.18 L2100.84 304.833 L2096.56 304.833 L2096.56 268.815 L2100.84 268.815 L2100.84 282.935 Q2102.37 280.597 2104.43 279.44 Q2106.51 278.282 2109.22 278.282 Q2113.69 278.282 2115.98 281.06 Q2118.27 283.815 2118.27 289.185 Z\" fill=\"#000000\" fill-rule=\"evenodd\" fill-opacity=\"1\" /><path clip-path=\"url(#clip600)\" d=\"M 0 0 M2148.94 290.805 L2148.94 292.889 L2129.36 292.889 Q2129.63 297.287 2132 299.602 Q2134.38 301.893 2138.62 301.893 Q2141.07 301.893 2143.36 301.292 Q2145.68 300.69 2147.94 299.486 L2147.94 303.514 Q2145.65 304.486 2143.25 304.995 Q2140.84 305.504 2138.36 305.504 Q2132.16 305.504 2128.52 301.893 Q2124.91 298.282 2124.91 292.125 Q2124.91 285.759 2128.34 282.032 Q2131.79 278.282 2137.62 278.282 Q2142.85 278.282 2145.88 281.662 Q2148.94 285.018 2148.94 290.805 M2144.68 289.555 Q2144.63 286.06 2142.71 283.977 Q2140.81 281.893 2137.67 281.893 Q2134.1 281.893 2131.95 283.907 Q2129.82 285.921 2129.5 289.579 L2144.68 289.555 Z\" fill=\"#000000\" fill-rule=\"evenodd\" fill-opacity=\"1\" /><path clip-path=\"url(#clip600)\" d=\"M 0 0 M2160.14 271.546 L2160.14 278.907 L2168.92 278.907 L2168.92 282.218 L2160.14 282.218 L2160.14 296.292 Q2160.14 299.463 2161 300.366 Q2161.88 301.268 2164.54 301.268 L2168.92 301.268 L2168.92 304.833 L2164.54 304.833 Q2159.61 304.833 2157.74 303.004 Q2155.86 301.153 2155.86 296.292 L2155.86 282.218 L2152.74 282.218 L2152.74 278.907 L2155.86 278.907 L2155.86 271.546 L2160.14 271.546 Z\" fill=\"#000000\" fill-rule=\"evenodd\" fill-opacity=\"1\" /><path clip-path=\"url(#clip600)\" d=\"M 0 0 M2174.52 278.907 L2178.78 278.907 L2178.78 304.833 L2174.52 304.833 L2174.52 278.907 M2174.52 268.815 L2178.78 268.815 L2178.78 274.208 L2174.52 274.208 L2174.52 268.815 Z\" fill=\"#000000\" fill-rule=\"evenodd\" fill-opacity=\"1\" /><path clip-path=\"url(#clip600)\" d=\"M 0 0 M2206.35 279.903 L2206.35 283.884 Q2204.54 282.889 2202.71 282.403 Q2200.91 281.893 2199.06 281.893 Q2194.91 281.893 2192.62 284.532 Q2190.33 287.148 2190.33 291.893 Q2190.33 296.639 2192.62 299.278 Q2194.91 301.893 2199.06 301.893 Q2200.91 301.893 2202.71 301.407 Q2204.54 300.898 2206.35 299.903 L2206.35 303.838 Q2204.56 304.671 2202.64 305.088 Q2200.74 305.504 2198.59 305.504 Q2192.74 305.504 2189.29 301.824 Q2185.84 298.143 2185.84 291.893 Q2185.84 285.551 2189.31 281.917 Q2192.81 278.282 2198.87 278.282 Q2200.84 278.282 2202.71 278.699 Q2204.59 279.093 2206.35 279.903 Z\" fill=\"#000000\" fill-rule=\"evenodd\" fill-opacity=\"1\" /><path clip-path=\"url(#clip600)\" d=\"M 0 0 M2225.54 291.801 Q2220.37 291.801 2218.38 292.981 Q2216.39 294.162 2216.39 297.009 Q2216.39 299.278 2217.87 300.62 Q2219.38 301.94 2221.95 301.94 Q2225.49 301.94 2227.62 299.44 Q2229.77 296.917 2229.77 292.75 L2229.77 291.801 L2225.54 291.801 M2234.03 290.042 L2234.03 304.833 L2229.77 304.833 L2229.77 300.898 Q2228.31 303.259 2226.14 304.393 Q2223.96 305.504 2220.81 305.504 Q2216.83 305.504 2214.47 303.282 Q2212.13 301.037 2212.13 297.287 Q2212.13 292.912 2215.05 290.69 Q2217.99 288.468 2223.8 288.468 L2229.77 288.468 L2229.77 288.051 Q2229.77 285.111 2227.83 283.514 Q2225.91 281.893 2222.41 281.893 Q2220.19 281.893 2218.08 282.426 Q2215.98 282.958 2214.03 284.023 L2214.03 280.088 Q2216.37 279.185 2218.57 278.745 Q2220.77 278.282 2222.85 278.282 Q2228.48 278.282 2231.25 281.199 Q2234.03 284.116 2234.03 290.042 Z\" fill=\"#000000\" fill-rule=\"evenodd\" fill-opacity=\"1\" /><path clip-path=\"url(#clip600)\" d=\"M 0 0 M2242.8 268.815 L2247.06 268.815 L2247.06 304.833 L2242.8 304.833 L2242.8 268.815 Z\" fill=\"#000000\" fill-rule=\"evenodd\" fill-opacity=\"1\" /><path clip-path=\"url(#clip600)\" d=\"M 0 0 M2275.26 271.546 L2275.26 278.907 L2284.03 278.907 L2284.03 282.218 L2275.26 282.218 L2275.26 296.292 Q2275.26 299.463 2276.11 300.366 Q2276.99 301.268 2279.66 301.268 L2284.03 301.268 L2284.03 304.833 L2279.66 304.833 Q2274.73 304.833 2272.85 303.004 Q2270.98 301.153 2270.98 296.292 L2270.98 282.218 L2267.85 282.218 L2267.85 278.907 L2270.98 278.907 L2270.98 271.546 L2275.26 271.546 Z\" fill=\"#000000\" fill-rule=\"evenodd\" fill-opacity=\"1\" /><path clip-path=\"url(#clip600)\" d=\"M 0 0 M2301.42 291.801 Q2296.25 291.801 2294.26 292.981 Q2292.27 294.162 2292.27 297.009 Q2292.27 299.278 2293.75 300.62 Q2295.26 301.94 2297.83 301.94 Q2301.37 301.94 2303.5 299.44 Q2305.65 296.917 2305.65 292.75 L2305.65 291.801 L2301.42 291.801 M2309.91 290.042 L2309.91 304.833 L2305.65 304.833 L2305.65 300.898 Q2304.19 303.259 2302.02 304.393 Q2299.84 305.504 2296.69 305.504 Q2292.71 305.504 2290.35 303.282 Q2288.01 301.037 2288.01 297.287 Q2288.01 292.912 2290.93 290.69 Q2293.87 288.468 2299.68 288.468 L2305.65 288.468 L2305.65 288.051 Q2305.65 285.111 2303.71 283.514 Q2301.79 281.893 2298.29 281.893 Q2296.07 281.893 2293.96 282.426 Q2291.86 282.958 2289.91 284.023 L2289.91 280.088 Q2292.25 279.185 2294.45 278.745 Q2296.65 278.282 2298.73 278.282 Q2304.36 278.282 2307.13 281.199 Q2309.91 284.116 2309.91 290.042 Z\" fill=\"#000000\" fill-rule=\"evenodd\" fill-opacity=\"1\" /><path clip-path=\"url(#clip600)\" d=\"M 0 0 M2333.71 282.889 Q2332.99 282.472 2332.13 282.287 Q2331.3 282.079 2330.28 282.079 Q2326.67 282.079 2324.73 284.44 Q2322.8 286.778 2322.8 291.176 L2322.8 304.833 L2318.52 304.833 L2318.52 278.907 L2322.8 278.907 L2322.8 282.935 Q2324.15 280.574 2326.3 279.44 Q2328.45 278.282 2331.53 278.282 Q2331.97 278.282 2332.5 278.352 Q2333.04 278.398 2333.68 278.514 L2333.71 282.889 Z\" fill=\"#000000\" fill-rule=\"evenodd\" fill-opacity=\"1\" /><path clip-path=\"url(#clip600)\" d=\"M 0 0 M2354.4 291.569 Q2354.4 286.94 2352.48 284.393 Q2350.58 281.847 2347.13 281.847 Q2343.71 281.847 2341.79 284.393 Q2339.89 286.94 2339.89 291.569 Q2339.89 296.176 2341.79 298.722 Q2343.71 301.268 2347.13 301.268 Q2350.58 301.268 2352.48 298.722 Q2354.4 296.176 2354.4 291.569 M2358.66 301.616 Q2358.66 308.236 2355.72 311.454 Q2352.78 314.694 2346.72 314.694 Q2344.47 314.694 2342.48 314.347 Q2340.49 314.023 2338.61 313.329 L2338.61 309.185 Q2340.49 310.204 2342.32 310.69 Q2344.15 311.176 2346.05 311.176 Q2350.23 311.176 2352.32 308.977 Q2354.4 306.801 2354.4 302.38 L2354.4 300.273 Q2353.08 302.565 2351.02 303.699 Q2348.96 304.833 2346.09 304.833 Q2341.32 304.833 2338.41 301.199 Q2335.49 297.565 2335.49 291.569 Q2335.49 285.551 2338.41 281.917 Q2341.32 278.282 2346.09 278.282 Q2348.96 278.282 2351.02 279.417 Q2353.08 280.551 2354.4 282.843 L2354.4 278.907 L2358.66 278.907 L2358.66 301.616 Z\" fill=\"#000000\" fill-rule=\"evenodd\" fill-opacity=\"1\" /><path clip-path=\"url(#clip600)\" d=\"M 0 0 M2389.61 290.805 L2389.61 292.889 L2370.03 292.889 Q2370.3 297.287 2372.67 299.602 Q2375.05 301.893 2379.29 301.893 Q2381.74 301.893 2384.03 301.292 Q2386.35 300.69 2388.61 299.486 L2388.61 303.514 Q2386.32 304.486 2383.92 304.995 Q2381.51 305.504 2379.03 305.504 Q2372.83 305.504 2369.19 301.893 Q2365.58 298.282 2365.58 292.125 Q2365.58 285.759 2369.01 282.032 Q2372.46 278.282 2378.29 278.282 Q2383.52 278.282 2386.55 281.662 Q2389.61 285.018 2389.61 290.805 M2385.35 289.555 Q2385.3 286.06 2383.38 283.977 Q2381.48 281.893 2378.34 281.893 Q2374.77 281.893 2372.62 283.907 Q2370.49 285.921 2370.17 289.579 L2385.35 289.555 Z\" fill=\"#000000\" fill-rule=\"evenodd\" fill-opacity=\"1\" /><path clip-path=\"url(#clip600)\" d=\"M 0 0 M2400.81 271.546 L2400.81 278.907 L2409.59 278.907 L2409.59 282.218 L2400.81 282.218 L2400.81 296.292 Q2400.81 299.463 2401.67 300.366 Q2402.55 301.268 2405.21 301.268 L2409.59 301.268 L2409.59 304.833 L2405.21 304.833 Q2400.28 304.833 2398.41 303.004 Q2396.53 301.153 2396.53 296.292 L2396.53 282.218 L2393.41 282.218 L2393.41 278.907 L2396.53 278.907 L2396.53 271.546 L2400.81 271.546 Z\" fill=\"#000000\" fill-rule=\"evenodd\" fill-opacity=\"1\" /><polyline clip-path=\"url(#clip600)\" style=\"stroke:#800000; stroke-width:4; stroke-opacity:1; fill:none\" stroke-dasharray=\"16, 10\" points=\"\n",
       "  1760.2,348.033 1927.61,348.033 \n",
       "  \"/>\n",
       "<path clip-path=\"url(#clip600)\" d=\"M 0 0 M1983.39 333.415 L1983.39 338.346 Q1981.02 336.147 1978.34 335.059 Q1975.68 333.971 1972.67 333.971 Q1966.74 333.971 1963.59 337.605 Q1960.45 341.216 1960.45 348.068 Q1960.45 354.897 1963.59 358.531 Q1966.74 362.142 1972.67 362.142 Q1975.68 362.142 1978.34 361.054 Q1981.02 359.966 1983.39 357.767 L1983.39 362.651 Q1980.93 364.318 1978.18 365.151 Q1975.45 365.984 1972.39 365.984 Q1964.54 365.984 1960.03 361.193 Q1955.51 356.378 1955.51 348.068 Q1955.51 339.735 1960.03 334.943 Q1964.54 330.128 1972.39 330.128 Q1975.49 330.128 1978.22 330.962 Q1980.98 331.772 1983.39 333.415 Z\" fill=\"#000000\" fill-rule=\"evenodd\" fill-opacity=\"1\" /><path clip-path=\"url(#clip600)\" d=\"M 0 0 M1989.98 355.082 L1989.98 339.387 L1994.24 339.387 L1994.24 354.92 Q1994.24 358.6 1995.68 360.452 Q1997.11 362.281 1999.98 362.281 Q2003.43 362.281 2005.42 360.082 Q2007.44 357.883 2007.44 354.086 L2007.44 339.387 L2011.7 339.387 L2011.7 365.313 L2007.44 365.313 L2007.44 361.332 Q2005.88 363.693 2003.82 364.85 Q2001.79 365.984 1999.08 365.984 Q1994.61 365.984 1992.3 363.207 Q1989.98 360.429 1989.98 355.082 M2000.7 338.762 L2000.7 338.762 Z\" fill=\"#000000\" fill-rule=\"evenodd\" fill-opacity=\"1\" /><path clip-path=\"url(#clip600)\" d=\"M 0 0 M2035.49 343.369 Q2034.77 342.952 2033.92 342.767 Q2033.08 342.559 2032.07 342.559 Q2028.45 342.559 2026.51 344.92 Q2024.59 347.258 2024.59 351.656 L2024.59 365.313 L2020.31 365.313 L2020.31 339.387 L2024.59 339.387 L2024.59 343.415 Q2025.93 341.054 2028.08 339.92 Q2030.24 338.762 2033.32 338.762 Q2033.76 338.762 2034.29 338.832 Q2034.82 338.878 2035.47 338.994 L2035.49 343.369 Z\" fill=\"#000000\" fill-rule=\"evenodd\" fill-opacity=\"1\" /><path clip-path=\"url(#clip600)\" d=\"M 0 0 M2054.15 343.369 Q2053.43 342.952 2052.57 342.767 Q2051.74 342.559 2050.72 342.559 Q2047.11 342.559 2045.17 344.92 Q2043.25 347.258 2043.25 351.656 L2043.25 365.313 L2038.96 365.313 L2038.96 339.387 L2043.25 339.387 L2043.25 343.415 Q2044.59 341.054 2046.74 339.92 Q2048.89 338.762 2051.97 338.762 Q2052.41 338.762 2052.94 338.832 Q2053.48 338.878 2054.13 338.994 L2054.15 343.369 Z\" fill=\"#000000\" fill-rule=\"evenodd\" fill-opacity=\"1\" /><path clip-path=\"url(#clip600)\" d=\"M 0 0 M2079.75 351.285 L2079.75 353.369 L2060.17 353.369 Q2060.44 357.767 2062.81 360.082 Q2065.19 362.373 2069.43 362.373 Q2071.88 362.373 2074.17 361.772 Q2076.49 361.17 2078.75 359.966 L2078.75 363.994 Q2076.46 364.966 2074.06 365.475 Q2071.65 365.984 2069.17 365.984 Q2062.97 365.984 2059.33 362.373 Q2055.72 358.762 2055.72 352.605 Q2055.72 346.239 2059.15 342.512 Q2062.6 338.762 2068.43 338.762 Q2073.66 338.762 2076.69 342.142 Q2079.75 345.498 2079.75 351.285 M2075.49 350.035 Q2075.44 346.54 2073.52 344.457 Q2071.63 342.373 2068.48 342.373 Q2064.91 342.373 2062.76 344.387 Q2060.63 346.401 2060.31 350.059 L2075.49 350.035 Z\" fill=\"#000000\" fill-rule=\"evenodd\" fill-opacity=\"1\" /><path clip-path=\"url(#clip600)\" d=\"M 0 0 M2108.29 349.665 L2108.29 365.313 L2104.03 365.313 L2104.03 349.804 Q2104.03 346.123 2102.6 344.295 Q2101.16 342.466 2098.29 342.466 Q2094.84 342.466 2092.85 344.665 Q2090.86 346.864 2090.86 350.66 L2090.86 365.313 L2086.58 365.313 L2086.58 339.387 L2090.86 339.387 L2090.86 343.415 Q2092.39 341.077 2094.45 339.92 Q2096.53 338.762 2099.24 338.762 Q2103.71 338.762 2106 341.54 Q2108.29 344.295 2108.29 349.665 Z\" fill=\"#000000\" fill-rule=\"evenodd\" fill-opacity=\"1\" /><path clip-path=\"url(#clip600)\" d=\"M 0 0 M2121 332.026 L2121 339.387 L2129.77 339.387 L2129.77 342.698 L2121 342.698 L2121 356.772 Q2121 359.943 2121.86 360.846 Q2122.74 361.748 2125.4 361.748 L2129.77 361.748 L2129.77 365.313 L2125.4 365.313 Q2120.47 365.313 2118.59 363.484 Q2116.72 361.633 2116.72 356.772 L2116.72 342.698 L2113.59 342.698 L2113.59 339.387 L2116.72 339.387 L2116.72 332.026 L2121 332.026 Z\" fill=\"#000000\" fill-rule=\"evenodd\" fill-opacity=\"1\" /><path clip-path=\"url(#clip600)\" d=\"M 0 0 M2167.5 343.323 L2167.5 329.295 L2171.76 329.295 L2171.76 365.313 L2167.5 365.313 L2167.5 361.424 Q2166.16 363.739 2164.1 364.873 Q2162.06 365.984 2159.19 365.984 Q2154.5 365.984 2151.53 362.235 Q2148.59 358.485 2148.59 352.373 Q2148.59 346.262 2151.53 342.512 Q2154.5 338.762 2159.19 338.762 Q2162.06 338.762 2164.1 339.897 Q2166.16 341.008 2167.5 343.323 M2152.99 352.373 Q2152.99 357.072 2154.91 359.758 Q2156.86 362.42 2160.24 362.42 Q2163.62 362.42 2165.56 359.758 Q2167.5 357.072 2167.5 352.373 Q2167.5 347.674 2165.56 345.012 Q2163.62 342.327 2160.24 342.327 Q2156.86 342.327 2154.91 345.012 Q2152.99 347.674 2152.99 352.373 Z\" fill=\"#000000\" fill-rule=\"evenodd\" fill-opacity=\"1\" /><path clip-path=\"url(#clip600)\" d=\"M 0 0 M2202.71 351.285 L2202.71 353.369 L2183.13 353.369 Q2183.41 357.767 2185.77 360.082 Q2188.15 362.373 2192.39 362.373 Q2194.84 362.373 2197.13 361.772 Q2199.45 361.17 2201.72 359.966 L2201.72 363.994 Q2199.43 364.966 2197.02 365.475 Q2194.61 365.984 2192.13 365.984 Q2185.93 365.984 2182.3 362.373 Q2178.68 358.762 2178.68 352.605 Q2178.68 346.239 2182.11 342.512 Q2185.56 338.762 2191.39 338.762 Q2196.62 338.762 2199.66 342.142 Q2202.71 345.498 2202.71 351.285 M2198.45 350.035 Q2198.41 346.54 2196.49 344.457 Q2194.59 342.373 2191.44 342.373 Q2187.87 342.373 2185.72 344.387 Q2183.59 346.401 2183.27 350.059 L2198.45 350.035 Z\" fill=\"#000000\" fill-rule=\"evenodd\" fill-opacity=\"1\" /><path clip-path=\"url(#clip600)\" d=\"M 0 0 M2229.89 344.364 Q2231.49 341.494 2233.71 340.128 Q2235.93 338.762 2238.94 338.762 Q2242.99 338.762 2245.19 341.61 Q2247.39 344.434 2247.39 349.665 L2247.39 365.313 L2243.11 365.313 L2243.11 349.804 Q2243.11 346.077 2241.79 344.272 Q2240.47 342.466 2237.76 342.466 Q2234.45 342.466 2232.53 344.665 Q2230.61 346.864 2230.61 350.66 L2230.61 365.313 L2226.32 365.313 L2226.32 349.804 Q2226.32 346.054 2225 344.272 Q2223.68 342.466 2220.93 342.466 Q2217.67 342.466 2215.74 344.688 Q2213.82 346.887 2213.82 350.66 L2213.82 365.313 L2209.54 365.313 L2209.54 339.387 L2213.82 339.387 L2213.82 343.415 Q2215.28 341.031 2217.32 339.897 Q2219.36 338.762 2222.16 338.762 Q2224.98 338.762 2226.95 340.198 Q2228.94 341.633 2229.89 344.364 Z\" fill=\"#000000\" fill-rule=\"evenodd\" fill-opacity=\"1\" /><path clip-path=\"url(#clip600)\" d=\"M 0 0 M2267.67 352.281 Q2262.5 352.281 2260.51 353.461 Q2258.52 354.642 2258.52 357.489 Q2258.52 359.758 2260 361.1 Q2261.51 362.42 2264.08 362.42 Q2267.62 362.42 2269.75 359.92 Q2271.9 357.397 2271.9 353.23 L2271.9 352.281 L2267.67 352.281 M2276.16 350.522 L2276.16 365.313 L2271.9 365.313 L2271.9 361.378 Q2270.44 363.739 2268.27 364.873 Q2266.09 365.984 2262.94 365.984 Q2258.96 365.984 2256.6 363.762 Q2254.26 361.517 2254.26 357.767 Q2254.26 353.392 2257.18 351.17 Q2260.12 348.948 2265.93 348.948 L2271.9 348.948 L2271.9 348.531 Q2271.9 345.591 2269.96 343.994 Q2268.04 342.373 2264.54 342.373 Q2262.32 342.373 2260.21 342.906 Q2258.11 343.438 2256.16 344.503 L2256.16 340.568 Q2258.5 339.665 2260.7 339.225 Q2262.9 338.762 2264.98 338.762 Q2270.61 338.762 2273.38 341.679 Q2276.16 344.596 2276.16 350.522 Z\" fill=\"#000000\" fill-rule=\"evenodd\" fill-opacity=\"1\" /><path clip-path=\"url(#clip600)\" d=\"M 0 0 M2306.49 349.665 L2306.49 365.313 L2302.23 365.313 L2302.23 349.804 Q2302.23 346.123 2300.79 344.295 Q2299.36 342.466 2296.49 342.466 Q2293.04 342.466 2291.05 344.665 Q2289.05 346.864 2289.05 350.66 L2289.05 365.313 L2284.77 365.313 L2284.77 339.387 L2289.05 339.387 L2289.05 343.415 Q2290.58 341.077 2292.64 339.92 Q2294.73 338.762 2297.43 338.762 Q2301.9 338.762 2304.19 341.54 Q2306.49 344.295 2306.49 349.665 Z\" fill=\"#000000\" fill-rule=\"evenodd\" fill-opacity=\"1\" /><path clip-path=\"url(#clip600)\" d=\"M 0 0 M2332.04 343.323 L2332.04 329.295 L2336.3 329.295 L2336.3 365.313 L2332.04 365.313 L2332.04 361.424 Q2330.7 363.739 2328.64 364.873 Q2326.6 365.984 2323.73 365.984 Q2319.03 365.984 2316.07 362.235 Q2313.13 358.485 2313.13 352.373 Q2313.13 346.262 2316.07 342.512 Q2319.03 338.762 2323.73 338.762 Q2326.6 338.762 2328.64 339.897 Q2330.7 341.008 2332.04 343.323 M2317.53 352.373 Q2317.53 357.072 2319.45 359.758 Q2321.39 362.42 2324.77 362.42 Q2328.15 362.42 2330.1 359.758 Q2332.04 357.072 2332.04 352.373 Q2332.04 347.674 2330.1 345.012 Q2328.15 342.327 2324.77 342.327 Q2321.39 342.327 2319.45 345.012 Q2317.53 347.674 2317.53 352.373 Z\" fill=\"#000000\" fill-rule=\"evenodd\" fill-opacity=\"1\" /></svg>\n"
      ]
     },
     "execution_count": 32,
     "metadata": {},
     "output_type": "execute_result"
    }
   ],
   "source": [
    "function plot_caltech(cuts, curves)\n",
    "    pl = plot(xlabel=\"cutoff (p)\", ylabel=\"demand (number of students)\",\n",
    "              size=(700, 500))\n",
    "    \n",
    "    colors = [:crimson, :dodgerblue, :olivedrab, :rebeccapurple]\n",
    "    \n",
    "    c = 1\n",
    "    i = 677\n",
    "    \n",
    "    plot!(pl,\n",
    "          cuts, \n",
    "          curves[:, c],\n",
    "          label=\"Demand curve (MNL model)\",#invopt_results[i, :name],\n",
    "          color = colors[c])\n",
    "\n",
    "\n",
    "    plot!(pl, [cuts[1], cuts[end]], b .+ m * [cuts[1], cuts[end]],\n",
    "      ls=:dot, color = :crimson, label=\"Demand curve (linear fit)\")\n",
    "\n",
    "\n",
    "\n",
    "    hline!(pl,\n",
    "        [350],\n",
    "           ls=:dashdot, c=:coral, label=\"Hypothetical target\")\n",
    "\n",
    "    hline!(pl,\n",
    "           [invopt_results[i, :demand]],\n",
    "           color = :maroon, ls=:dash, label=\"Current demand\")\n",
    "    \n",
    "    return pl\n",
    "end\n",
    "\n",
    "caltech_plot = plot_caltech(caltech...)"
   ]
  },
  {
   "cell_type": "code",
   "execution_count": 52,
   "metadata": {},
   "outputs": [
    {
     "data": {
      "text/plain": [
       "0.9437941480008459"
      ]
     },
     "execution_count": 52,
     "metadata": {},
     "output_type": "execute_result"
    }
   ],
   "source": [
    "# Target cutoff predicted by my model\n",
    "b2, m2 = [[1, 1] caltech[1][8:9]] \\ caltech[2][8:9]\n",
    "(350 - b2) / m2"
   ]
  },
  {
   "cell_type": "code",
   "execution_count": 50,
   "metadata": {},
   "outputs": [
    {
     "data": {
      "text/plain": [
       "0.9437941480008459"
      ]
     },
     "execution_count": 50,
     "metadata": {},
     "output_type": "execute_result"
    }
   ],
   "source": []
  },
  {
   "cell_type": "code",
   "execution_count": 31,
   "metadata": {},
   "outputs": [],
   "source": [
    "# savefig(allthree_plot, \"paper/plots/three-demand-curves.pdf\")\n",
    "# savefig(allthree_plot, \"paper/plots/three-demand-curves.png\")\n",
    "\n",
    "# savefig(caltech_plot, \"paper/plots/caltech-demand-curve.pdf\")\n",
    "# savefig(caltech_plot, \"paper/plots/caltech-demand-curve.png\")"
   ]
  },
  {
   "cell_type": "code",
   "execution_count": null,
   "metadata": {},
   "outputs": [],
   "source": []
  },
  {
   "cell_type": "code",
   "execution_count": null,
   "metadata": {},
   "outputs": [],
   "source": []
  }
 ],
 "metadata": {
  "kernelspec": {
   "display_name": "Julia 1.6.1",
   "language": "julia",
   "name": "julia-1.6"
  },
  "language_info": {
   "file_extension": ".jl",
   "mimetype": "application/julia",
   "name": "julia",
   "version": "1.6.1"
  }
 },
 "nbformat": 4,
 "nbformat_minor": 4
}
